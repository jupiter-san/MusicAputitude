{
 "cells": [
  {
   "cell_type": "code",
   "execution_count": 1,
   "metadata": {},
   "outputs": [
    {
     "name": "stdout",
     "output_type": "stream",
     "text": [
      "/home/j/MusicAputitude/git_conn\n"
     ]
    }
   ],
   "source": [
    "import os\n",
    "import shutil\n",
    "current_dir = os.getcwd()\n",
    "print(current_dir)\n"
   ]
  },
  {
   "cell_type": "code",
   "execution_count": 3,
   "metadata": {},
   "outputs": [],
   "source": [
    "os.mkdir(\"train_m3\")\n",
    "os.mkdir(\"train_m3/ARASHI\")\n",
    "os.mkdir(\"train_m3/MRCHILDREN\")\n",
    "os.mkdir(\"train_m3/NAGABUCHI\")\n",
    "os.mkdir(\"train_m3/SOUTHEN\")\n",
    "os.mkdir(\"train_m3/SPITZ\")\n",
    "os.mkdir(\"train_m3/TANIMURA\")\n",
    "os.mkdir(\"train_m3/YONE\")\n",
    "os.mkdir(\"train_m3/YUZU\")"
   ]
  },
  {
   "cell_type": "code",
   "execution_count": 4,
   "metadata": {},
   "outputs": [],
   "source": [
    "os.mkdir(\"test_m3\")\n",
    "os.mkdir(\"test_m3/ARASHI\")\n",
    "os.mkdir(\"test_m3/MRCHILDREN\")\n",
    "os.mkdir(\"test_m3/NAGABUCHI\")\n",
    "os.mkdir(\"test_m3/SOUTHEN\")\n",
    "os.mkdir(\"test_m3/SPITZ\")\n",
    "os.mkdir(\"test_m3/TANIMURA\")\n",
    "os.mkdir(\"test_m3/YONE\")\n",
    "os.mkdir(\"test_m3/YUZU\")"
   ]
  },
  {
   "cell_type": "code",
   "execution_count": 5,
   "metadata": {},
   "outputs": [],
   "source": [
    "ori_dir = \"../music/ARASHI/image_data\"\n",
    "file_cnt = sum(os.path.isfile(os.path.join(ori_dir,name)) for name in os.listdir(ori_dir))\n",
    "wk1 = ori_dir.split(\"/\")[-2]\n",
    "file_list = os.listdir(ori_dir)\n",
    "\n",
    "train_dir = os.path.join(\"train_m3/\",wk1)\n",
    "for file in file_list[:348]:\n",
    "    shutil.copy(os.path.join(ori_dir,file),train_dir)\n",
    "\n",
    "test_dir = os.path.join(\"test_m3/\",wk1)\n",
    "for file in file_list[348:465]:\n",
    "    shutil.copy(os.path.join(ori_dir,file),test_dir)\n",
    "\n",
    "# train_dir = os.path.join(\"train/\",wk1)\n",
    "# for file in file_list[:int(file_cnt * 0.75)]:\n",
    "#     shutil.copy(os.path.join(ori_dir,file),train_dir)\n",
    "\n",
    "# test_dir = os.path.join(\"test/\",wk1)\n",
    "# for file in file_list[int(file_cnt * 0.75):]:\n",
    "#     shutil.copy(os.path.join(ori_dir,file),test_dir)\n"
   ]
  },
  {
   "cell_type": "code",
   "execution_count": 6,
   "metadata": {},
   "outputs": [],
   "source": [
    "ori_dir = \"../music/MRCHILDREN/image_data\"\n",
    "file_cnt = sum(os.path.isfile(os.path.join(ori_dir,name)) for name in os.listdir(ori_dir))\n",
    "wk1 = ori_dir.split(\"/\")[-2]\n",
    "file_list = os.listdir(ori_dir)\n",
    "\n",
    "train_dir = os.path.join(\"train_m3/\",wk1)\n",
    "for file in file_list[:348]:\n",
    "    shutil.copy(os.path.join(ori_dir,file),train_dir)\n",
    "\n",
    "test_dir = os.path.join(\"test_m3/\",wk1)\n",
    "for file in file_list[348:465]:\n",
    "    shutil.copy(os.path.join(ori_dir,file),test_dir)\n"
   ]
  },
  {
   "cell_type": "code",
   "execution_count": 7,
   "metadata": {},
   "outputs": [],
   "source": [
    "ori_dir = \"../music/NAGABUCHI/image_data\"\n",
    "file_cnt = sum(os.path.isfile(os.path.join(ori_dir,name)) for name in os.listdir(ori_dir))\n",
    "wk1 = ori_dir.split(\"/\")[-2]\n",
    "file_list = os.listdir(ori_dir)\n",
    "\n",
    "train_dir = os.path.join(\"train_m3/\",wk1)\n",
    "for file in file_list[:348]:\n",
    "    shutil.copy(os.path.join(ori_dir,file),train_dir)\n",
    "\n",
    "test_dir = os.path.join(\"test_m3/\",wk1)\n",
    "for file in file_list[348:465]:\n",
    "    shutil.copy(os.path.join(ori_dir,file),test_dir)\n"
   ]
  },
  {
   "cell_type": "code",
   "execution_count": 8,
   "metadata": {},
   "outputs": [],
   "source": [
    "ori_dir = \"../music/SOUTHEN/image_data\"\n",
    "file_cnt = sum(os.path.isfile(os.path.join(ori_dir,name)) for name in os.listdir(ori_dir))\n",
    "wk1 = ori_dir.split(\"/\")[-2]\n",
    "file_list = os.listdir(ori_dir)\n",
    "\n",
    "train_dir = os.path.join(\"train_m3/\",wk1)\n",
    "for file in file_list[:348]:\n",
    "    shutil.copy(os.path.join(ori_dir,file),train_dir)\n",
    "\n",
    "test_dir = os.path.join(\"test_m3/\",wk1)\n",
    "for file in file_list[348:465]:\n",
    "    shutil.copy(os.path.join(ori_dir,file),test_dir)"
   ]
  },
  {
   "cell_type": "code",
   "execution_count": 9,
   "metadata": {},
   "outputs": [],
   "source": [
    "ori_dir = \"../music/SPITZ/image_data\"\n",
    "file_cnt = sum(os.path.isfile(os.path.join(ori_dir,name)) for name in os.listdir(ori_dir))\n",
    "wk1 = ori_dir.split(\"/\")[-2]\n",
    "file_list = os.listdir(ori_dir)\n",
    "\n",
    "train_dir = os.path.join(\"train_m3/\",wk1)\n",
    "for file in file_list[:348]:\n",
    "    shutil.copy(os.path.join(ori_dir,file),train_dir)\n",
    "\n",
    "test_dir = os.path.join(\"test_m3/\",wk1)\n",
    "for file in file_list[348:465]:\n",
    "    shutil.copy(os.path.join(ori_dir,file),test_dir)"
   ]
  },
  {
   "cell_type": "code",
   "execution_count": 10,
   "metadata": {},
   "outputs": [],
   "source": [
    "ori_dir = \"../music/TANIMURA/image_data\"\n",
    "file_cnt = sum(os.path.isfile(os.path.join(ori_dir,name)) for name in os.listdir(ori_dir))\n",
    "wk1 = ori_dir.split(\"/\")[-2]\n",
    "file_list = os.listdir(ori_dir)\n",
    "\n",
    "train_dir = os.path.join(\"train_m3/\",wk1)\n",
    "for file in file_list[:348]:\n",
    "    shutil.copy(os.path.join(ori_dir,file),train_dir)\n",
    "\n",
    "test_dir = os.path.join(\"test_m3/\",wk1)\n",
    "for file in file_list[348:465]:\n",
    "    shutil.copy(os.path.join(ori_dir,file),test_dir)\n"
   ]
  },
  {
   "cell_type": "code",
   "execution_count": 11,
   "metadata": {},
   "outputs": [],
   "source": [
    "ori_dir = \"../music/YONE/image_data\"\n",
    "file_cnt = sum(os.path.isfile(os.path.join(ori_dir,name)) for name in os.listdir(ori_dir))\n",
    "wk1 = ori_dir.split(\"/\")[-2]\n",
    "file_list = os.listdir(ori_dir)\n",
    "\n",
    "train_dir = os.path.join(\"train_m3/\",wk1)\n",
    "for file in file_list[:348]:\n",
    "    shutil.copy(os.path.join(ori_dir,file),train_dir)\n",
    "\n",
    "test_dir = os.path.join(\"test_m3/\",wk1)\n",
    "for file in file_list[348:465]:\n",
    "    shutil.copy(os.path.join(ori_dir,file),test_dir)"
   ]
  },
  {
   "cell_type": "code",
   "execution_count": 12,
   "metadata": {},
   "outputs": [],
   "source": [
    "ori_dir = \"../music/YUZU/image_data\"\n",
    "file_cnt = sum(os.path.isfile(os.path.join(ori_dir,name)) for name in os.listdir(ori_dir))\n",
    "wk1 = ori_dir.split(\"/\")[-2]\n",
    "file_list = os.listdir(ori_dir)\n",
    "\n",
    "train_dir = os.path.join(\"train_m3/\",wk1)\n",
    "for file in file_list[:348]:\n",
    "    shutil.copy(os.path.join(ori_dir,file),train_dir)\n",
    "\n",
    "test_dir = os.path.join(\"test_m3/\",wk1)\n",
    "for file in file_list[348:465]:\n",
    "    shutil.copy(os.path.join(ori_dir,file),test_dir)\n"
   ]
  }
 ],
 "metadata": {
  "kernelspec": {
   "display_name": "py310a",
   "language": "python",
   "name": "python3"
  },
  "language_info": {
   "codemirror_mode": {
    "name": "ipython",
    "version": 3
   },
   "file_extension": ".py",
   "mimetype": "text/x-python",
   "name": "python",
   "nbconvert_exporter": "python",
   "pygments_lexer": "ipython3",
   "version": "3.10.12"
  }
 },
 "nbformat": 4,
 "nbformat_minor": 2
}
