{
 "cells": [
  {
   "cell_type": "code",
   "execution_count": 2,
   "metadata": {},
   "outputs": [],
   "source": [
    "import os\n",
    "import librosa\n",
    "import librosa.display\n",
    "import matplotlib.pyplot as plt\n",
    "import numpy as np\n",
    "import pandas as pd\n",
    "\n",
    "# 曲をメルスペクトログラムに変換し、画像にして保存するSUB\n",
    "def melspectrogram_conv(y,sr,s_name):\n",
    "    # n_mels is number of Mel bands to generate\n",
    "    n_mels=128\n",
    "    # hop_length is number of samples between successive frames.\n",
    "    hop_length=2068\n",
    "    # n_fft is length of the FFT window\n",
    "    n_fft=2048\n",
    "    # Passing through arguments to the Mel filters\n",
    "    S = librosa.feature.melspectrogram(y=y, sr=sr, n_mels=n_mels, hop_length=hop_length, n_fft=n_fft)\n",
    "    log_S = librosa.power_to_db(S, ref=np.max)\n",
    "    #print(log_S.shape)\n",
    "    plt.figure(figsize=(12, 4),dpi=20)\n",
    "    librosa.display.specshow(data=log_S, sr=sr, hop_length=hop_length, x_axis='time', y_axis='mel')\n",
    "    plt.title('Mel spectrogram')\n",
    "    plt.tight_layout()\n",
    "    plt.axis('off')\n",
    "    plt.subplots_adjust(left=0,right=1,bottom=0,top=1)\n",
    "    plt.savefig(s_name,format=\"png\")\n",
    "    plt.close()\n",
    "\n",
    "\n",
    "dir_name =\"../music\"\n",
    "\n",
    "for current_dir,dirs,files in os.walk(dir_name):\n",
    "    for file in files:\n",
    "        # mp3データのみ以下の処理を行う\n",
    "        if file.rsplit(\".\")[-1] == \"mp3\":\n",
    "            file_name = os.path.join(current_dir,file)\n",
    "            file_noext = os.path.splitext(file)[0]\n",
    "            new_file_path = os.path.join(current_dir.replace(\"mp3_data\", \"image_data\")) \n",
    "\n",
    "            # 保存ディレクトリが存在しないと書き出し時にエラーになるので、存在確認＆作成\n",
    "            if not os.path.exists(new_file_path):\n",
    "                os.makedirs(new_file_path)\n",
    "        \n",
    "            offset = 0.0\n",
    "            i = 1\n",
    "            # 曲のはじめから60秒ごとに分割。\n",
    "            # offset 開始秒を60秒ずつずらすことで、60秒ごとにデータを分割\n",
    "            while True:\n",
    "                # Load a flac file from 0(s) to 60(s) and resample to 4.41 KHz\n",
    "                y, sr = librosa.load(file_name, sr=4410, offset=offset, duration=60.0)\n",
    "                # 最後の60秒未満は捨てる。\n",
    "                if y.shape[0] / sr < 60: break\n",
    "                # メルスペクトグラム画像の書き出し\n",
    "                #　music/{musician}/image_data/ファイル名_01.png　の形式\n",
    "                s_name = os.path.join(new_file_path,f'{file_noext}_{i:02}.png')\n",
    "                melspectrogram_conv(y,sr,s_name)\n",
    "                # 次の分割の読み込み\n",
    "                offset += 60\n",
    "                i += 1\n",
    "                \n"
   ]
  },
  {
   "cell_type": "code",
   "execution_count": 3,
   "metadata": {},
   "outputs": [],
   "source": [
    "# Target の作成\n",
    "name_list = []\n",
    "for current_dir,dirs,files in os.walk(dir_name):\n",
    "    for file in files:\n",
    "        # pngデータのみ以下の処理を行う\n",
    "        if file.rsplit(\".\")[-1] == \"png\":\n",
    "            label_name = current_dir.rsplit(\"/\")[-2]\n",
    "            henkan = {\"ARASHI\":0,\"MRCHILDREN\":1,\"NAGABUCHI\":2,\"SOUTHEN\":3,\"SPITZ\":4,\"TANIMURA\":5,\"YONE\":6,\"YUZU\":7}\n",
    "            name_list.append([s_name,label_name,henkan[label_name]])\n",
    "df = pd.DataFrame(name_list,columns=[\"file\",\"label_name\",\"label_code\"])\n"
   ]
  },
  {
   "cell_type": "code",
   "execution_count": 4,
   "metadata": {},
   "outputs": [
    {
     "data": {
      "text/plain": [
       "label_name\n",
       "TANIMURA      593\n",
       "ARASHI        321\n",
       "MRCHILDREN    281\n",
       "YUZU          205\n",
       "NAGABUCHI     188\n",
       "SPITZ         164\n",
       "YONE          161\n",
       "SOUTHEN       107\n",
       "Name: count, dtype: int64"
      ]
     },
     "execution_count": 4,
     "metadata": {},
     "output_type": "execute_result"
    }
   ],
   "source": [
    "df['label_name'].value_counts()"
   ]
  },
  {
   "cell_type": "code",
   "execution_count": 25,
   "metadata": {},
   "outputs": [],
   "source": [
    "df.to_csv(os.path.join(os.getcwd(), \"music_label.csv\"))"
   ]
  }
 ],
 "metadata": {
  "kernelspec": {
   "display_name": "py310a",
   "language": "python",
   "name": "python3"
  },
  "language_info": {
   "codemirror_mode": {
    "name": "ipython",
    "version": 3
   },
   "file_extension": ".py",
   "mimetype": "text/x-python",
   "name": "python",
   "nbconvert_exporter": "python",
   "pygments_lexer": "ipython3",
   "version": "3.10.12"
  }
 },
 "nbformat": 4,
 "nbformat_minor": 2
}
