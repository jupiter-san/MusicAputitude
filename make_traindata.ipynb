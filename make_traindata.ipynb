{
 "cells": [
  {
   "cell_type": "code",
   "execution_count": 2,
   "metadata": {},
   "outputs": [
    {
     "name": "stdout",
     "output_type": "stream",
     "text": [
      "/home/j/MusicAputitude/git_conn\n"
     ]
    }
   ],
   "source": [
    "import os\n",
    "import shutil\n",
    "current_dir = os.getcwd()\n",
    "print(current_dir)\n"
   ]
  },
  {
   "cell_type": "code",
   "execution_count": 13,
   "metadata": {},
   "outputs": [],
   "source": [
    "os.mkdir(\"train\")\n",
    "os.mkdir(\"train/ARASHI\")\n",
    "os.mkdir(\"train/MRCHILDREN\")\n",
    "os.mkdir(\"train/NAGABUCHI\")\n",
    "os.mkdir(\"train/SOUTHEN\")\n",
    "os.mkdir(\"train/SPITZ\")\n",
    "os.mkdir(\"train/TANIMURA\")\n",
    "os.mkdir(\"train/YONE\")\n",
    "os.mkdir(\"train/YUZU\")"
   ]
  },
  {
   "cell_type": "code",
   "execution_count": 14,
   "metadata": {},
   "outputs": [],
   "source": [
    "os.mkdir(\"test\")\n",
    "os.mkdir(\"test/ARASHI\")\n",
    "os.mkdir(\"test/MRCHILDREN\")\n",
    "os.mkdir(\"test/NAGABUCHI\")\n",
    "os.mkdir(\"test/SOUTHEN\")\n",
    "os.mkdir(\"test/SPITZ\")\n",
    "os.mkdir(\"test/TANIMURA\")\n",
    "os.mkdir(\"test/YONE\")\n",
    "os.mkdir(\"test/YUZU\")"
   ]
  },
  {
   "cell_type": "code",
   "execution_count": 15,
   "metadata": {},
   "outputs": [],
   "source": [
    "ori_dir = \"../music/ARASHI/image_data\"\n",
    "file_cnt = sum(os.path.isfile(os.path.join(ori_dir,name)) for name in os.listdir(ori_dir))\n",
    "wk1 = ori_dir.split(\"/\")[-2]\n",
    "file_list = os.listdir(ori_dir)\n",
    "\n",
    "train_dir = os.path.join(\"train/\",wk1)\n",
    "for file in file_list[:80]:\n",
    "    shutil.copy(os.path.join(ori_dir,file),train_dir)\n",
    "\n",
    "test_dir = os.path.join(\"test/\",wk1)\n",
    "for file in file_list[80:107]:\n",
    "    shutil.copy(os.path.join(ori_dir,file),test_dir)\n",
    "\n",
    "# train_dir = os.path.join(\"train/\",wk1)\n",
    "# for file in file_list[:int(file_cnt * 0.75)]:\n",
    "#     shutil.copy(os.path.join(ori_dir,file),train_dir)\n",
    "\n",
    "# test_dir = os.path.join(\"test/\",wk1)\n",
    "# for file in file_list[int(file_cnt * 0.75):]:\n",
    "#     shutil.copy(os.path.join(ori_dir,file),test_dir)\n"
   ]
  },
  {
   "cell_type": "code",
   "execution_count": 16,
   "metadata": {},
   "outputs": [],
   "source": [
    "ori_dir = \"../music/MRCHILDREN/image_data\"\n",
    "file_cnt = sum(os.path.isfile(os.path.join(ori_dir,name)) for name in os.listdir(ori_dir))\n",
    "wk1 = ori_dir.split(\"/\")[-2]\n",
    "file_list = os.listdir(ori_dir)\n",
    "\n",
    "train_dir = os.path.join(\"train/\",wk1)\n",
    "for file in file_list[:80]:\n",
    "    shutil.copy(os.path.join(ori_dir,file),train_dir)\n",
    "\n",
    "test_dir = os.path.join(\"test/\",wk1)\n",
    "for file in file_list[80:107]:\n",
    "    shutil.copy(os.path.join(ori_dir,file),test_dir)\n"
   ]
  },
  {
   "cell_type": "code",
   "execution_count": 17,
   "metadata": {},
   "outputs": [],
   "source": [
    "ori_dir = \"../music/NAGABUCHI/image_data\"\n",
    "file_cnt = sum(os.path.isfile(os.path.join(ori_dir,name)) for name in os.listdir(ori_dir))\n",
    "wk1 = ori_dir.split(\"/\")[-2]\n",
    "file_list = os.listdir(ori_dir)\n",
    "\n",
    "train_dir = os.path.join(\"train/\",wk1)\n",
    "for file in file_list[:80]:\n",
    "    shutil.copy(os.path.join(ori_dir,file),train_dir)\n",
    "\n",
    "test_dir = os.path.join(\"test/\",wk1)\n",
    "for file in file_list[80:107]:\n",
    "    shutil.copy(os.path.join(ori_dir,file),test_dir)\n"
   ]
  },
  {
   "cell_type": "code",
   "execution_count": 18,
   "metadata": {},
   "outputs": [],
   "source": [
    "ori_dir = \"../music/SOUTHEN/image_data\"\n",
    "file_cnt = sum(os.path.isfile(os.path.join(ori_dir,name)) for name in os.listdir(ori_dir))\n",
    "wk1 = ori_dir.split(\"/\")[-2]\n",
    "file_list = os.listdir(ori_dir)\n",
    "\n",
    "train_dir = os.path.join(\"train/\",wk1)\n",
    "for file in file_list[:80]:\n",
    "    shutil.copy(os.path.join(ori_dir,file),train_dir)\n",
    "\n",
    "test_dir = os.path.join(\"test/\",wk1)\n",
    "for file in file_list[80:107]:\n",
    "    shutil.copy(os.path.join(ori_dir,file),test_dir)"
   ]
  },
  {
   "cell_type": "code",
   "execution_count": 19,
   "metadata": {},
   "outputs": [],
   "source": [
    "ori_dir = \"../music/SPITZ/image_data\"\n",
    "file_cnt = sum(os.path.isfile(os.path.join(ori_dir,name)) for name in os.listdir(ori_dir))\n",
    "wk1 = ori_dir.split(\"/\")[-2]\n",
    "file_list = os.listdir(ori_dir)\n",
    "\n",
    "train_dir = os.path.join(\"train/\",wk1)\n",
    "for file in file_list[:80]:\n",
    "    shutil.copy(os.path.join(ori_dir,file),train_dir)\n",
    "\n",
    "test_dir = os.path.join(\"test/\",wk1)\n",
    "for file in file_list[80:107]:\n",
    "    shutil.copy(os.path.join(ori_dir,file),test_dir)"
   ]
  },
  {
   "cell_type": "code",
   "execution_count": 20,
   "metadata": {},
   "outputs": [],
   "source": [
    "ori_dir = \"../music/TANIMURA/image_data\"\n",
    "file_cnt = sum(os.path.isfile(os.path.join(ori_dir,name)) for name in os.listdir(ori_dir))\n",
    "wk1 = ori_dir.split(\"/\")[-2]\n",
    "file_list = os.listdir(ori_dir)\n",
    "\n",
    "train_dir = os.path.join(\"train/\",wk1)\n",
    "for file in file_list[:80]:\n",
    "    shutil.copy(os.path.join(ori_dir,file),train_dir)\n",
    "\n",
    "test_dir = os.path.join(\"test/\",wk1)\n",
    "for file in file_list[80:107]:\n",
    "    shutil.copy(os.path.join(ori_dir,file),test_dir)\n"
   ]
  },
  {
   "cell_type": "code",
   "execution_count": 21,
   "metadata": {},
   "outputs": [],
   "source": [
    "ori_dir = \"../music/YONE/image_data\"\n",
    "file_cnt = sum(os.path.isfile(os.path.join(ori_dir,name)) for name in os.listdir(ori_dir))\n",
    "wk1 = ori_dir.split(\"/\")[-2]\n",
    "file_list = os.listdir(ori_dir)\n",
    "\n",
    "train_dir = os.path.join(\"train/\",wk1)\n",
    "for file in file_list[:80]:\n",
    "    shutil.copy(os.path.join(ori_dir,file),train_dir)\n",
    "\n",
    "test_dir = os.path.join(\"test/\",wk1)\n",
    "for file in file_list[80:107]:\n",
    "    shutil.copy(os.path.join(ori_dir,file),test_dir)"
   ]
  },
  {
   "cell_type": "code",
   "execution_count": 22,
   "metadata": {},
   "outputs": [],
   "source": [
    "ori_dir = \"../music/YUZU/image_data\"\n",
    "file_cnt = sum(os.path.isfile(os.path.join(ori_dir,name)) for name in os.listdir(ori_dir))\n",
    "wk1 = ori_dir.split(\"/\")[-2]\n",
    "file_list = os.listdir(ori_dir)\n",
    "\n",
    "train_dir = os.path.join(\"train/\",wk1)\n",
    "for file in file_list[:80]:\n",
    "    shutil.copy(os.path.join(ori_dir,file),train_dir)\n",
    "\n",
    "test_dir = os.path.join(\"test/\",wk1)\n",
    "for file in file_list[80:107]:\n",
    "    shutil.copy(os.path.join(ori_dir,file),test_dir)\n"
   ]
  }
 ],
 "metadata": {
  "kernelspec": {
   "display_name": "py310a",
   "language": "python",
   "name": "python3"
  },
  "language_info": {
   "codemirror_mode": {
    "name": "ipython",
    "version": 3
   },
   "file_extension": ".py",
   "mimetype": "text/x-python",
   "name": "python",
   "nbconvert_exporter": "python",
   "pygments_lexer": "ipython3",
   "version": "3.10.12"
  }
 },
 "nbformat": 4,
 "nbformat_minor": 2
}
