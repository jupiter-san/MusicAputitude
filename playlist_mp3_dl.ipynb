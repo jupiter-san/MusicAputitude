{
 "cells": [
  {
   "cell_type": "code",
   "execution_count": 2,
   "metadata": {},
   "outputs": [
    {
     "name": "stdout",
     "output_type": "stream",
     "text": [
      "Requirement already satisfied: moviepy in /home/j/venv/py310/lib/python3.10/site-packages (2.1.2)\n",
      "Requirement already satisfied: decorator<6.0,>=4.0.2 in /home/j/venv/py310/lib/python3.10/site-packages (from moviepy) (5.1.1)\n",
      "Requirement already satisfied: imageio<3.0,>=2.5 in /home/j/venv/py310/lib/python3.10/site-packages (from moviepy) (2.36.1)\n",
      "Requirement already satisfied: proglog<=1.0.0 in /home/j/venv/py310/lib/python3.10/site-packages (from moviepy) (0.1.10)\n",
      "Requirement already satisfied: imageio_ffmpeg>=0.2.0 in /home/j/venv/py310/lib/python3.10/site-packages (from moviepy) (0.5.1)\n",
      "Requirement already satisfied: pillow<11.0,>=9.2.0 in /home/j/venv/py310/lib/python3.10/site-packages (from moviepy) (10.4.0)\n",
      "Requirement already satisfied: numpy>=1.25.0 in /home/j/venv/py310/lib/python3.10/site-packages (from moviepy) (1.26.4)\n",
      "Requirement already satisfied: python-dotenv>=0.10 in /home/j/venv/py310/lib/python3.10/site-packages (from moviepy) (1.0.1)\n",
      "Requirement already satisfied: setuptools in /home/j/venv/py310/lib/python3.10/site-packages (from imageio_ffmpeg>=0.2.0->moviepy) (59.6.0)\n",
      "Requirement already satisfied: tqdm in /home/j/venv/py310/lib/python3.10/site-packages (from proglog<=1.0.0->moviepy) (4.66.5)\n",
      "Note: you may need to restart the kernel to use updated packages.\n"
     ]
    }
   ],
   "source": [
    "pip install moviepy\n"
   ]
  },
  {
   "cell_type": "code",
   "execution_count": 3,
   "metadata": {},
   "outputs": [
    {
     "name": "stdout",
     "output_type": "stream",
     "text": [
      "Collecting moviepy==2.0.0.dev2\n",
      "  Downloading moviepy-2.0.0.dev2.tar.gz (400 kB)\n",
      "\u001b[2K     \u001b[90m━━━━━━━━━━━━━━━━━━━━━━━━━━━━━━━━━━━━━━━\u001b[0m \u001b[32m400.1/400.1 KB\u001b[0m \u001b[31m5.6 MB/s\u001b[0m eta \u001b[36m0:00:00\u001b[0m00:01\u001b[0m00:01\u001b[0m\n",
      "\u001b[?25h  Preparing metadata (setup.py) ... \u001b[?25ldone\n",
      "\u001b[?25hCollecting decorator<5.0,>=4.0.2\n",
      "  Downloading decorator-4.4.2-py2.py3-none-any.whl (9.2 kB)\n",
      "Requirement already satisfied: imageio<3.0,>=2.5 in /home/j/venv/py310/lib/python3.10/site-packages (from moviepy==2.0.0.dev2) (2.36.1)\n",
      "Requirement already satisfied: imageio_ffmpeg>=0.2.0 in /home/j/venv/py310/lib/python3.10/site-packages (from moviepy==2.0.0.dev2) (0.5.1)\n",
      "Requirement already satisfied: numpy>=1.17.3 in /home/j/venv/py310/lib/python3.10/site-packages (from moviepy==2.0.0.dev2) (1.26.4)\n",
      "Requirement already satisfied: proglog<=1.0.0 in /home/j/venv/py310/lib/python3.10/site-packages (from moviepy==2.0.0.dev2) (0.1.10)\n",
      "Requirement already satisfied: requests<3.0,>=2.8.1 in /home/j/venv/py310/lib/python3.10/site-packages (from moviepy==2.0.0.dev2) (2.32.3)\n",
      "Requirement already satisfied: pillow>=8.3.2 in /home/j/venv/py310/lib/python3.10/site-packages (from imageio<3.0,>=2.5->moviepy==2.0.0.dev2) (10.4.0)\n",
      "Requirement already satisfied: setuptools in /home/j/venv/py310/lib/python3.10/site-packages (from imageio_ffmpeg>=0.2.0->moviepy==2.0.0.dev2) (59.6.0)\n",
      "Requirement already satisfied: tqdm in /home/j/venv/py310/lib/python3.10/site-packages (from proglog<=1.0.0->moviepy==2.0.0.dev2) (4.66.5)\n",
      "Requirement already satisfied: idna<4,>=2.5 in /home/j/venv/py310/lib/python3.10/site-packages (from requests<3.0,>=2.8.1->moviepy==2.0.0.dev2) (3.7)\n",
      "Requirement already satisfied: certifi>=2017.4.17 in /home/j/venv/py310/lib/python3.10/site-packages (from requests<3.0,>=2.8.1->moviepy==2.0.0.dev2) (2024.7.4)\n",
      "Requirement already satisfied: urllib3<3,>=1.21.1 in /home/j/venv/py310/lib/python3.10/site-packages (from requests<3.0,>=2.8.1->moviepy==2.0.0.dev2) (2.2.2)\n",
      "Requirement already satisfied: charset-normalizer<4,>=2 in /home/j/venv/py310/lib/python3.10/site-packages (from requests<3.0,>=2.8.1->moviepy==2.0.0.dev2) (3.3.2)\n",
      "Building wheels for collected packages: moviepy\n",
      "  Building wheel for moviepy (setup.py) ... \u001b[?25ldone\n",
      "\u001b[?25h  Created wheel for moviepy: filename=moviepy-2.0.0.dev2-py3-none-any.whl size=111689 sha256=c7e69a6c89250b0ffe41c80f937c55121bd207182dba77e20e6327ca9b23113c\n",
      "  Stored in directory: /home/j/.cache/pip/wheels/90/13/30/9ccaa367cb61879edc46aa6ccb17484809aff8a3145f1adc07\n",
      "Successfully built moviepy\n",
      "Installing collected packages: decorator, moviepy\n",
      "  Attempting uninstall: decorator\n",
      "    Found existing installation: decorator 5.1.1\n",
      "    Uninstalling decorator-5.1.1:\n",
      "      Successfully uninstalled decorator-5.1.1\n",
      "  Attempting uninstall: moviepy\n",
      "    Found existing installation: moviepy 2.1.2\n",
      "    Uninstalling moviepy-2.1.2:\n",
      "      Successfully uninstalled moviepy-2.1.2\n",
      "Successfully installed decorator-4.4.2 moviepy-2.0.0.dev2\n",
      "Note: you may need to restart the kernel to use updated packages.\n"
     ]
    }
   ],
   "source": [
    "pip install moviepy==2.0.0.dev2"
   ]
  },
  {
   "cell_type": "code",
   "execution_count": 1,
   "metadata": {},
   "outputs": [
    {
     "name": "stdout",
     "output_type": "stream",
     "text": [
      "MoviePy - Writing audio in /home/j/MusicAputitude/ARASHI/mp3_data/ARASHI - Do you... ? [Official Music Video].mp3\n"
     ]
    },
    {
     "name": "stderr",
     "output_type": "stream",
     "text": [
      "                                                                      \r"
     ]
    },
    {
     "name": "stdout",
     "output_type": "stream",
     "text": [
      "MoviePy - Done.\n",
      "MoviePy - Writing audio in /home/j/MusicAputitude/ARASHI/mp3_data/ARASHI - カイト [Official Music Video].mp3\n"
     ]
    },
    {
     "name": "stderr",
     "output_type": "stream",
     "text": [
      "                                                                      \r"
     ]
    },
    {
     "name": "stdout",
     "output_type": "stream",
     "text": [
      "MoviePy - Done.\n",
      "MoviePy - Writing audio in /home/j/MusicAputitude/ARASHI/mp3_data/ARASHI - BRAVE [Official Music Video].mp3\n"
     ]
    },
    {
     "name": "stderr",
     "output_type": "stream",
     "text": [
      "                                                                      \r"
     ]
    },
    {
     "name": "stdout",
     "output_type": "stream",
     "text": [
      "MoviePy - Done.\n",
      "MoviePy - Writing audio in /home/j/MusicAputitude/ARASHI/mp3_data/ARASHI - 5×20 [Official Music Video].mp3\n"
     ]
    },
    {
     "name": "stderr",
     "output_type": "stream",
     "text": [
      "                                                                       \r"
     ]
    },
    {
     "name": "stdout",
     "output_type": "stream",
     "text": [
      "MoviePy - Done.\n",
      "MoviePy - Writing audio in /home/j/MusicAputitude/ARASHI/mp3_data/ARASHI - 君のうた [Official Music Video].mp3\n"
     ]
    },
    {
     "name": "stderr",
     "output_type": "stream",
     "text": [
      "                                                                      \r"
     ]
    },
    {
     "name": "stdout",
     "output_type": "stream",
     "text": [
      "MoviePy - Done.\n",
      "MoviePy - Writing audio in /home/j/MusicAputitude/ARASHI/mp3_data/ARASHI - 夏疾風 (高校生コラボver.) [Official Music Video].mp3\n"
     ]
    },
    {
     "name": "stderr",
     "output_type": "stream",
     "text": [
      "                                                                      \r"
     ]
    },
    {
     "name": "stdout",
     "output_type": "stream",
     "text": [
      "MoviePy - Done.\n",
      "MoviePy - Writing audio in /home/j/MusicAputitude/ARASHI/mp3_data/ARASHI - 夏疾風 [Official Music Video].mp3\n"
     ]
    },
    {
     "name": "stderr",
     "output_type": "stream",
     "text": [
      "                                                                      \r"
     ]
    },
    {
     "name": "stdout",
     "output_type": "stream",
     "text": [
      "MoviePy - Done.\n",
      "MoviePy - Writing audio in /home/j/MusicAputitude/ARASHI/mp3_data/ARASHI - Find The Answer [Official Music Video].mp3\n"
     ]
    },
    {
     "name": "stderr",
     "output_type": "stream",
     "text": [
      "                                                                      \r"
     ]
    },
    {
     "name": "stdout",
     "output_type": "stream",
     "text": [
      "MoviePy - Done.\n",
      "MoviePy - Writing audio in /home/j/MusicAputitude/ARASHI/mp3_data/ARASHI - NOW or NEVER [Official Music Video].mp3\n"
     ]
    },
    {
     "name": "stderr",
     "output_type": "stream",
     "text": [
      "                                                                      \r"
     ]
    },
    {
     "name": "stdout",
     "output_type": "stream",
     "text": [
      "MoviePy - Done.\n",
      "MoviePy - Writing audio in /home/j/MusicAputitude/ARASHI/mp3_data/ARASHI - Doors ～勇気の軌跡～ [Official Music Video].mp3\n"
     ]
    },
    {
     "name": "stderr",
     "output_type": "stream",
     "text": [
      "                                                                      \r"
     ]
    },
    {
     "name": "stdout",
     "output_type": "stream",
     "text": [
      "MoviePy - Done.\n",
      "MoviePy - Writing audio in /home/j/MusicAputitude/ARASHI/mp3_data/ARASHI - ｢未完｣ [Official Music Video].mp3\n"
     ]
    },
    {
     "name": "stderr",
     "output_type": "stream",
     "text": [
      "                                                                      \r"
     ]
    },
    {
     "name": "stdout",
     "output_type": "stream",
     "text": [
      "MoviePy - Done.\n",
      "MoviePy - Writing audio in /home/j/MusicAputitude/ARASHI/mp3_data/ARASHI - つなぐ [Official Music Video].mp3\n"
     ]
    },
    {
     "name": "stderr",
     "output_type": "stream",
     "text": [
      "                                                                      \r"
     ]
    },
    {
     "name": "stdout",
     "output_type": "stream",
     "text": [
      "MoviePy - Done.\n",
      "MoviePy - Writing audio in /home/j/MusicAputitude/ARASHI/mp3_data/ARASHI - I'll be there [Official Music Video].mp3\n"
     ]
    },
    {
     "name": "stderr",
     "output_type": "stream",
     "text": [
      "                                                                      \r"
     ]
    },
    {
     "name": "stdout",
     "output_type": "stream",
     "text": [
      "MoviePy - Done.\n",
      "MoviePy - Writing audio in /home/j/MusicAputitude/ARASHI/mp3_data/ARASHI - Don't You Get It [Official Music Video].mp3\n"
     ]
    },
    {
     "name": "stderr",
     "output_type": "stream",
     "text": [
      "                                                                      \r"
     ]
    },
    {
     "name": "stdout",
     "output_type": "stream",
     "text": [
      "MoviePy - Done.\n",
      "MoviePy - Writing audio in /home/j/MusicAputitude/ARASHI/mp3_data/ARASHI - Power of the Paradise [Official Music Video].mp3\n"
     ]
    },
    {
     "name": "stderr",
     "output_type": "stream",
     "text": [
      "                                                                      \r"
     ]
    },
    {
     "name": "stdout",
     "output_type": "stream",
     "text": [
      "MoviePy - Done.\n",
      "MoviePy - Writing audio in /home/j/MusicAputitude/ARASHI/mp3_data/ARASHI - Daylight [Official Music Video].mp3\n"
     ]
    },
    {
     "name": "stderr",
     "output_type": "stream",
     "text": [
      "                                                                      \r"
     ]
    },
    {
     "name": "stdout",
     "output_type": "stream",
     "text": [
      "MoviePy - Done.\n",
      "MoviePy - Writing audio in /home/j/MusicAputitude/ARASHI/mp3_data/ARASHI - I seek [Official Music Video].mp3\n"
     ]
    },
    {
     "name": "stderr",
     "output_type": "stream",
     "text": [
      "                                                                      \r"
     ]
    },
    {
     "name": "stdout",
     "output_type": "stream",
     "text": [
      "MoviePy - Done.\n",
      "MoviePy - Writing audio in /home/j/MusicAputitude/ARASHI/mp3_data/ARASHI - 復活LOVE [Official Music Video].mp3\n"
     ]
    },
    {
     "name": "stderr",
     "output_type": "stream",
     "text": [
      "                                                                      \r"
     ]
    },
    {
     "name": "stdout",
     "output_type": "stream",
     "text": [
      "MoviePy - Done.\n",
      "MoviePy - Writing audio in /home/j/MusicAputitude/ARASHI/mp3_data/ARASHI - 心の空 [Official Music Video].mp3\n"
     ]
    },
    {
     "name": "stderr",
     "output_type": "stream",
     "text": [
      "                                                                      \r"
     ]
    },
    {
     "name": "stdout",
     "output_type": "stream",
     "text": [
      "MoviePy - Done.\n",
      "MoviePy - Writing audio in /home/j/MusicAputitude/ARASHI/mp3_data/ARASHI - 愛を叫べ [Official Music Video].mp3\n"
     ]
    },
    {
     "name": "stderr",
     "output_type": "stream",
     "text": [
      "                                                                      \r"
     ]
    },
    {
     "name": "stdout",
     "output_type": "stream",
     "text": [
      "MoviePy - Done.\n",
      "MoviePy - Writing audio in /home/j/MusicAputitude/ARASHI/mp3_data/ARASHI - 青空の下、キミのとなり [Official Music Video].mp3\n"
     ]
    },
    {
     "name": "stderr",
     "output_type": "stream",
     "text": [
      "                                                                      \r"
     ]
    },
    {
     "name": "stdout",
     "output_type": "stream",
     "text": [
      "MoviePy - Done.\n",
      "MoviePy - Writing audio in /home/j/MusicAputitude/ARASHI/mp3_data/ARASHI - Sakura [Official Music Video].mp3\n"
     ]
    },
    {
     "name": "stderr",
     "output_type": "stream",
     "text": [
      "                                                                      \r"
     ]
    },
    {
     "name": "stdout",
     "output_type": "stream",
     "text": [
      "MoviePy - Done.\n",
      "MoviePy - Writing audio in /home/j/MusicAputitude/ARASHI/mp3_data/ARASHI - Zero-G [Official Music Video].mp3\n"
     ]
    },
    {
     "name": "stderr",
     "output_type": "stream",
     "text": [
      "                                                                      \r"
     ]
    },
    {
     "name": "stdout",
     "output_type": "stream",
     "text": [
      "MoviePy - Done.\n",
      "MoviePy - Writing audio in /home/j/MusicAputitude/ARASHI/mp3_data/ARASHI - 誰も知らない [Official Music Video].mp3\n"
     ]
    },
    {
     "name": "stderr",
     "output_type": "stream",
     "text": [
      "                                                                      \r"
     ]
    },
    {
     "name": "stdout",
     "output_type": "stream",
     "text": [
      "MoviePy - Done.\n",
      "MoviePy - Writing audio in /home/j/MusicAputitude/ARASHI/mp3_data/ARASHI - GUTS ! [Official Music Video].mp3\n"
     ]
    },
    {
     "name": "stderr",
     "output_type": "stream",
     "text": [
      "                                                                      \r"
     ]
    },
    {
     "name": "stdout",
     "output_type": "stream",
     "text": [
      "MoviePy - Done.\n",
      "MoviePy - Writing audio in /home/j/MusicAputitude/ARASHI/mp3_data/ARASHI - Bittersweet [Official Music Video].mp3\n"
     ]
    },
    {
     "name": "stderr",
     "output_type": "stream",
     "text": [
      "                                                                      \r"
     ]
    },
    {
     "name": "stdout",
     "output_type": "stream",
     "text": [
      "MoviePy - Done.\n",
      "MoviePy - Writing audio in /home/j/MusicAputitude/ARASHI/mp3_data/ARASHI - P･A･R･A･D･O･X [Official Music Video].mp3\n"
     ]
    },
    {
     "name": "stderr",
     "output_type": "stream",
     "text": [
      "                                                                      \r"
     ]
    },
    {
     "name": "stdout",
     "output_type": "stream",
     "text": [
      "MoviePy - Done.\n",
      "MoviePy - Writing audio in /home/j/MusicAputitude/ARASHI/mp3_data/ARASHI - Endless Game [Official Music Video].mp3\n"
     ]
    },
    {
     "name": "stderr",
     "output_type": "stream",
     "text": [
      "                                                                      \r"
     ]
    },
    {
     "name": "stdout",
     "output_type": "stream",
     "text": [
      "MoviePy - Done.\n",
      "MoviePy - Writing audio in /home/j/MusicAputitude/ARASHI/mp3_data/ARASHI - Breathless [Official Music Video].mp3\n"
     ]
    },
    {
     "name": "stderr",
     "output_type": "stream",
     "text": [
      "                                                                      \r"
     ]
    },
    {
     "name": "stdout",
     "output_type": "stream",
     "text": [
      "MoviePy - Done.\n",
      "MoviePy - Writing audio in /home/j/MusicAputitude/ARASHI/mp3_data/ARASHI - Calling [Official Music Video].mp3\n"
     ]
    },
    {
     "name": "stderr",
     "output_type": "stream",
     "text": [
      "                                                                      \r"
     ]
    },
    {
     "name": "stdout",
     "output_type": "stream",
     "text": [
      "MoviePy - Done.\n",
      "MoviePy - Writing audio in /home/j/MusicAputitude/ARASHI/mp3_data/ARASHI - Your Eyes [Official Music Video].mp3\n"
     ]
    },
    {
     "name": "stderr",
     "output_type": "stream",
     "text": [
      "                                                                      \r"
     ]
    },
    {
     "name": "stdout",
     "output_type": "stream",
     "text": [
      "MoviePy - Done.\n",
      "MoviePy - Writing audio in /home/j/MusicAputitude/ARASHI/mp3_data/ARASHI - Face Down [Official Music Video].mp3\n"
     ]
    },
    {
     "name": "stderr",
     "output_type": "stream",
     "text": [
      "                                                                      \r"
     ]
    },
    {
     "name": "stdout",
     "output_type": "stream",
     "text": [
      "MoviePy - Done.\n",
      "MoviePy - Writing audio in /home/j/MusicAputitude/ARASHI/mp3_data/ARASHI - ワイルド アット ハート [Official Music Video].mp3\n"
     ]
    },
    {
     "name": "stderr",
     "output_type": "stream",
     "text": [
      "                                                                      \r"
     ]
    },
    {
     "name": "stdout",
     "output_type": "stream",
     "text": [
      "MoviePy - Done.\n",
      "MoviePy - Writing audio in /home/j/MusicAputitude/ARASHI/mp3_data/ARASHI - 迷宮ラブソング [Official Music Video].mp3\n"
     ]
    },
    {
     "name": "stderr",
     "output_type": "stream",
     "text": [
      "                                                                      \r"
     ]
    },
    {
     "name": "stdout",
     "output_type": "stream",
     "text": [
      "MoviePy - Done.\n",
      "MoviePy - Writing audio in /home/j/MusicAputitude/ARASHI/mp3_data/ARASHI - まだ見ぬ世界へ [Official Music Video].mp3\n"
     ]
    },
    {
     "name": "stderr",
     "output_type": "stream",
     "text": [
      "                                                                      \r"
     ]
    },
    {
     "name": "stdout",
     "output_type": "stream",
     "text": [
      "MoviePy - Done.\n",
      "MoviePy - Writing audio in /home/j/MusicAputitude/ARASHI/mp3_data/ARASHI - Lotus [Official Music Video].mp3\n"
     ]
    },
    {
     "name": "stderr",
     "output_type": "stream",
     "text": [
      "                                                                      \r"
     ]
    },
    {
     "name": "stdout",
     "output_type": "stream",
     "text": [
      "MoviePy - Done.\n",
      "MoviePy - Writing audio in /home/j/MusicAputitude/ARASHI/mp3_data/ARASHI - 果てない空 [Official Music Video].mp3\n"
     ]
    },
    {
     "name": "stderr",
     "output_type": "stream",
     "text": [
      "                                                                      \r"
     ]
    },
    {
     "name": "stdout",
     "output_type": "stream",
     "text": [
      "MoviePy - Done.\n",
      "MoviePy - Writing audio in /home/j/MusicAputitude/ARASHI/mp3_data/ARASHI - Dear Snow [Official Music Video].mp3\n"
     ]
    },
    {
     "name": "stderr",
     "output_type": "stream",
     "text": [
      "                                                                      \r"
     ]
    },
    {
     "name": "stdout",
     "output_type": "stream",
     "text": [
      "MoviePy - Done.\n",
      "MoviePy - Writing audio in /home/j/MusicAputitude/ARASHI/mp3_data/ARASHI - Løve Rainbow [Official Music Video].mp3\n"
     ]
    },
    {
     "name": "stderr",
     "output_type": "stream",
     "text": [
      "                                                                      \r"
     ]
    },
    {
     "name": "stdout",
     "output_type": "stream",
     "text": [
      "MoviePy - Done.\n",
      "MoviePy - Writing audio in /home/j/MusicAputitude/ARASHI/mp3_data/ARASHI - To be free [Official Music Video].mp3\n"
     ]
    },
    {
     "name": "stderr",
     "output_type": "stream",
     "text": [
      "                                                                      \r"
     ]
    },
    {
     "name": "stdout",
     "output_type": "stream",
     "text": [
      "MoviePy - Done.\n",
      "MoviePy - Writing audio in /home/j/MusicAputitude/ARASHI/mp3_data/ARASHI - Troublemaker [Official Music Video].mp3\n"
     ]
    },
    {
     "name": "stderr",
     "output_type": "stream",
     "text": [
      "                                                                      \r"
     ]
    },
    {
     "name": "stdout",
     "output_type": "stream",
     "text": [
      "MoviePy - Done.\n",
      "MoviePy - Writing audio in /home/j/MusicAputitude/ARASHI/mp3_data/ARASHI - マイガール [Official Music Video].mp3\n"
     ]
    },
    {
     "name": "stderr",
     "output_type": "stream",
     "text": [
      "                                                                      \r"
     ]
    },
    {
     "name": "stdout",
     "output_type": "stream",
     "text": [
      "MoviePy - Done.\n",
      "MoviePy - Writing audio in /home/j/MusicAputitude/ARASHI/mp3_data/ARASHI - Everything [Official Music Video].mp3\n"
     ]
    },
    {
     "name": "stderr",
     "output_type": "stream",
     "text": [
      "                                                                      \r"
     ]
    },
    {
     "name": "stdout",
     "output_type": "stream",
     "text": [
      "MoviePy - Done.\n",
      "MoviePy - Writing audio in /home/j/MusicAputitude/ARASHI/mp3_data/ARASHI - Crazy Moon～キミ･ハ･ムテキ～ [Official Music Video].mp3\n"
     ]
    },
    {
     "name": "stderr",
     "output_type": "stream",
     "text": [
      "                                                                      \r"
     ]
    },
    {
     "name": "stdout",
     "output_type": "stream",
     "text": [
      "MoviePy - Done.\n",
      "MoviePy - Writing audio in /home/j/MusicAputitude/ARASHI/mp3_data/ARASHI - 明日の記憶 [Official Music Video].mp3\n"
     ]
    },
    {
     "name": "stderr",
     "output_type": "stream",
     "text": [
      "                                                                      \r"
     ]
    },
    {
     "name": "stdout",
     "output_type": "stream",
     "text": [
      "MoviePy - Done.\n",
      "MoviePy - Writing audio in /home/j/MusicAputitude/ARASHI/mp3_data/矢野健太 starring Satoshi Ohno - 曇りのち、快晴 [Official Music Video].mp3\n"
     ]
    },
    {
     "name": "stderr",
     "output_type": "stream",
     "text": [
      "                                                                      \r"
     ]
    },
    {
     "name": "stdout",
     "output_type": "stream",
     "text": [
      "MoviePy - Done.\n",
      "MoviePy - Writing audio in /home/j/MusicAputitude/ARASHI/mp3_data/ARASHI - Believe [Official Music Video].mp3\n"
     ]
    },
    {
     "name": "stderr",
     "output_type": "stream",
     "text": [
      "                                                                      \r"
     ]
    },
    {
     "name": "stdout",
     "output_type": "stream",
     "text": [
      "MoviePy - Done.\n",
      "MoviePy - Writing audio in /home/j/MusicAputitude/ARASHI/mp3_data/ARASHI - Beautiful days [Official Music Video].mp3\n"
     ]
    },
    {
     "name": "stderr",
     "output_type": "stream",
     "text": [
      "                                                                      \r"
     ]
    },
    {
     "name": "stdout",
     "output_type": "stream",
     "text": [
      "MoviePy - Done.\n",
      "MoviePy - Writing audio in /home/j/MusicAputitude/ARASHI/mp3_data/ARASHI - 風の向こうへ [Official Music Video].mp3\n"
     ]
    },
    {
     "name": "stderr",
     "output_type": "stream",
     "text": [
      "                                                                      \r"
     ]
    },
    {
     "name": "stdout",
     "output_type": "stream",
     "text": [
      "MoviePy - Done.\n",
      "MoviePy - Writing audio in /home/j/MusicAputitude/ARASHI/mp3_data/ARASHI - One Love [Official Music Video].mp3\n"
     ]
    },
    {
     "name": "stderr",
     "output_type": "stream",
     "text": [
      "                                                                      \r"
     ]
    },
    {
     "name": "stdout",
     "output_type": "stream",
     "text": [
      "MoviePy - Done.\n",
      "MoviePy - Writing audio in /home/j/MusicAputitude/ARASHI/mp3_data/ARASHI - Step and Go [Official Music Video].mp3\n"
     ]
    },
    {
     "name": "stderr",
     "output_type": "stream",
     "text": [
      "                                                                      \r"
     ]
    },
    {
     "name": "stdout",
     "output_type": "stream",
     "text": [
      "MoviePy - Done.\n",
      "MoviePy - Writing audio in /home/j/MusicAputitude/ARASHI/mp3_data/ARASHI - We can make it ! [Official Music Video].mp3\n"
     ]
    },
    {
     "name": "stderr",
     "output_type": "stream",
     "text": [
      "                                                                      \r"
     ]
    },
    {
     "name": "stdout",
     "output_type": "stream",
     "text": [
      "MoviePy - Done.\n",
      "MoviePy - Writing audio in /home/j/MusicAputitude/ARASHI/mp3_data/ARASHI - アオゾラペダル [Official Music Video].mp3\n"
     ]
    },
    {
     "name": "stderr",
     "output_type": "stream",
     "text": [
      "                                                                      \r"
     ]
    },
    {
     "name": "stdout",
     "output_type": "stream",
     "text": [
      "MoviePy - Done.\n",
      "MoviePy - Writing audio in /home/j/MusicAputitude/ARASHI/mp3_data/ARASHI - きっと大丈夫 [Official Music Video].mp3\n"
     ]
    },
    {
     "name": "stderr",
     "output_type": "stream",
     "text": [
      "                                                                      \r"
     ]
    },
    {
     "name": "stdout",
     "output_type": "stream",
     "text": [
      "MoviePy - Done.\n",
      "MoviePy - Writing audio in /home/j/MusicAputitude/ARASHI/mp3_data/ARASHI - WISH [Official Music Video].mp3\n"
     ]
    },
    {
     "name": "stderr",
     "output_type": "stream",
     "text": [
      "                                                                      \r"
     ]
    },
    {
     "name": "stdout",
     "output_type": "stream",
     "text": [
      "MoviePy - Done.\n",
      "MoviePy - Writing audio in /home/j/MusicAputitude/ARASHI/mp3_data/ARASHI - サクラ咲ケ [Official Music Video].mp3\n"
     ]
    },
    {
     "name": "stderr",
     "output_type": "stream",
     "text": [
      "                                                                      \r"
     ]
    },
    {
     "name": "stdout",
     "output_type": "stream",
     "text": [
      "MoviePy - Done.\n",
      "MoviePy - Writing audio in /home/j/MusicAputitude/ARASHI/mp3_data/ARASHI - Hero [Official Music Video].mp3\n"
     ]
    },
    {
     "name": "stderr",
     "output_type": "stream",
     "text": [
      "                                                                      \r"
     ]
    },
    {
     "name": "stdout",
     "output_type": "stream",
     "text": [
      "MoviePy - Done.\n",
      "MoviePy - Writing audio in /home/j/MusicAputitude/ARASHI/mp3_data/ARASHI - 瞳の中のGalaxy [Official Music Video].mp3\n"
     ]
    },
    {
     "name": "stderr",
     "output_type": "stream",
     "text": [
      "                                                                      \r"
     ]
    },
    {
     "name": "stdout",
     "output_type": "stream",
     "text": [
      "MoviePy - Done.\n",
      "MoviePy - Writing audio in /home/j/MusicAputitude/ARASHI/mp3_data/ARASHI - PIKA☆☆NCHI DOUBLE [Official Music Video].mp3\n"
     ]
    },
    {
     "name": "stderr",
     "output_type": "stream",
     "text": [
      "                                                                      \r"
     ]
    },
    {
     "name": "stdout",
     "output_type": "stream",
     "text": [
      "MoviePy - Done.\n",
      "MoviePy - Writing audio in /home/j/MusicAputitude/ARASHI/mp3_data/ARASHI - 言葉より大切なもの [Official Music Video].mp3\n"
     ]
    },
    {
     "name": "stderr",
     "output_type": "stream",
     "text": [
      "                                                                      \r"
     ]
    },
    {
     "name": "stdout",
     "output_type": "stream",
     "text": [
      "MoviePy - Done.\n",
      "MoviePy - Writing audio in /home/j/MusicAputitude/ARASHI/mp3_data/ARASHI - ハダシの未来 [Official Music Video].mp3\n"
     ]
    },
    {
     "name": "stderr",
     "output_type": "stream",
     "text": [
      "                                                                      \r"
     ]
    },
    {
     "name": "stdout",
     "output_type": "stream",
     "text": [
      "MoviePy - Done.\n",
      "MoviePy - Writing audio in /home/j/MusicAputitude/ARASHI/mp3_data/ARASHI - Lucky Man [Official Music Video].mp3\n"
     ]
    },
    {
     "name": "stderr",
     "output_type": "stream",
     "text": [
      "                                                                      \r"
     ]
    },
    {
     "name": "stdout",
     "output_type": "stream",
     "text": [
      "MoviePy - Done.\n",
      "MoviePy - Writing audio in /home/j/MusicAputitude/ARASHI/mp3_data/ARASHI - とまどいながら [Official Music Video].mp3\n"
     ]
    },
    {
     "name": "stderr",
     "output_type": "stream",
     "text": [
      "                                                                      \r"
     ]
    },
    {
     "name": "stdout",
     "output_type": "stream",
     "text": [
      "MoviePy - Done.\n",
      "MoviePy - Writing audio in /home/j/MusicAputitude/ARASHI/mp3_data/ARASHI - PIKA☆NCHI [Official Music Video].mp3\n"
     ]
    },
    {
     "name": "stderr",
     "output_type": "stream",
     "text": [
      "                                                                      \r"
     ]
    },
    {
     "name": "stdout",
     "output_type": "stream",
     "text": [
      "MoviePy - Done.\n",
      "MoviePy - Writing audio in /home/j/MusicAputitude/ARASHI/mp3_data/ARASHI - ナイスな心意気 [Official Music Video].mp3\n"
     ]
    },
    {
     "name": "stderr",
     "output_type": "stream",
     "text": [
      "                                                                      \r"
     ]
    },
    {
     "name": "stdout",
     "output_type": "stream",
     "text": [
      "MoviePy - Done.\n",
      "MoviePy - Writing audio in /home/j/MusicAputitude/ARASHI/mp3_data/ARASHI - a Day in Our Life [Official Music Video].mp3\n"
     ]
    },
    {
     "name": "stderr",
     "output_type": "stream",
     "text": [
      "                                                                      \r"
     ]
    },
    {
     "name": "stdout",
     "output_type": "stream",
     "text": [
      "MoviePy - Done.\n",
      "MoviePy - Writing audio in /home/j/MusicAputitude/ARASHI/mp3_data/ARASHI - 時代 [Official Music Video].mp3\n"
     ]
    },
    {
     "name": "stderr",
     "output_type": "stream",
     "text": [
      "                                                                      \r"
     ]
    },
    {
     "name": "stdout",
     "output_type": "stream",
     "text": [
      "MoviePy - Done.\n",
      "MoviePy - Writing audio in /home/j/MusicAputitude/ARASHI/mp3_data/ARASHI - 君のために僕がいる [Official Music Video].mp3\n"
     ]
    },
    {
     "name": "stderr",
     "output_type": "stream",
     "text": [
      "                                                                      \r"
     ]
    },
    {
     "name": "stdout",
     "output_type": "stream",
     "text": [
      "MoviePy - Done.\n",
      "MoviePy - Writing audio in /home/j/MusicAputitude/ARASHI/mp3_data/ARASHI - 感謝カンゲキ雨嵐 [Official Music Video].mp3\n"
     ]
    },
    {
     "name": "stderr",
     "output_type": "stream",
     "text": [
      "                                                                      \r"
     ]
    },
    {
     "name": "stdout",
     "output_type": "stream",
     "text": [
      "MoviePy - Done.\n",
      "MoviePy - Writing audio in /home/j/MusicAputitude/ARASHI/mp3_data/ARASHI - 台風ジェネレーション ‐Typhoon Generation‐ [Official Music Video].mp3\n"
     ]
    },
    {
     "name": "stderr",
     "output_type": "stream",
     "text": [
      "                                                                      \r"
     ]
    },
    {
     "name": "stdout",
     "output_type": "stream",
     "text": [
      "MoviePy - Done.\n",
      "MoviePy - Writing audio in /home/j/MusicAputitude/ARASHI/mp3_data/ARASHI - SUNRISE日本 [Official Music Video].mp3\n"
     ]
    },
    {
     "name": "stderr",
     "output_type": "stream",
     "text": [
      "                                                                      \r"
     ]
    },
    {
     "name": "stdout",
     "output_type": "stream",
     "text": [
      "MoviePy - Done.\n",
      "MoviePy - Writing audio in /home/j/MusicAputitude/ARASHI/mp3_data/ARASHI - Party Starters [Official Music Video].mp3\n"
     ]
    },
    {
     "name": "stderr",
     "output_type": "stream",
     "text": [
      "                                                                      \r"
     ]
    },
    {
     "name": "stdout",
     "output_type": "stream",
     "text": [
      "MoviePy - Done.\n",
      "MoviePy - Writing audio in /home/j/MusicAputitude/ARASHI/mp3_data/ARASHI - Whenever You Call [Dance version].mp3\n"
     ]
    },
    {
     "name": "stderr",
     "output_type": "stream",
     "text": [
      "                                                                      \r"
     ]
    },
    {
     "name": "stdout",
     "output_type": "stream",
     "text": [
      "MoviePy - Done.\n",
      "MoviePy - Writing audio in /home/j/MusicAputitude/ARASHI/mp3_data/ARASHI - Whenever You Call [Official Music Video].mp3\n"
     ]
    },
    {
     "name": "stderr",
     "output_type": "stream",
     "text": [
      "                                                                      \r"
     ]
    },
    {
     "name": "stdout",
     "output_type": "stream",
     "text": [
      "MoviePy - Done.\n",
      "MoviePy - Writing audio in /home/j/MusicAputitude/ARASHI/mp3_data/ARASHI - IN THE SUMMER [Official Music Video].mp3\n"
     ]
    },
    {
     "name": "stderr",
     "output_type": "stream",
     "text": [
      "                                                                      \r"
     ]
    },
    {
     "name": "stdout",
     "output_type": "stream",
     "text": [
      "MoviePy - Done.\n",
      "MoviePy - Writing audio in /home/j/MusicAputitude/ARASHI/mp3_data/ARASHI - Turning Up (R3HAB Remix) [Official Music Video].mp3\n"
     ]
    },
    {
     "name": "stderr",
     "output_type": "stream",
     "text": [
      "                                                                      \r"
     ]
    },
    {
     "name": "stdout",
     "output_type": "stream",
     "text": [
      "MoviePy - Done.\n",
      "MoviePy - Writing audio in /home/j/MusicAputitude/ARASHI/mp3_data/ARASHI - A-RA-SHI : Reborn [Official Music Video].mp3\n"
     ]
    },
    {
     "name": "stderr",
     "output_type": "stream",
     "text": [
      "                                                                      \r"
     ]
    },
    {
     "name": "stdout",
     "output_type": "stream",
     "text": [
      "MoviePy - Done.\n",
      "MoviePy - Writing audio in /home/j/MusicAputitude/ARASHI/mp3_data/ARASHI - Turning Up [Official Music Video].mp3\n"
     ]
    },
    {
     "name": "stderr",
     "output_type": "stream",
     "text": [
      "                                                                      \r"
     ]
    },
    {
     "name": "stdout",
     "output_type": "stream",
     "text": [
      "MoviePy - Done.\n",
      "MoviePy - Writing audio in /home/j/MusicAputitude/ARASHI/mp3_data/ARASHI - Monster [Official Music Video].mp3\n"
     ]
    },
    {
     "name": "stderr",
     "output_type": "stream",
     "text": [
      "                                                                      \r"
     ]
    },
    {
     "name": "stdout",
     "output_type": "stream",
     "text": [
      "MoviePy - Done.\n",
      "MoviePy - Writing audio in /home/j/MusicAputitude/ARASHI/mp3_data/ARASHI - truth [Official Music Video].mp3\n"
     ]
    },
    {
     "name": "stderr",
     "output_type": "stream",
     "text": [
      "                                                                      \r"
     ]
    },
    {
     "name": "stdout",
     "output_type": "stream",
     "text": [
      "MoviePy - Done.\n",
      "MoviePy - Writing audio in /home/j/MusicAputitude/ARASHI/mp3_data/ARASHI - Happiness [Official Music Video].mp3\n"
     ]
    },
    {
     "name": "stderr",
     "output_type": "stream",
     "text": [
      "                                                                      \r"
     ]
    },
    {
     "name": "stdout",
     "output_type": "stream",
     "text": [
      "MoviePy - Done.\n",
      "MoviePy - Writing audio in /home/j/MusicAputitude/ARASHI/mp3_data/ARASHI - Love so sweet [Official Music Video].mp3\n"
     ]
    },
    {
     "name": "stderr",
     "output_type": "stream",
     "text": [
      "                                                                      \r"
     ]
    },
    {
     "name": "stdout",
     "output_type": "stream",
     "text": [
      "MoviePy - Done.\n",
      "MoviePy - Writing audio in /home/j/MusicAputitude/ARASHI/mp3_data/ARASHI - A･RA･SHI [Official Music Video].mp3\n"
     ]
    },
    {
     "name": "stderr",
     "output_type": "stream",
     "text": [
      "                                                                      "
     ]
    },
    {
     "name": "stdout",
     "output_type": "stream",
     "text": [
      "MoviePy - Done.\n"
     ]
    },
    {
     "name": "stderr",
     "output_type": "stream",
     "text": [
      "\r"
     ]
    }
   ],
   "source": [
    "import os\n",
    "from pytubefix import Playlist\n",
    "from moviepy.editor import AudioFileClip\n",
    "\n",
    "# アーティスト名(※　親フォルダ名として利用)\n",
    "artist = \"ARASHI\"\n",
    "# プレイリストのURL\n",
    "url = \"https://www.youtube.com/watch?v=jnGSFu0x7pk&list=PLQ9gNDER2MhZG8CSUpArY-XaofHIbXWC9&index=1&ab_channel=ARASHI\"\n",
    "# 出力先フォルダ\n",
    "output_path = {\n",
    "    \"m4a\": f\"{artist}/m4a_data\",          # m4a\n",
    "    \"mp3\": f\"{artist}/mp3_data\"           # mp3\n",
    "}\n",
    "\n",
    "# 出力先フォルダのチェック（存在しない場合は、フォルダ作成）\n",
    "for path in output_path.values():\n",
    "    if not os.path.exists(path):\n",
    "        os.makedirs(path)\n",
    "\n",
    "# プレイリストの取得\n",
    "pl = Playlist(url)\n",
    "\n",
    "# プレイリストからオーディオデータ（m4a）をダウンロードして、mp3 へ変換\n",
    "for video in pl.videos:\n",
    "    # オーディオデータ（m4a）をダウンロード \n",
    "    ys = video.streams.get_audio_only()\n",
    "    temp_file = ys.download(output_path=output_path[\"m4a\"])\n",
    "\n",
    "    # mp3 へ変換\n",
    "    mp3_file_path = os.path.join(output_path[\"mp3\"], temp_file.rsplit(\"\\\\\")[-1].replace(\"m4a\", \"mp3\")) \n",
    "    audio_file_clip = AudioFileClip(temp_file)\n",
    "    audio_file_clip.write_audiofile(filename=mp3_file_path, codec=\"libmp3lame\")"
   ]
  },
  {
   "cell_type": "code",
   "execution_count": 6,
   "metadata": {},
   "outputs": [
    {
     "name": "stdout",
     "output_type": "stream",
     "text": [
      "MoviePy - Writing audio in /home/j/MusicAputitude/SPITZ/mp3_data/スピッツ  青い車.mp3\n"
     ]
    },
    {
     "name": "stderr",
     "output_type": "stream",
     "text": [
      "                                                                      \r"
     ]
    },
    {
     "name": "stdout",
     "output_type": "stream",
     "text": [
      "MoviePy - Done.\n",
      "MoviePy - Writing audio in /home/j/MusicAputitude/SPITZ/mp3_data/スピッツ  涙がキラリ☆.mp3\n"
     ]
    },
    {
     "name": "stderr",
     "output_type": "stream",
     "text": [
      "                                                                      \r"
     ]
    },
    {
     "name": "stdout",
     "output_type": "stream",
     "text": [
      "MoviePy - Done.\n",
      "MoviePy - Writing audio in /home/j/MusicAputitude/SPITZ/mp3_data/スピッツ  裸のままで.mp3\n"
     ]
    },
    {
     "name": "stderr",
     "output_type": "stream",
     "text": [
      "                                                                      \r"
     ]
    },
    {
     "name": "stdout",
     "output_type": "stream",
     "text": [
      "MoviePy - Done.\n",
      "MoviePy - Writing audio in /home/j/MusicAputitude/SPITZ/mp3_data/スピッツ  君が思い出になる前に.mp3\n"
     ]
    },
    {
     "name": "stderr",
     "output_type": "stream",
     "text": [
      "                                                                      \r"
     ]
    },
    {
     "name": "stdout",
     "output_type": "stream",
     "text": [
      "MoviePy - Done.\n",
      "MoviePy - Writing audio in /home/j/MusicAputitude/SPITZ/mp3_data/スピッツ  ロビンソン.mp3\n"
     ]
    },
    {
     "name": "stderr",
     "output_type": "stream",
     "text": [
      "                                                                      \r"
     ]
    },
    {
     "name": "stdout",
     "output_type": "stream",
     "text": [
      "MoviePy - Done.\n",
      "MoviePy - Writing audio in /home/j/MusicAputitude/SPITZ/mp3_data/スピッツ  ヒバリのこころ.mp3\n"
     ]
    },
    {
     "name": "stderr",
     "output_type": "stream",
     "text": [
      "                                                                      \r"
     ]
    },
    {
     "name": "stdout",
     "output_type": "stream",
     "text": [
      "MoviePy - Done.\n",
      "MoviePy - Writing audio in /home/j/MusicAputitude/SPITZ/mp3_data/スピッツ  スパイダー.mp3\n"
     ]
    },
    {
     "name": "stderr",
     "output_type": "stream",
     "text": [
      "                                                                      \r"
     ]
    },
    {
     "name": "stdout",
     "output_type": "stream",
     "text": [
      "MoviePy - Done.\n",
      "MoviePy - Writing audio in /home/j/MusicAputitude/SPITZ/mp3_data/スピッツ  空も飛べるはず.mp3\n"
     ]
    },
    {
     "name": "stderr",
     "output_type": "stream",
     "text": [
      "                                                                      \r"
     ]
    },
    {
     "name": "stdout",
     "output_type": "stream",
     "text": [
      "MoviePy - Done.\n",
      "MoviePy - Writing audio in /home/j/MusicAputitude/SPITZ/mp3_data/スピッツ  ハチミツ.mp3\n"
     ]
    },
    {
     "name": "stderr",
     "output_type": "stream",
     "text": [
      "                                                                      "
     ]
    },
    {
     "name": "stdout",
     "output_type": "stream",
     "text": [
      "MoviePy - Done.\n"
     ]
    },
    {
     "name": "stderr",
     "output_type": "stream",
     "text": [
      "\r"
     ]
    }
   ],
   "source": [
    "import os\n",
    "from pytubefix import Playlist\n",
    "from moviepy.editor import AudioFileClip\n",
    "\n",
    "# アーティスト名(※　親フォルダ名として利用)\n",
    "artist = \"SPITZ\"\n",
    "# プレイリストのURL\n",
    "url = \"https://www.youtube.com/watch?v=5K8ZuLYG0yo&list=PL4AE0D472CE3DDD0E\"\n",
    "# 出力先フォルダ\n",
    "output_path = {\n",
    "    \"m4a\": f\"{artist}/m4a_data\",          # m4a\n",
    "    \"mp3\": f\"{artist}/mp3_data\"           # mp3\n",
    "}\n",
    "\n",
    "# 出力先フォルダのチェック（存在しない場合は、フォルダ作成）\n",
    "for path in output_path.values():\n",
    "    if not os.path.exists(path):\n",
    "        os.makedirs(path)\n",
    "\n",
    "# プレイリストの取得\n",
    "pl = Playlist(url)\n",
    "\n",
    "# プレイリストからオーディオデータ（m4a）をダウンロードして、mp3 へ変換\n",
    "for video in pl.videos:\n",
    "    # オーディオデータ（m4a）をダウンロード \n",
    "    ys = video.streams.get_audio_only()\n",
    "    temp_file = ys.download(output_path=output_path[\"m4a\"])\n",
    "\n",
    "    # mp3 へ変換\n",
    "    mp3_file_path = os.path.join(output_path[\"mp3\"], temp_file.rsplit(\"\\\\\")[-1].replace(\"m4a\", \"mp3\")) \n",
    "    audio_file_clip = AudioFileClip(temp_file)\n",
    "    audio_file_clip.write_audiofile(filename=mp3_file_path, codec=\"libmp3lame\")"
   ]
  },
  {
   "cell_type": "code",
   "execution_count": 7,
   "metadata": {},
   "outputs": [
    {
     "name": "stdout",
     "output_type": "stream",
     "text": [
      "MoviePy - Writing audio in /home/j/MusicAputitude/YONE/mp3_data/米津玄師 - さよーならまたいつか！「虎に翼」OPタイトルバック・フル　Kenshi Yonezu - Sayonara, Mata Itsuka !.mp3\n"
     ]
    },
    {
     "name": "stderr",
     "output_type": "stream",
     "text": [
      "                                                                      \r"
     ]
    },
    {
     "name": "stdout",
     "output_type": "stream",
     "text": [
      "MoviePy - Done.\n",
      "MoviePy - Writing audio in /home/j/MusicAputitude/YONE/mp3_data/米津玄師 - がらくた　Kenshi Yonezu - Garakuta JUNK.mp3\n"
     ]
    },
    {
     "name": "stderr",
     "output_type": "stream",
     "text": [
      "                                                                      \r"
     ]
    },
    {
     "name": "stdout",
     "output_type": "stream",
     "text": [
      "MoviePy - Done.\n",
      "MoviePy - Writing audio in /home/j/MusicAputitude/YONE/mp3_data/米津玄師  Kenshi Yonezu - RED OUT.mp3\n"
     ]
    },
    {
     "name": "stderr",
     "output_type": "stream",
     "text": [
      "                                                                      \r"
     ]
    },
    {
     "name": "stdout",
     "output_type": "stream",
     "text": [
      "MoviePy - Done.\n",
      "MoviePy - Writing audio in /home/j/MusicAputitude/YONE/mp3_data/米津玄師 - 毎日　Kenshi Yonezu - Mainichi ( Every Day ).mp3\n"
     ]
    },
    {
     "name": "stderr",
     "output_type": "stream",
     "text": [
      "                                                                      \r"
     ]
    },
    {
     "name": "stdout",
     "output_type": "stream",
     "text": [
      "MoviePy - Done.\n",
      "MoviePy - Writing audio in /home/j/MusicAputitude/YONE/mp3_data/米津玄師 - さよーならまたいつか！ Kenshi Yonezu - Sayonara, Mata Itsuka !.mp3\n"
     ]
    },
    {
     "name": "stderr",
     "output_type": "stream",
     "text": [
      "                                                                      \r"
     ]
    },
    {
     "name": "stdout",
     "output_type": "stream",
     "text": [
      "MoviePy - Done.\n",
      "MoviePy - Writing audio in /home/j/MusicAputitude/YONE/mp3_data/米津玄師「地球儀」× 宮﨑駿「君たちはどう生きるか」Kenshi Yonezu - Spinning Globe (Hayao Miyazaki, The Boy and The Heron).mp3\n"
     ]
    },
    {
     "name": "stderr",
     "output_type": "stream",
     "text": [
      "                                                                      \r"
     ]
    },
    {
     "name": "stdout",
     "output_type": "stream",
     "text": [
      "MoviePy - Done.\n",
      "MoviePy - Writing audio in /home/j/MusicAputitude/YONE/mp3_data/米津玄師  - 地球儀　Kenshi Yonezu - Spinning Globe.mp3\n"
     ]
    },
    {
     "name": "stderr",
     "output_type": "stream",
     "text": [
      "                                                                      \r"
     ]
    },
    {
     "name": "stdout",
     "output_type": "stream",
     "text": [
      "MoviePy - Done.\n",
      "MoviePy - Writing audio in /home/j/MusicAputitude/YONE/mp3_data/米津玄師 - 月を見ていた Kenshi Yonezu - Tsuki Wo Miteita  Moongazing.mp3\n"
     ]
    },
    {
     "name": "stderr",
     "output_type": "stream",
     "text": [
      "                                                                      \r"
     ]
    },
    {
     "name": "stdout",
     "output_type": "stream",
     "text": [
      "MoviePy - Done.\n",
      "MoviePy - Writing audio in /home/j/MusicAputitude/YONE/mp3_data/米津玄師  Kenshi Yonezu - LADY.mp3\n"
     ]
    },
    {
     "name": "stderr",
     "output_type": "stream",
     "text": [
      "                                                                      \r"
     ]
    },
    {
     "name": "stdout",
     "output_type": "stream",
     "text": [
      "MoviePy - Done.\n",
      "MoviePy - Writing audio in /home/j/MusicAputitude/YONE/mp3_data/米津玄師 Kenshi Yonezu - KICKBACK.mp3\n"
     ]
    },
    {
     "name": "stderr",
     "output_type": "stream",
     "text": [
      "                                                                      \r"
     ]
    },
    {
     "name": "stdout",
     "output_type": "stream",
     "text": [
      "MoviePy - Done.\n",
      "MoviePy - Writing audio in /home/j/MusicAputitude/YONE/mp3_data/米津玄師  - M八七 　Kenshi Yonezu - M87.mp3\n"
     ]
    },
    {
     "name": "stderr",
     "output_type": "stream",
     "text": [
      "                                                                      \r"
     ]
    },
    {
     "name": "stdout",
     "output_type": "stream",
     "text": [
      "MoviePy - Done.\n",
      "MoviePy - Writing audio in /home/j/MusicAputitude/YONE/mp3_data/米津玄師  - POP SONG  Kenshi Yonezu.mp3\n"
     ]
    },
    {
     "name": "stderr",
     "output_type": "stream",
     "text": [
      "                                                                      \r"
     ]
    },
    {
     "name": "stdout",
     "output_type": "stream",
     "text": [
      "MoviePy - Done.\n",
      "MoviePy - Writing audio in /home/j/MusicAputitude/YONE/mp3_data/米津玄師  - Pale Blue  Kenshi Yonezu.mp3\n"
     ]
    },
    {
     "name": "stderr",
     "output_type": "stream",
     "text": [
      "                                                                      \r"
     ]
    },
    {
     "name": "stdout",
     "output_type": "stream",
     "text": [
      "MoviePy - Done.\n",
      "MoviePy - Writing audio in /home/j/MusicAputitude/YONE/mp3_data/米津玄師 - 死神　 Kenshi Yonezu - Shinigami.mp3\n"
     ]
    },
    {
     "name": "stderr",
     "output_type": "stream",
     "text": [
      "                                                                      \r"
     ]
    },
    {
     "name": "stdout",
     "output_type": "stream",
     "text": [
      "MoviePy - Done.\n",
      "MoviePy - Writing audio in /home/j/MusicAputitude/YONE/mp3_data/米津玄師 - カナリヤ  Kenshi Yonezu - Canary.mp3\n"
     ]
    },
    {
     "name": "stderr",
     "output_type": "stream",
     "text": [
      "                                                                      \r"
     ]
    },
    {
     "name": "stdout",
     "output_type": "stream",
     "text": [
      "MoviePy - Done.\n",
      "MoviePy - Writing audio in /home/j/MusicAputitude/YONE/mp3_data/米津玄師 - カムパネルラ  Kenshi Yonezu - Campanella.mp3\n"
     ]
    },
    {
     "name": "stderr",
     "output_type": "stream",
     "text": [
      "                                                                      \r"
     ]
    },
    {
     "name": "stdout",
     "output_type": "stream",
     "text": [
      "MoviePy - Done.\n",
      "MoviePy - Writing audio in /home/j/MusicAputitude/YONE/mp3_data/米津玄師 - 感電   Kenshi Yonezu - KANDEN.mp3\n"
     ]
    },
    {
     "name": "stderr",
     "output_type": "stream",
     "text": [
      "                                                                      \r"
     ]
    },
    {
     "name": "stdout",
     "output_type": "stream",
     "text": [
      "MoviePy - Done.\n",
      "MoviePy - Writing audio in /home/j/MusicAputitude/YONE/mp3_data/米津玄師  - 馬と鹿   Kenshi Yonezu - Uma to Shika.mp3\n"
     ]
    },
    {
     "name": "stderr",
     "output_type": "stream",
     "text": [
      "                                                                      \r"
     ]
    },
    {
     "name": "stdout",
     "output_type": "stream",
     "text": [
      "MoviePy - Done.\n",
      "MoviePy - Writing audio in /home/j/MusicAputitude/YONE/mp3_data/米津玄師 - パプリカ  Kenshi Yonezu - PAPRIKA.mp3\n"
     ]
    },
    {
     "name": "stderr",
     "output_type": "stream",
     "text": [
      "                                                                      \r"
     ]
    },
    {
     "name": "stdout",
     "output_type": "stream",
     "text": [
      "MoviePy - Done.\n",
      "MoviePy - Writing audio in /home/j/MusicAputitude/YONE/mp3_data/米津玄師 - 海の幽霊  Kenshi Yonezu - Spirits of the Sea.mp3\n"
     ]
    },
    {
     "name": "stderr",
     "output_type": "stream",
     "text": [
      "                                                                      \r"
     ]
    },
    {
     "name": "stdout",
     "output_type": "stream",
     "text": [
      "MoviePy - Done.\n",
      "MoviePy - Writing audio in /home/j/MusicAputitude/YONE/mp3_data/米津玄師  - Flamingo  Kenshi Yonezu.mp3\n"
     ]
    },
    {
     "name": "stderr",
     "output_type": "stream",
     "text": [
      "                                                                      \r"
     ]
    },
    {
     "name": "stdout",
     "output_type": "stream",
     "text": [
      "MoviePy - Done.\n",
      "MoviePy - Writing audio in /home/j/MusicAputitude/YONE/mp3_data/米津玄師 - TEENAGE RIOT  Kenshi Yonezu.mp3\n"
     ]
    },
    {
     "name": "stderr",
     "output_type": "stream",
     "text": [
      "                                                                      \r"
     ]
    },
    {
     "name": "stdout",
     "output_type": "stream",
     "text": [
      "MoviePy - Done.\n",
      "MoviePy - Writing audio in /home/j/MusicAputitude/YONE/mp3_data/米津玄師  Kenshi Yonezu  - Lemon.mp3\n"
     ]
    },
    {
     "name": "stderr",
     "output_type": "stream",
     "text": [
      "                                                                      \r"
     ]
    },
    {
     "name": "stdout",
     "output_type": "stream",
     "text": [
      "MoviePy - Done.\n",
      "MoviePy - Writing audio in /home/j/MusicAputitude/YONE/mp3_data/米津玄師 - 春雷   Kenshi Yonezu - Shunrai.mp3\n"
     ]
    },
    {
     "name": "stderr",
     "output_type": "stream",
     "text": [
      "                                                                      \r"
     ]
    },
    {
     "name": "stdout",
     "output_type": "stream",
     "text": [
      "MoviePy - Done.\n",
      "MoviePy - Writing audio in /home/j/MusicAputitude/YONE/mp3_data/米津玄師  - 灰色と青（ ＋菅田将暉 ）,  Kenshi Yonezu - Haiirotoao（+Masaki Suda).mp3\n"
     ]
    },
    {
     "name": "stderr",
     "output_type": "stream",
     "text": [
      "                                                                      \r"
     ]
    },
    {
     "name": "stdout",
     "output_type": "stream",
     "text": [
      "MoviePy - Done.\n",
      "MoviePy - Writing audio in /home/j/MusicAputitude/YONE/mp3_data/『僕のヒーローアカデミア』×米津玄師「ピースサイン」スペシャルミュージックビデオ.mp3\n"
     ]
    },
    {
     "name": "stderr",
     "output_type": "stream",
     "text": [
      "                                                                      \r"
     ]
    },
    {
     "name": "stdout",
     "output_type": "stream",
     "text": [
      "MoviePy - Done.\n",
      "MoviePy - Writing audio in /home/j/MusicAputitude/YONE/mp3_data/米津玄師 - ピースサイン , Kenshi Yonezu - Peace Sign.mp3\n"
     ]
    },
    {
     "name": "stderr",
     "output_type": "stream",
     "text": [
      "                                                                      \r"
     ]
    },
    {
     "name": "stdout",
     "output_type": "stream",
     "text": [
      "MoviePy - Done.\n",
      "MoviePy - Writing audio in /home/j/MusicAputitude/YONE/mp3_data/米津玄師  - orion , Kenshi Yonezu.mp3\n"
     ]
    },
    {
     "name": "stderr",
     "output_type": "stream",
     "text": [
      "                                                                      \r"
     ]
    },
    {
     "name": "stdout",
     "output_type": "stream",
     "text": [
      "MoviePy - Done.\n",
      "MoviePy - Writing audio in /home/j/MusicAputitude/YONE/mp3_data/米津玄師 - LOSER , Kenshi Yonezu.mp3\n"
     ]
    },
    {
     "name": "stderr",
     "output_type": "stream",
     "text": [
      "                                                                      \r"
     ]
    },
    {
     "name": "stdout",
     "output_type": "stream",
     "text": [
      "MoviePy - Done.\n",
      "MoviePy - Writing audio in /home/j/MusicAputitude/YONE/mp3_data/米津玄師 - メトロノーム , Kenshi Yonezu - Metronome.mp3\n"
     ]
    },
    {
     "name": "stderr",
     "output_type": "stream",
     "text": [
      "                                                                      \r"
     ]
    },
    {
     "name": "stdout",
     "output_type": "stream",
     "text": [
      "MoviePy - Done.\n",
      "MoviePy - Writing audio in /home/j/MusicAputitude/YONE/mp3_data/米津玄師  - フローライト , Kenshi Yonezu - Fluorite.mp3\n"
     ]
    },
    {
     "name": "stderr",
     "output_type": "stream",
     "text": [
      "                                                                      \r"
     ]
    },
    {
     "name": "stdout",
     "output_type": "stream",
     "text": [
      "MoviePy - Done.\n",
      "MoviePy - Writing audio in /home/j/MusicAputitude/YONE/mp3_data/米津玄師  - アンビリーバーズ , Kenshi Yonezu - Unbelivers.mp3\n"
     ]
    },
    {
     "name": "stderr",
     "output_type": "stream",
     "text": [
      "                                                                      \r"
     ]
    },
    {
     "name": "stdout",
     "output_type": "stream",
     "text": [
      "MoviePy - Done.\n",
      "MoviePy - Writing audio in /home/j/MusicAputitude/YONE/mp3_data/米津玄師  - Flowerwall , Kenshi Yonezu.mp3\n"
     ]
    },
    {
     "name": "stderr",
     "output_type": "stream",
     "text": [
      "                                                                      \r"
     ]
    },
    {
     "name": "stdout",
     "output_type": "stream",
     "text": [
      "MoviePy - Done.\n",
      "MoviePy - Writing audio in /home/j/MusicAputitude/YONE/mp3_data/米津玄師  - アイネクライネ , Kenshi Yonezu - Eine Kleine.mp3\n"
     ]
    },
    {
     "name": "stderr",
     "output_type": "stream",
     "text": [
      "                                                                      \r"
     ]
    },
    {
     "name": "stdout",
     "output_type": "stream",
     "text": [
      "MoviePy - Done.\n",
      "MoviePy - Writing audio in /home/j/MusicAputitude/YONE/mp3_data/米津玄師  - リビングデッド・ユース , Kenshi Yonezu - Living Dead Youth.mp3\n"
     ]
    },
    {
     "name": "stderr",
     "output_type": "stream",
     "text": [
      "                                                                      \r"
     ]
    },
    {
     "name": "stdout",
     "output_type": "stream",
     "text": [
      "MoviePy - Done.\n",
      "MoviePy - Writing audio in /home/j/MusicAputitude/YONE/mp3_data/米津玄師 - WOODEN DOLL , Kenshi Yonezu.mp3\n"
     ]
    },
    {
     "name": "stderr",
     "output_type": "stream",
     "text": [
      "                                                                      \r"
     ]
    },
    {
     "name": "stdout",
     "output_type": "stream",
     "text": [
      "MoviePy - Done.\n",
      "MoviePy - Writing audio in /home/j/MusicAputitude/YONE/mp3_data/米津玄師 - ポッピンアパシー , Kenshi Yonezu - Poppin'Apathy.mp3\n"
     ]
    },
    {
     "name": "stderr",
     "output_type": "stream",
     "text": [
      "                                                                      \r"
     ]
    },
    {
     "name": "stdout",
     "output_type": "stream",
     "text": [
      "MoviePy - Done.\n",
      "MoviePy - Writing audio in /home/j/MusicAputitude/YONE/mp3_data/米津玄師　MV「MAD HEAD LOVE」.mp3\n"
     ]
    },
    {
     "name": "stderr",
     "output_type": "stream",
     "text": [
      "                                                                      \r"
     ]
    },
    {
     "name": "stdout",
     "output_type": "stream",
     "text": [
      "MoviePy - Done.\n",
      "MoviePy - Writing audio in /home/j/MusicAputitude/YONE/mp3_data/米津玄師　MV「サンタマリア」.mp3\n"
     ]
    },
    {
     "name": "stderr",
     "output_type": "stream",
     "text": [
      "                                                                      \r"
     ]
    },
    {
     "name": "stdout",
     "output_type": "stream",
     "text": [
      "MoviePy - Done.\n",
      "MoviePy - Writing audio in /home/j/MusicAputitude/YONE/mp3_data/米津玄師　MV『ゴーゴー幽霊船』.mp3\n"
     ]
    },
    {
     "name": "stderr",
     "output_type": "stream",
     "text": [
      "                                                                      \r"
     ]
    },
    {
     "name": "stdout",
     "output_type": "stream",
     "text": [
      "MoviePy - Done.\n",
      "MoviePy - Writing audio in /home/j/MusicAputitude/YONE/mp3_data/米津玄師　MV『vivi』.mp3\n"
     ]
    },
    {
     "name": "stderr",
     "output_type": "stream",
     "text": [
      "                                                                      \r"
     ]
    },
    {
     "name": "stdout",
     "output_type": "stream",
     "text": [
      "MoviePy - Done.\n",
      "MoviePy - Writing audio in /home/j/MusicAputitude/YONE/mp3_data/米津玄師　MV『恋と病熱』.mp3\n"
     ]
    },
    {
     "name": "stderr",
     "output_type": "stream",
     "text": [
      "                                                                      \r"
     ]
    },
    {
     "name": "stdout",
     "output_type": "stream",
     "text": [
      "MoviePy - Done.\n"
     ]
    }
   ],
   "source": [
    "import os\n",
    "from pytubefix import Playlist\n",
    "from moviepy.editor import AudioFileClip\n",
    "\n",
    "# アーティスト名(※　親フォルダ名として利用)\n",
    "artist = \"YONE\"\n",
    "# プレイリストのURL\n",
    "url = \"https://www.youtube.com/watch?v=5DNqESedFMk&list=PLb02MaZXm5_OGFGXSV-6U2_9f2MqnDBbm\"\n",
    "# 出力先フォルダ\n",
    "output_path = {\n",
    "    \"m4a\": f\"{artist}/m4a_data\",          # m4a\n",
    "    \"mp3\": f\"{artist}/mp3_data\"           # mp3\n",
    "}\n",
    "\n",
    "# 出力先フォルダのチェック（存在しない場合は、フォルダ作成）\n",
    "for path in output_path.values():\n",
    "    if not os.path.exists(path):\n",
    "        os.makedirs(path)\n",
    "\n",
    "# プレイリストの取得\n",
    "pl = Playlist(url)\n",
    "\n",
    "# プレイリストからオーディオデータ（m4a）をダウンロードして、mp3 へ変換\n",
    "for video in pl.videos:\n",
    "    # オーディオデータ（m4a）をダウンロード \n",
    "    ys = video.streams.get_audio_only()\n",
    "    temp_file = ys.download(output_path=output_path[\"m4a\"])\n",
    "\n",
    "    # mp3 へ変換\n",
    "    mp3_file_path = os.path.join(output_path[\"mp3\"], temp_file.rsplit(\"\\\\\")[-1].replace(\"m4a\", \"mp3\")) \n",
    "    audio_file_clip = AudioFileClip(temp_file)\n",
    "    audio_file_clip.write_audiofile(filename=mp3_file_path, codec=\"libmp3lame\")"
   ]
  },
  {
   "cell_type": "code",
   "execution_count": 8,
   "metadata": {},
   "outputs": [
    {
     "name": "stdout",
     "output_type": "stream",
     "text": [
      "MoviePy - Writing audio in /home/j/MusicAputitude/SOUTHEN/mp3_data/サザンオールスターズ - ジャンヌ・ダルクによろしく [Official Music Video].mp3\n"
     ]
    },
    {
     "name": "stderr",
     "output_type": "stream",
     "text": [
      "                                                                      \r"
     ]
    },
    {
     "name": "stdout",
     "output_type": "stream",
     "text": [
      "MoviePy - Done.\n",
      "MoviePy - Writing audio in /home/j/MusicAputitude/SOUTHEN/mp3_data/サザンオールスターズ - 恋のブギウギナイト [Official Music Video].mp3\n"
     ]
    },
    {
     "name": "stderr",
     "output_type": "stream",
     "text": [
      "                                                                      \r"
     ]
    },
    {
     "name": "stdout",
     "output_type": "stream",
     "text": [
      "MoviePy - Done.\n",
      "MoviePy - Writing audio in /home/j/MusicAputitude/SOUTHEN/mp3_data/サザンオールスターズ - Relay〜杜の詩 [Official Music Video].mp3\n"
     ]
    },
    {
     "name": "stderr",
     "output_type": "stream",
     "text": [
      "                                                                      \r"
     ]
    },
    {
     "name": "stdout",
     "output_type": "stream",
     "text": [
      "MoviePy - Done.\n",
      "MoviePy - Writing audio in /home/j/MusicAputitude/SOUTHEN/mp3_data/サザンオールスターズ - 歌えニッポンの空 [Official Music Video].mp3\n"
     ]
    },
    {
     "name": "stderr",
     "output_type": "stream",
     "text": [
      "                                                                      \r"
     ]
    },
    {
     "name": "stdout",
     "output_type": "stream",
     "text": [
      "MoviePy - Done.\n",
      "MoviePy - Writing audio in /home/j/MusicAputitude/SOUTHEN/mp3_data/サザンオールスターズ - 盆ギリ恋歌 [Official Music Video].mp3\n"
     ]
    },
    {
     "name": "stderr",
     "output_type": "stream",
     "text": [
      "                                                                      \r"
     ]
    },
    {
     "name": "stdout",
     "output_type": "stream",
     "text": [
      "MoviePy - Done.\n",
      "MoviePy - Writing audio in /home/j/MusicAputitude/SOUTHEN/mp3_data/サザンオールスターズ - 愛はスローにちょっとずつ [Official Music Video].mp3\n"
     ]
    },
    {
     "name": "stderr",
     "output_type": "stream",
     "text": [
      "                                                                      \r"
     ]
    },
    {
     "name": "stdout",
     "output_type": "stream",
     "text": [
      "MoviePy - Done.\n",
      "MoviePy - Writing audio in /home/j/MusicAputitude/SOUTHEN/mp3_data/サザンオールスターズ - 壮年JUMP [Official Music Video].mp3\n"
     ]
    },
    {
     "name": "stderr",
     "output_type": "stream",
     "text": [
      "                                                                      \r"
     ]
    },
    {
     "name": "stdout",
     "output_type": "stream",
     "text": [
      "MoviePy - Done.\n",
      "MoviePy - Writing audio in /home/j/MusicAputitude/SOUTHEN/mp3_data/サザンオールスターズ - 闘う戦士(もの)たちへ愛を込めて [Official Music Video].mp3\n"
     ]
    },
    {
     "name": "stderr",
     "output_type": "stream",
     "text": [
      "                                                                      \r"
     ]
    },
    {
     "name": "stdout",
     "output_type": "stream",
     "text": [
      "MoviePy - Done.\n",
      "MoviePy - Writing audio in /home/j/MusicAputitude/SOUTHEN/mp3_data/サザンオールスターズ - アロエ [Official Music Video].mp3\n"
     ]
    },
    {
     "name": "stderr",
     "output_type": "stream",
     "text": [
      "                                                                      \r"
     ]
    },
    {
     "name": "stdout",
     "output_type": "stream",
     "text": [
      "MoviePy - Done.\n",
      "MoviePy - Writing audio in /home/j/MusicAputitude/SOUTHEN/mp3_data/サザンオールスターズ - 東京VICTORY [Official Music Video].mp3\n"
     ]
    },
    {
     "name": "stderr",
     "output_type": "stream",
     "text": [
      "                                                                      \r"
     ]
    },
    {
     "name": "stdout",
     "output_type": "stream",
     "text": [
      "MoviePy - Done.\n",
      "MoviePy - Writing audio in /home/j/MusicAputitude/SOUTHEN/mp3_data/サザンオールスターズ - 天国オン・ザ・ビーチ [Official Music Video].mp3\n"
     ]
    },
    {
     "name": "stderr",
     "output_type": "stream",
     "text": [
      "                                                                      \r"
     ]
    },
    {
     "name": "stdout",
     "output_type": "stream",
     "text": [
      "MoviePy - Done.\n",
      "MoviePy - Writing audio in /home/j/MusicAputitude/SOUTHEN/mp3_data/サザンオールスターズ - ピースとハイライト [Official Music Video].mp3\n"
     ]
    },
    {
     "name": "stderr",
     "output_type": "stream",
     "text": [
      "                                                                      \r"
     ]
    },
    {
     "name": "stdout",
     "output_type": "stream",
     "text": [
      "MoviePy - Done.\n",
      "MoviePy - Writing audio in /home/j/MusicAputitude/SOUTHEN/mp3_data/サザンオールスターズ - 栄光の男 [Official Music Video].mp3\n"
     ]
    },
    {
     "name": "stderr",
     "output_type": "stream",
     "text": [
      "                                                                      \r"
     ]
    },
    {
     "name": "stdout",
     "output_type": "stream",
     "text": [
      "MoviePy - Done.\n",
      "MoviePy - Writing audio in /home/j/MusicAputitude/SOUTHEN/mp3_data/サザンオールスターズ - 蛍 [Official Music Video].mp3\n"
     ]
    },
    {
     "name": "stderr",
     "output_type": "stream",
     "text": [
      "                                                                      \r"
     ]
    },
    {
     "name": "stdout",
     "output_type": "stream",
     "text": [
      "MoviePy - Done.\n",
      "MoviePy - Writing audio in /home/j/MusicAputitude/SOUTHEN/mp3_data/サザンオールスターズ -  I AM YOUR SINGER [Official Music Video].mp3\n"
     ]
    },
    {
     "name": "stderr",
     "output_type": "stream",
     "text": [
      "                                                                      \r"
     ]
    },
    {
     "name": "stdout",
     "output_type": "stream",
     "text": [
      "MoviePy - Done.\n",
      "MoviePy - Writing audio in /home/j/MusicAputitude/SOUTHEN/mp3_data/サザンオールスターズ - DIRTY OLD MAN～さらば夏よ～ [Official Music Video].mp3\n"
     ]
    },
    {
     "name": "stderr",
     "output_type": "stream",
     "text": [
      "                                                                      \r"
     ]
    },
    {
     "name": "stdout",
     "output_type": "stream",
     "text": [
      "MoviePy - Done.\n",
      "MoviePy - Writing audio in /home/j/MusicAputitude/SOUTHEN/mp3_data/サザンオールスターズ - ロックンロール・スーパーマン～Rock’n Roll Superman～ [Official Music Video].mp3\n"
     ]
    },
    {
     "name": "stderr",
     "output_type": "stream",
     "text": [
      "                                                                      \r"
     ]
    },
    {
     "name": "stdout",
     "output_type": "stream",
     "text": [
      "MoviePy - Done.\n",
      "MoviePy - Writing audio in /home/j/MusicAputitude/SOUTHEN/mp3_data/サザンオールスターズ - BOHBO No.5 [Official Music Video].mp3\n"
     ]
    },
    {
     "name": "stderr",
     "output_type": "stream",
     "text": [
      "                                                                      \r"
     ]
    },
    {
     "name": "stdout",
     "output_type": "stream",
     "text": [
      "MoviePy - Done.\n",
      "MoviePy - Writing audio in /home/j/MusicAputitude/SOUTHEN/mp3_data/サザンオールスターズ - 神の島遥か国 [Official Music Video].mp3\n"
     ]
    },
    {
     "name": "stderr",
     "output_type": "stream",
     "text": [
      "                                                                      \r"
     ]
    },
    {
     "name": "stdout",
     "output_type": "stream",
     "text": [
      "MoviePy - Done.\n",
      "MoviePy - Writing audio in /home/j/MusicAputitude/SOUTHEN/mp3_data/サザンオールスターズ - 愛と欲望の日々 [Official Music Video].mp3\n"
     ]
    },
    {
     "name": "stderr",
     "output_type": "stream",
     "text": [
      "                                                                      \r"
     ]
    },
    {
     "name": "stdout",
     "output_type": "stream",
     "text": [
      "MoviePy - Done.\n",
      "MoviePy - Writing audio in /home/j/MusicAputitude/SOUTHEN/mp3_data/サザンオールスターズ - 夢に消えたジュリア [Official Music Video].mp3\n"
     ]
    },
    {
     "name": "stderr",
     "output_type": "stream",
     "text": [
      "                                                                      \r"
     ]
    },
    {
     "name": "stdout",
     "output_type": "stream",
     "text": [
      "MoviePy - Done.\n",
      "MoviePy - Writing audio in /home/j/MusicAputitude/SOUTHEN/mp3_data/サザンオールスターズ - 君こそスターだ [Official Music Video].mp3\n"
     ]
    },
    {
     "name": "stderr",
     "output_type": "stream",
     "text": [
      "                                                                      \r"
     ]
    },
    {
     "name": "stdout",
     "output_type": "stream",
     "text": [
      "MoviePy - Done.\n",
      "MoviePy - Writing audio in /home/j/MusicAputitude/SOUTHEN/mp3_data/サザンオールスターズ - 彩〜Aja〜 [Official Music Video].mp3\n"
     ]
    },
    {
     "name": "stderr",
     "output_type": "stream",
     "text": [
      "                                                                      \r"
     ]
    },
    {
     "name": "stdout",
     "output_type": "stream",
     "text": [
      "MoviePy - Done.\n",
      "MoviePy - Writing audio in /home/j/MusicAputitude/SOUTHEN/mp3_data/サザンオールスターズ - 恋人は南風 [Official Music Video].mp3\n"
     ]
    },
    {
     "name": "stderr",
     "output_type": "stream",
     "text": [
      "                                                                      \r"
     ]
    },
    {
     "name": "stdout",
     "output_type": "stream",
     "text": [
      "MoviePy - Done.\n",
      "MoviePy - Writing audio in /home/j/MusicAputitude/SOUTHEN/mp3_data/サザンオールスターズ - 涙の海で抱かれたい〜SEA OF LOVE〜 [Official Music Video].mp3\n"
     ]
    },
    {
     "name": "stderr",
     "output_type": "stream",
     "text": [
      "                                                                      "
     ]
    },
    {
     "name": "stdout",
     "output_type": "stream",
     "text": [
      "MoviePy - Done.\n"
     ]
    },
    {
     "name": "stderr",
     "output_type": "stream",
     "text": [
      "\r"
     ]
    }
   ],
   "source": [
    "import os\n",
    "from pytubefix import Playlist\n",
    "from moviepy.editor import AudioFileClip\n",
    "\n",
    "# アーティスト名(※　親フォルダ名として利用)\n",
    "artist = \"SOUTHEN\"\n",
    "# プレイリストのURL\n",
    "url = \"https://www.youtube.com/watch?v=bOlekUbYR4c&list=PLuB4Pu9FQlb312L9ZcWQIr60WxEhDV9Wp\"\n",
    "# 出力先フォルダ\n",
    "output_path = {\n",
    "    \"m4a\": f\"{artist}/m4a_data\",          # m4a\n",
    "    \"mp3\": f\"{artist}/mp3_data\"           # mp3\n",
    "}\n",
    "\n",
    "# 出力先フォルダのチェック（存在しない場合は、フォルダ作成）\n",
    "for path in output_path.values():\n",
    "    if not os.path.exists(path):\n",
    "        os.makedirs(path)\n",
    "\n",
    "# プレイリストの取得\n",
    "pl = Playlist(url)\n",
    "\n",
    "# プレイリストからオーディオデータ（m4a）をダウンロードして、mp3 へ変換\n",
    "for video in pl.videos:\n",
    "    # オーディオデータ（m4a）をダウンロード \n",
    "    ys = video.streams.get_audio_only()\n",
    "    temp_file = ys.download(output_path=output_path[\"m4a\"])\n",
    "\n",
    "    # mp3 へ変換\n",
    "    mp3_file_path = os.path.join(output_path[\"mp3\"], temp_file.rsplit(\"\\\\\")[-1].replace(\"m4a\", \"mp3\")) \n",
    "    audio_file_clip = AudioFileClip(temp_file)\n",
    "    audio_file_clip.write_audiofile(filename=mp3_file_path, codec=\"libmp3lame\")"
   ]
  },
  {
   "cell_type": "code",
   "execution_count": 9,
   "metadata": {},
   "outputs": [
    {
     "name": "stdout",
     "output_type": "stream",
     "text": [
      "MoviePy - Writing audio in /home/j/MusicAputitude/MRCHILDREN/mp3_data/Mr.Children「himawari (Live ver.)」 MUSIC VIDEO (Short ver.).mp3\n"
     ]
    },
    {
     "name": "stderr",
     "output_type": "stream",
     "text": [
      "                                                                      \r"
     ]
    },
    {
     "name": "stdout",
     "output_type": "stream",
     "text": [
      "MoviePy - Done.\n",
      "MoviePy - Writing audio in /home/j/MusicAputitude/MRCHILDREN/mp3_data/Mr.Children「ヒカリノアトリエ 」MUSIC VIDEO (Short ver.).mp3\n"
     ]
    },
    {
     "name": "stderr",
     "output_type": "stream",
     "text": [
      "                                                                      \r"
     ]
    },
    {
     "name": "stdout",
     "output_type": "stream",
     "text": [
      "MoviePy - Done.\n",
      "MoviePy - Writing audio in /home/j/MusicAputitude/MRCHILDREN/mp3_data/Mr.Children「足音 ～Be Strong」Music Video(Short ver.).mp3\n"
     ]
    },
    {
     "name": "stderr",
     "output_type": "stream",
     "text": [
      "                                                                      \r"
     ]
    },
    {
     "name": "stdout",
     "output_type": "stream",
     "text": [
      "MoviePy - Done.\n",
      "MoviePy - Writing audio in /home/j/MusicAputitude/MRCHILDREN/mp3_data/Mr.Children「Any」Music Video(Short ver.).mp3\n"
     ]
    },
    {
     "name": "stderr",
     "output_type": "stream",
     "text": [
      "                                                                      \r"
     ]
    },
    {
     "name": "stdout",
     "output_type": "stream",
     "text": [
      "MoviePy - Done.\n",
      "MoviePy - Writing audio in /home/j/MusicAputitude/MRCHILDREN/mp3_data/Mr.Children「and I love you」Music Video(Short ver.).mp3\n"
     ]
    },
    {
     "name": "stderr",
     "output_type": "stream",
     "text": [
      "                                                                      \r"
     ]
    },
    {
     "name": "stdout",
     "output_type": "stream",
     "text": [
      "MoviePy - Done.\n",
      "MoviePy - Writing audio in /home/j/MusicAputitude/MRCHILDREN/mp3_data/Mr.Children「掌」Music Video(Short ver.).mp3\n"
     ]
    },
    {
     "name": "stderr",
     "output_type": "stream",
     "text": [
      "                                                                      \r"
     ]
    },
    {
     "name": "stdout",
     "output_type": "stream",
     "text": [
      "MoviePy - Done.\n",
      "MoviePy - Writing audio in /home/j/MusicAputitude/MRCHILDREN/mp3_data/Mr.Children「君が好き」Music Video(Short ver.).mp3\n"
     ]
    },
    {
     "name": "stderr",
     "output_type": "stream",
     "text": [
      "                                                                      \r"
     ]
    },
    {
     "name": "stdout",
     "output_type": "stream",
     "text": [
      "MoviePy - Done.\n",
      "MoviePy - Writing audio in /home/j/MusicAputitude/MRCHILDREN/mp3_data/Mr.Children「しるし」Music Video(Short ver.).mp3\n"
     ]
    },
    {
     "name": "stderr",
     "output_type": "stream",
     "text": [
      "                                                                      \r"
     ]
    },
    {
     "name": "stdout",
     "output_type": "stream",
     "text": [
      "MoviePy - Done.\n",
      "MoviePy - Writing audio in /home/j/MusicAputitude/MRCHILDREN/mp3_data/Mr.Children「GIFT」Music Video(Short ver.).mp3\n"
     ]
    },
    {
     "name": "stderr",
     "output_type": "stream",
     "text": [
      "                                                                      \r"
     ]
    },
    {
     "name": "stdout",
     "output_type": "stream",
     "text": [
      "MoviePy - Done.\n",
      "MoviePy - Writing audio in /home/j/MusicAputitude/MRCHILDREN/mp3_data/Mr.Children「花の匂い」Music Video(Short ver.).mp3\n"
     ]
    },
    {
     "name": "stderr",
     "output_type": "stream",
     "text": [
      "                                                                      \r"
     ]
    },
    {
     "name": "stdout",
     "output_type": "stream",
     "text": [
      "MoviePy - Done.\n",
      "MoviePy - Writing audio in /home/j/MusicAputitude/MRCHILDREN/mp3_data/Mr.Children「hypnosis」Music Video(Short ver.).mp3\n"
     ]
    },
    {
     "name": "stderr",
     "output_type": "stream",
     "text": [
      "                                                                      \r"
     ]
    },
    {
     "name": "stdout",
     "output_type": "stream",
     "text": [
      "MoviePy - Done.\n",
      "MoviePy - Writing audio in /home/j/MusicAputitude/MRCHILDREN/mp3_data/Mr.Children「REM」Music Video(Short ver.).mp3\n"
     ]
    },
    {
     "name": "stderr",
     "output_type": "stream",
     "text": [
      "                                                                      \r"
     ]
    },
    {
     "name": "stdout",
     "output_type": "stream",
     "text": [
      "MoviePy - Done.\n",
      "MoviePy - Writing audio in /home/j/MusicAputitude/MRCHILDREN/mp3_data/Mr.Children「祈り ～涙の軌道」Music Video(Short ver.).mp3\n"
     ]
    },
    {
     "name": "stderr",
     "output_type": "stream",
     "text": [
      "                                                                      \r"
     ]
    },
    {
     "name": "stdout",
     "output_type": "stream",
     "text": [
      "MoviePy - Done.\n",
      "MoviePy - Writing audio in /home/j/MusicAputitude/MRCHILDREN/mp3_data/Mr.Children「常套句」Music Video(Short ver.).mp3\n"
     ]
    },
    {
     "name": "stderr",
     "output_type": "stream",
     "text": [
      "                                                                      \r"
     ]
    },
    {
     "name": "stdout",
     "output_type": "stream",
     "text": [
      "MoviePy - Done.\n",
      "MoviePy - Writing audio in /home/j/MusicAputitude/MRCHILDREN/mp3_data/Mr.Children「himawari」Music Video.mp3\n"
     ]
    },
    {
     "name": "stderr",
     "output_type": "stream",
     "text": [
      "                                                                      \r"
     ]
    },
    {
     "name": "stdout",
     "output_type": "stream",
     "text": [
      "MoviePy - Done.\n",
      "MoviePy - Writing audio in /home/j/MusicAputitude/MRCHILDREN/mp3_data/Mr.Children 「here comes my love」Music Short Film.mp3\n"
     ]
    },
    {
     "name": "stderr",
     "output_type": "stream",
     "text": [
      "                                                                        \r"
     ]
    },
    {
     "name": "stdout",
     "output_type": "stream",
     "text": [
      "MoviePy - Done.\n",
      "MoviePy - Writing audio in /home/j/MusicAputitude/MRCHILDREN/mp3_data/Mr.Children「Your Song」MV（Short ver.）.mp3\n"
     ]
    },
    {
     "name": "stderr",
     "output_type": "stream",
     "text": [
      "                                                                      \r"
     ]
    },
    {
     "name": "stdout",
     "output_type": "stream",
     "text": [
      "MoviePy - Done.\n",
      "MoviePy - Writing audio in /home/j/MusicAputitude/MRCHILDREN/mp3_data/Mr.Children「Your Song」MV.mp3\n"
     ]
    },
    {
     "name": "stderr",
     "output_type": "stream",
     "text": [
      "                                                                      \r"
     ]
    },
    {
     "name": "stdout",
     "output_type": "stream",
     "text": [
      "MoviePy - Done.\n",
      "MoviePy - Writing audio in /home/j/MusicAputitude/MRCHILDREN/mp3_data/Mr.Children「Your Song（Original Story）」MV.mp3\n"
     ]
    },
    {
     "name": "stderr",
     "output_type": "stream",
     "text": [
      "                                                                      \r"
     ]
    },
    {
     "name": "stdout",
     "output_type": "stream",
     "text": [
      "MoviePy - Done.\n",
      "MoviePy - Writing audio in /home/j/MusicAputitude/MRCHILDREN/mp3_data/Mr.Children「SINGLES」MV（Short ver.）.mp3\n"
     ]
    },
    {
     "name": "stderr",
     "output_type": "stream",
     "text": [
      "                                                                      \r"
     ]
    },
    {
     "name": "stdout",
     "output_type": "stream",
     "text": [
      "MoviePy - Done.\n",
      "MoviePy - Writing audio in /home/j/MusicAputitude/MRCHILDREN/mp3_data/Mr.Children 「Everything（it's you）」 MUSIC VIDEO.mp3\n"
     ]
    },
    {
     "name": "stderr",
     "output_type": "stream",
     "text": [
      "                                                                      \r"
     ]
    },
    {
     "name": "stdout",
     "output_type": "stream",
     "text": [
      "MoviePy - Done.\n",
      "MoviePy - Writing audio in /home/j/MusicAputitude/MRCHILDREN/mp3_data/Mr.Children 「ひびき」 MUSIC VIDEO.mp3\n"
     ]
    },
    {
     "name": "stderr",
     "output_type": "stream",
     "text": [
      "                                                                      \r"
     ]
    },
    {
     "name": "stdout",
     "output_type": "stream",
     "text": [
      "MoviePy - Done.\n",
      "MoviePy - Writing audio in /home/j/MusicAputitude/MRCHILDREN/mp3_data/Mr.Children 「シーソーゲーム 〜勇敢な恋の歌〜」 MUSIC VIDEO.mp3\n"
     ]
    },
    {
     "name": "stderr",
     "output_type": "stream",
     "text": [
      "                                                                      \r"
     ]
    },
    {
     "name": "stdout",
     "output_type": "stream",
     "text": [
      "MoviePy - Done.\n",
      "MoviePy - Writing audio in /home/j/MusicAputitude/MRCHILDREN/mp3_data/Mr.Children 「抱きしめたい」 MUSIC VIDEO.mp3\n"
     ]
    },
    {
     "name": "stderr",
     "output_type": "stream",
     "text": [
      "                                                                      \r"
     ]
    },
    {
     "name": "stdout",
     "output_type": "stream",
     "text": [
      "MoviePy - Done.\n",
      "MoviePy - Writing audio in /home/j/MusicAputitude/MRCHILDREN/mp3_data/Mr.Children 「Replay」 MUSIC VIDEO.mp3\n"
     ]
    },
    {
     "name": "stderr",
     "output_type": "stream",
     "text": [
      "                                                                      \r"
     ]
    },
    {
     "name": "stdout",
     "output_type": "stream",
     "text": [
      "MoviePy - Done.\n",
      "MoviePy - Writing audio in /home/j/MusicAputitude/MRCHILDREN/mp3_data/Mr.Children 「CROSS ROAD」 MUSIC VIDEO.mp3\n"
     ]
    },
    {
     "name": "stderr",
     "output_type": "stream",
     "text": [
      "                                                                      \r"
     ]
    },
    {
     "name": "stdout",
     "output_type": "stream",
     "text": [
      "MoviePy - Done.\n",
      "MoviePy - Writing audio in /home/j/MusicAputitude/MRCHILDREN/mp3_data/Mr.Children 「【es】～ Theme of es ～」 MUSIC VIDEO.mp3\n"
     ]
    },
    {
     "name": "stderr",
     "output_type": "stream",
     "text": [
      "                                                                      \r"
     ]
    },
    {
     "name": "stdout",
     "output_type": "stream",
     "text": [
      "MoviePy - Done.\n",
      "MoviePy - Writing audio in /home/j/MusicAputitude/MRCHILDREN/mp3_data/Mr.Children 「innocent world」 MUSIC VIDEO.mp3\n"
     ]
    },
    {
     "name": "stderr",
     "output_type": "stream",
     "text": [
      "                                                                      \r"
     ]
    },
    {
     "name": "stdout",
     "output_type": "stream",
     "text": [
      "MoviePy - Done.\n",
      "MoviePy - Writing audio in /home/j/MusicAputitude/MRCHILDREN/mp3_data/Mr.Children 「終わりなき旅」 MUSIC VIDEO.mp3\n"
     ]
    },
    {
     "name": "stderr",
     "output_type": "stream",
     "text": [
      "                                                                      \r"
     ]
    },
    {
     "name": "stdout",
     "output_type": "stream",
     "text": [
      "MoviePy - Done.\n",
      "MoviePy - Writing audio in /home/j/MusicAputitude/MRCHILDREN/mp3_data/Mr.Children 「Marshmallow day」 MUSIC VIDEO.mp3\n"
     ]
    },
    {
     "name": "stderr",
     "output_type": "stream",
     "text": [
      "                                                                      \r"
     ]
    },
    {
     "name": "stdout",
     "output_type": "stream",
     "text": [
      "MoviePy - Done.\n",
      "MoviePy - Writing audio in /home/j/MusicAputitude/MRCHILDREN/mp3_data/Mr.Children 「I'LL BE」 MUSIC VIDEO.mp3\n"
     ]
    },
    {
     "name": "stderr",
     "output_type": "stream",
     "text": [
      "                                                                      \r"
     ]
    },
    {
     "name": "stdout",
     "output_type": "stream",
     "text": [
      "MoviePy - Done.\n",
      "MoviePy - Writing audio in /home/j/MusicAputitude/MRCHILDREN/mp3_data/Mr.Children 「口笛」 MUSIC VIDEO.mp3\n"
     ]
    },
    {
     "name": "stderr",
     "output_type": "stream",
     "text": [
      "                                                                      \r"
     ]
    },
    {
     "name": "stdout",
     "output_type": "stream",
     "text": [
      "MoviePy - Done.\n",
      "MoviePy - Writing audio in /home/j/MusicAputitude/MRCHILDREN/mp3_data/Mr.Children 「優しい歌」 MUSIC VIDEO.mp3\n"
     ]
    },
    {
     "name": "stderr",
     "output_type": "stream",
     "text": [
      "                                                                      \r"
     ]
    },
    {
     "name": "stdout",
     "output_type": "stream",
     "text": [
      "MoviePy - Done.\n",
      "MoviePy - Writing audio in /home/j/MusicAputitude/MRCHILDREN/mp3_data/Mr.Children 「未来」 MUSIC VIDEO.mp3\n"
     ]
    },
    {
     "name": "stderr",
     "output_type": "stream",
     "text": [
      "                                                                      \r"
     ]
    },
    {
     "name": "stdout",
     "output_type": "stream",
     "text": [
      "MoviePy - Done.\n",
      "MoviePy - Writing audio in /home/j/MusicAputitude/MRCHILDREN/mp3_data/Mr.Children 「Worlds end」 MUSIC VIDEO.mp3\n"
     ]
    },
    {
     "name": "stderr",
     "output_type": "stream",
     "text": [
      "                                                                      \r"
     ]
    },
    {
     "name": "stdout",
     "output_type": "stream",
     "text": [
      "MoviePy - Done.\n",
      "MoviePy - Writing audio in /home/j/MusicAputitude/MRCHILDREN/mp3_data/Mr.Children 「箒星」 MUSIC VIDEO.mp3\n"
     ]
    },
    {
     "name": "stderr",
     "output_type": "stream",
     "text": [
      "                                                                      \r"
     ]
    },
    {
     "name": "stdout",
     "output_type": "stream",
     "text": [
      "MoviePy - Done.\n",
      "MoviePy - Writing audio in /home/j/MusicAputitude/MRCHILDREN/mp3_data/Mr.Children 「旅立ちの唄」 MUSIC VIDEO.mp3\n"
     ]
    },
    {
     "name": "stderr",
     "output_type": "stream",
     "text": [
      "                                                                      \r"
     ]
    },
    {
     "name": "stdout",
     "output_type": "stream",
     "text": [
      "MoviePy - Done.\n",
      "MoviePy - Writing audio in /home/j/MusicAputitude/MRCHILDREN/mp3_data/Mr.Children 「君がいた夏」 MUSIC VIDEO.mp3\n"
     ]
    },
    {
     "name": "stderr",
     "output_type": "stream",
     "text": [
      "                                                                      \r"
     ]
    },
    {
     "name": "stdout",
     "output_type": "stream",
     "text": [
      "MoviePy - Done.\n",
      "MoviePy - Writing audio in /home/j/MusicAputitude/MRCHILDREN/mp3_data/Mr.Children 「ヒカリノアトリエ」 MUSIC VIDEO.mp3\n"
     ]
    },
    {
     "name": "stderr",
     "output_type": "stream",
     "text": [
      "                                                                      \r"
     ]
    },
    {
     "name": "stdout",
     "output_type": "stream",
     "text": [
      "MoviePy - Done.\n",
      "MoviePy - Writing audio in /home/j/MusicAputitude/MRCHILDREN/mp3_data/Mr.Children 「SINGLES」 MUSIC VIDEO.mp3\n"
     ]
    },
    {
     "name": "stderr",
     "output_type": "stream",
     "text": [
      "                                                                      \r"
     ]
    },
    {
     "name": "stdout",
     "output_type": "stream",
     "text": [
      "MoviePy - Done.\n",
      "MoviePy - Writing audio in /home/j/MusicAputitude/MRCHILDREN/mp3_data/Mr.Children 「足音 〜Be Strong」 MUSIC VIDEO.mp3\n"
     ]
    },
    {
     "name": "stderr",
     "output_type": "stream",
     "text": [
      "                                                                      \r"
     ]
    },
    {
     "name": "stdout",
     "output_type": "stream",
     "text": [
      "MoviePy - Done.\n",
      "MoviePy - Writing audio in /home/j/MusicAputitude/MRCHILDREN/mp3_data/Mr.Children 「youthful days」 MUSIC VIDEO.mp3\n"
     ]
    },
    {
     "name": "stderr",
     "output_type": "stream",
     "text": [
      "                                                                      \r"
     ]
    },
    {
     "name": "stdout",
     "output_type": "stream",
     "text": [
      "MoviePy - Done.\n",
      "MoviePy - Writing audio in /home/j/MusicAputitude/MRCHILDREN/mp3_data/Mr.Children 「Any」 MUSIC VIDEO.mp3\n"
     ]
    },
    {
     "name": "stderr",
     "output_type": "stream",
     "text": [
      "                                                                      \r"
     ]
    },
    {
     "name": "stdout",
     "output_type": "stream",
     "text": [
      "MoviePy - Done.\n",
      "MoviePy - Writing audio in /home/j/MusicAputitude/MRCHILDREN/mp3_data/Mr.Children 「NOT FOUND」 MUSIC VIDEO.mp3\n"
     ]
    },
    {
     "name": "stderr",
     "output_type": "stream",
     "text": [
      "                                                                      \r"
     ]
    },
    {
     "name": "stdout",
     "output_type": "stream",
     "text": [
      "MoviePy - Done.\n",
      "MoviePy - Writing audio in /home/j/MusicAputitude/MRCHILDREN/mp3_data/Mr.Children 「掌」 MUSIC VIDEO.mp3\n"
     ]
    },
    {
     "name": "stderr",
     "output_type": "stream",
     "text": [
      "                                                                      \r"
     ]
    },
    {
     "name": "stdout",
     "output_type": "stream",
     "text": [
      "MoviePy - Done.\n",
      "MoviePy - Writing audio in /home/j/MusicAputitude/MRCHILDREN/mp3_data/Mr.Children 「祈り ～涙の軌道」 MUSIC VIDEO.mp3\n"
     ]
    },
    {
     "name": "stderr",
     "output_type": "stream",
     "text": [
      "                                                                      \r"
     ]
    },
    {
     "name": "stdout",
     "output_type": "stream",
     "text": [
      "MoviePy - Done.\n",
      "MoviePy - Writing audio in /home/j/MusicAputitude/MRCHILDREN/mp3_data/Mr.Children 「常套句」 MUSIC VIDEO.mp3\n"
     ]
    },
    {
     "name": "stderr",
     "output_type": "stream",
     "text": [
      "                                                                      \r"
     ]
    },
    {
     "name": "stdout",
     "output_type": "stream",
     "text": [
      "MoviePy - Done.\n",
      "MoviePy - Writing audio in /home/j/MusicAputitude/MRCHILDREN/mp3_data/Mr.Children「hypnosis」MUSIC VIDEO.mp3\n"
     ]
    },
    {
     "name": "stderr",
     "output_type": "stream",
     "text": [
      "                                                                      \r"
     ]
    },
    {
     "name": "stdout",
     "output_type": "stream",
     "text": [
      "MoviePy - Done.\n",
      "MoviePy - Writing audio in /home/j/MusicAputitude/MRCHILDREN/mp3_data/Mr.Children 「花の匂い」 MUSIC VIDEO.mp3\n"
     ]
    },
    {
     "name": "stderr",
     "output_type": "stream",
     "text": [
      "                                                                      \r"
     ]
    },
    {
     "name": "stdout",
     "output_type": "stream",
     "text": [
      "MoviePy - Done.\n",
      "MoviePy - Writing audio in /home/j/MusicAputitude/MRCHILDREN/mp3_data/Mr.Children 「光の射す方へ」 MUSIC VIDEO.mp3\n"
     ]
    },
    {
     "name": "stderr",
     "output_type": "stream",
     "text": [
      "                                                                      \r"
     ]
    },
    {
     "name": "stdout",
     "output_type": "stream",
     "text": [
      "MoviePy - Done.\n",
      "MoviePy - Writing audio in /home/j/MusicAputitude/MRCHILDREN/mp3_data/Mr.Children 「君が好き」 MUSIC VIDEO.mp3\n"
     ]
    },
    {
     "name": "stderr",
     "output_type": "stream",
     "text": [
      "                                                                      \r"
     ]
    },
    {
     "name": "stdout",
     "output_type": "stream",
     "text": [
      "MoviePy - Done.\n",
      "MoviePy - Writing audio in /home/j/MusicAputitude/MRCHILDREN/mp3_data/Mr.Children 「花 -Mémento-Mori-」 MUSIC VIDEO.mp3\n"
     ]
    },
    {
     "name": "stderr",
     "output_type": "stream",
     "text": [
      "                                                                      \r"
     ]
    },
    {
     "name": "stdout",
     "output_type": "stream",
     "text": [
      "MoviePy - Done.\n",
      "MoviePy - Writing audio in /home/j/MusicAputitude/MRCHILDREN/mp3_data/Mr.Children 「フェイク」 MUSIC VIDEO.mp3\n"
     ]
    },
    {
     "name": "stderr",
     "output_type": "stream",
     "text": [
      "                                                                      \r"
     ]
    },
    {
     "name": "stdout",
     "output_type": "stream",
     "text": [
      "MoviePy - Done.\n",
      "MoviePy - Writing audio in /home/j/MusicAputitude/MRCHILDREN/mp3_data/Mr.Children 「ニシエヒガシエ」 MUSIC VIDEO.mp3\n"
     ]
    },
    {
     "name": "stderr",
     "output_type": "stream",
     "text": [
      "                                                                      \r"
     ]
    },
    {
     "name": "stdout",
     "output_type": "stream",
     "text": [
      "MoviePy - Done.\n",
      "MoviePy - Writing audio in /home/j/MusicAputitude/MRCHILDREN/mp3_data/Mr.Children 「しるし」 MUSIC VIDEO.mp3\n"
     ]
    },
    {
     "name": "stderr",
     "output_type": "stream",
     "text": [
      "                                                                      \r"
     ]
    },
    {
     "name": "stdout",
     "output_type": "stream",
     "text": [
      "MoviePy - Done.\n",
      "MoviePy - Writing audio in /home/j/MusicAputitude/MRCHILDREN/mp3_data/Mr.Children 「くるみ」 MUSIC VIDEO.mp3\n"
     ]
    },
    {
     "name": "stderr",
     "output_type": "stream",
     "text": [
      "                                                                      \r"
     ]
    },
    {
     "name": "stdout",
     "output_type": "stream",
     "text": [
      "MoviePy - Done.\n",
      "MoviePy - Writing audio in /home/j/MusicAputitude/MRCHILDREN/mp3_data/Mr.Children 「Tomorrow never knows」 MUSIC VIDEO.mp3\n"
     ]
    },
    {
     "name": "stderr",
     "output_type": "stream",
     "text": [
      "                                                                      \r"
     ]
    },
    {
     "name": "stdout",
     "output_type": "stream",
     "text": [
      "MoviePy - Done.\n",
      "MoviePy - Writing audio in /home/j/MusicAputitude/MRCHILDREN/mp3_data/Mr.Children 「Sign」 MUSIC VIDEO.mp3\n"
     ]
    },
    {
     "name": "stderr",
     "output_type": "stream",
     "text": [
      "                                                                      \r"
     ]
    },
    {
     "name": "stdout",
     "output_type": "stream",
     "text": [
      "MoviePy - Done.\n",
      "MoviePy - Writing audio in /home/j/MusicAputitude/MRCHILDREN/mp3_data/Mr.Children 「HERO」 Music Video.mp3\n"
     ]
    },
    {
     "name": "stderr",
     "output_type": "stream",
     "text": [
      "                                                                      \r"
     ]
    },
    {
     "name": "stdout",
     "output_type": "stream",
     "text": [
      "MoviePy - Done.\n",
      "MoviePy - Writing audio in /home/j/MusicAputitude/MRCHILDREN/mp3_data/Mr.Children 「彩り」 MUSIC VIDEO.mp3\n"
     ]
    },
    {
     "name": "stderr",
     "output_type": "stream",
     "text": [
      "                                                                      \r"
     ]
    },
    {
     "name": "stdout",
     "output_type": "stream",
     "text": [
      "MoviePy - Done.\n",
      "MoviePy - Writing audio in /home/j/MusicAputitude/MRCHILDREN/mp3_data/Mr.Children 「エソラ」 MUSIC VIDEO.mp3\n"
     ]
    },
    {
     "name": "stderr",
     "output_type": "stream",
     "text": [
      "                                                                      \r"
     ]
    },
    {
     "name": "stdout",
     "output_type": "stream",
     "text": [
      "MoviePy - Done.\n",
      "MoviePy - Writing audio in /home/j/MusicAputitude/MRCHILDREN/mp3_data/Mr.Children 「REM」 MUSIC VIDEO.mp3\n"
     ]
    },
    {
     "name": "stderr",
     "output_type": "stream",
     "text": [
      "                                                                      \r"
     ]
    },
    {
     "name": "stdout",
     "output_type": "stream",
     "text": [
      "MoviePy - Done.\n",
      "MoviePy - Writing audio in /home/j/MusicAputitude/MRCHILDREN/mp3_data/Mr.Children 「and I love you」 MUSIC VIDEO.mp3\n"
     ]
    },
    {
     "name": "stderr",
     "output_type": "stream",
     "text": [
      "                                                                      \r"
     ]
    },
    {
     "name": "stdout",
     "output_type": "stream",
     "text": [
      "MoviePy - Done.\n",
      "MoviePy - Writing audio in /home/j/MusicAputitude/MRCHILDREN/mp3_data/Mr.Children 「GIFT」 MUSIC VIDEO.mp3\n"
     ]
    },
    {
     "name": "stderr",
     "output_type": "stream",
     "text": [
      "                                                                      \r"
     ]
    },
    {
     "name": "stdout",
     "output_type": "stream",
     "text": [
      "MoviePy - Done.\n",
      "MoviePy - Writing audio in /home/j/MusicAputitude/MRCHILDREN/mp3_data/Mr.Children 「HANABI」 MUSIC VIDEO.mp3\n"
     ]
    },
    {
     "name": "stderr",
     "output_type": "stream",
     "text": [
      "                                                                      "
     ]
    },
    {
     "name": "stdout",
     "output_type": "stream",
     "text": [
      "MoviePy - Done.\n"
     ]
    },
    {
     "name": "stderr",
     "output_type": "stream",
     "text": [
      "\r"
     ]
    }
   ],
   "source": [
    "import os\n",
    "from pytubefix import Playlist\n",
    "from moviepy.editor import AudioFileClip\n",
    "\n",
    "# アーティスト名(※　親フォルダ名として利用)\n",
    "artist = \"MRCHILDREN\"\n",
    "# プレイリストのURL\n",
    "url = \"https://www.youtube.com/watch?v=oGLKmSpgzXA&list=PLYVOTjrFBV_6dWvCrvdjn9av5CAaajN-Z\"\n",
    "# 出力先フォルダ\n",
    "output_path = {\n",
    "    \"m4a\": f\"{artist}/m4a_data\",          # m4a\n",
    "    \"mp3\": f\"{artist}/mp3_data\"           # mp3\n",
    "}\n",
    "\n",
    "# 出力先フォルダのチェック（存在しない場合は、フォルダ作成）\n",
    "for path in output_path.values():\n",
    "    if not os.path.exists(path):\n",
    "        os.makedirs(path)\n",
    "\n",
    "# プレイリストの取得\n",
    "pl = Playlist(url)\n",
    "\n",
    "# プレイリストからオーディオデータ（m4a）をダウンロードして、mp3 へ変換\n",
    "for video in pl.videos:\n",
    "    # オーディオデータ（m4a）をダウンロード \n",
    "    ys = video.streams.get_audio_only()\n",
    "    temp_file = ys.download(output_path=output_path[\"m4a\"])\n",
    "\n",
    "    # mp3 へ変換\n",
    "    mp3_file_path = os.path.join(output_path[\"mp3\"], temp_file.rsplit(\"\\\\\")[-1].replace(\"m4a\", \"mp3\")) \n",
    "    audio_file_clip = AudioFileClip(temp_file)\n",
    "    audio_file_clip.write_audiofile(filename=mp3_file_path, codec=\"libmp3lame\")"
   ]
  },
  {
   "cell_type": "code",
   "execution_count": 12,
   "metadata": {},
   "outputs": [
    {
     "name": "stdout",
     "output_type": "stream",
     "text": [
      "MoviePy - Writing audio in /home/j/MusicAputitude/YUZU/mp3_data/ゆず『SUBWAY』MUSIC VIDEO.mp3\n"
     ]
    },
    {
     "name": "stderr",
     "output_type": "stream",
     "text": [
      "                                                                      \r"
     ]
    },
    {
     "name": "stdout",
     "output_type": "stream",
     "text": [
      "MoviePy - Done.\n",
      "MoviePy - Writing audio in /home/j/MusicAputitude/YUZU/mp3_data/ゆず『夏色』MUSIC VIDEO.mp3\n"
     ]
    },
    {
     "name": "stderr",
     "output_type": "stream",
     "text": [
      "                                                                      \r"
     ]
    },
    {
     "name": "stdout",
     "output_type": "stream",
     "text": [
      "MoviePy - Done.\n",
      "MoviePy - Writing audio in /home/j/MusicAputitude/YUZU/mp3_data/ゆず『RAKUEN』MUSIC VIDEO.mp3\n"
     ]
    },
    {
     "name": "stderr",
     "output_type": "stream",
     "text": [
      "                                                                      \r"
     ]
    },
    {
     "name": "stdout",
     "output_type": "stream",
     "text": [
      "MoviePy - Done.\n",
      "MoviePy - Writing audio in /home/j/MusicAputitude/YUZU/mp3_data/ゆず『嗚呼、青春の日々』MUSIC VIDEO.mp3\n"
     ]
    },
    {
     "name": "stderr",
     "output_type": "stream",
     "text": [
      "                                                                      \r"
     ]
    },
    {
     "name": "stdout",
     "output_type": "stream",
     "text": [
      "MoviePy - Done.\n",
      "MoviePy - Writing audio in /home/j/MusicAputitude/YUZU/mp3_data/ゆず『君を想う』MUSIC VIDEO.mp3\n"
     ]
    },
    {
     "name": "stderr",
     "output_type": "stream",
     "text": [
      "                                                                      \r"
     ]
    },
    {
     "name": "stdout",
     "output_type": "stream",
     "text": [
      "MoviePy - Done.\n",
      "MoviePy - Writing audio in /home/j/MusicAputitude/YUZU/mp3_data/ゆず『明日の君と』x Netflix 恋愛リアリティショー「未来日記」シーズン２コラボMUSIC VIDEO.mp3\n"
     ]
    },
    {
     "name": "stderr",
     "output_type": "stream",
     "text": [
      "                                                                      \r"
     ]
    },
    {
     "name": "stdout",
     "output_type": "stream",
     "text": [
      "MoviePy - Done.\n",
      "MoviePy - Writing audio in /home/j/MusicAputitude/YUZU/mp3_data/ゆず『ALWAYS』MUSIC VIDEO.mp3\n"
     ]
    },
    {
     "name": "stderr",
     "output_type": "stream",
     "text": [
      "                                                                      \r"
     ]
    },
    {
     "name": "stdout",
     "output_type": "stream",
     "text": [
      "MoviePy - Done.\n",
      "MoviePy - Writing audio in /home/j/MusicAputitude/YUZU/mp3_data/ゆず『奇々怪界-KIKIKAIKAI-』MUSIC VIDEO.mp3\n"
     ]
    },
    {
     "name": "stderr",
     "output_type": "stream",
     "text": [
      "                                                                      \r"
     ]
    },
    {
     "name": "stdout",
     "output_type": "stream",
     "text": [
      "MoviePy - Done.\n",
      "MoviePy - Writing audio in /home/j/MusicAputitude/YUZU/mp3_data/ゆず『NATSUMONOGATARI』MUSIC VIDEO.mp3\n"
     ]
    },
    {
     "name": "stderr",
     "output_type": "stream",
     "text": [
      "                                                                      \r"
     ]
    },
    {
     "name": "stdout",
     "output_type": "stream",
     "text": [
      "MoviePy - Done.\n",
      "MoviePy - Writing audio in /home/j/MusicAputitude/YUZU/mp3_data/ゆず『NATSUMONOGATARI』Visualizer.mp3\n"
     ]
    },
    {
     "name": "stderr",
     "output_type": "stream",
     "text": [
      "                                                                      \r"
     ]
    },
    {
     "name": "stdout",
     "output_type": "stream",
     "text": [
      "MoviePy - Done.\n",
      "MoviePy - Writing audio in /home/j/MusicAputitude/YUZU/mp3_data/ゆず「桜木町」Music Video.mp3\n"
     ]
    },
    {
     "name": "stderr",
     "output_type": "stream",
     "text": [
      "                                                                      \r"
     ]
    },
    {
     "name": "stdout",
     "output_type": "stream",
     "text": [
      "MoviePy - Done.\n",
      "MoviePy - Writing audio in /home/j/MusicAputitude/YUZU/mp3_data/ゆず「公私混同」Official Audio.mp3\n"
     ]
    },
    {
     "name": "stderr",
     "output_type": "stream",
     "text": [
      "                                                                      \r"
     ]
    },
    {
     "name": "stdout",
     "output_type": "stream",
     "text": [
      "MoviePy - Done.\n",
      "MoviePy - Writing audio in /home/j/MusicAputitude/YUZU/mp3_data/ゆず「そのときには」Music Video.mp3\n"
     ]
    },
    {
     "name": "stderr",
     "output_type": "stream",
     "text": [
      "                                                                      \r"
     ]
    },
    {
     "name": "stdout",
     "output_type": "stream",
     "text": [
      "MoviePy - Done.\n",
      "MoviePy - Writing audio in /home/j/MusicAputitude/YUZU/mp3_data/ゆず「うまく言えない」Music Video.mp3\n"
     ]
    },
    {
     "name": "stderr",
     "output_type": "stream",
     "text": [
      "                                                                      \r"
     ]
    },
    {
     "name": "stdout",
     "output_type": "stream",
     "text": [
      "MoviePy - Done.\n",
      "MoviePy - Writing audio in /home/j/MusicAputitude/YUZU/mp3_data/ゆず「LOVE & PEACH」Music Video.mp3\n"
     ]
    },
    {
     "name": "stderr",
     "output_type": "stream",
     "text": [
      "                                                                      \r"
     ]
    },
    {
     "name": "stdout",
     "output_type": "stream",
     "text": [
      "MoviePy - Done.\n",
      "MoviePy - Writing audio in /home/j/MusicAputitude/YUZU/mp3_data/ゆず「歩行者優先」Music Video.mp3\n"
     ]
    },
    {
     "name": "stderr",
     "output_type": "stream",
     "text": [
      "                                                                      \r"
     ]
    },
    {
     "name": "stdout",
     "output_type": "stream",
     "text": [
      "MoviePy - Done.\n",
      "MoviePy - Writing audio in /home/j/MusicAputitude/YUZU/mp3_data/ゆず「HAMO」Music Video.mp3\n"
     ]
    },
    {
     "name": "stderr",
     "output_type": "stream",
     "text": [
      "                                                                      \r"
     ]
    },
    {
     "name": "stdout",
     "output_type": "stream",
     "text": [
      "MoviePy - Done.\n",
      "MoviePy - Writing audio in /home/j/MusicAputitude/YUZU/mp3_data/ゆず「with you」Music Video.mp3\n"
     ]
    },
    {
     "name": "stderr",
     "output_type": "stream",
     "text": [
      "                                                                      \r"
     ]
    },
    {
     "name": "stdout",
     "output_type": "stream",
     "text": [
      "MoviePy - Done.\n",
      "MoviePy - Writing audio in /home/j/MusicAputitude/YUZU/mp3_data/ゆず「3カウント」Music Video.mp3\n"
     ]
    },
    {
     "name": "stderr",
     "output_type": "stream",
     "text": [
      "                                                                      \r"
     ]
    },
    {
     "name": "stdout",
     "output_type": "stream",
     "text": [
      "MoviePy - Done.\n",
      "MoviePy - Writing audio in /home/j/MusicAputitude/YUZU/mp3_data/ゆず「桜会」Music Video.mp3\n"
     ]
    },
    {
     "name": "stderr",
     "output_type": "stream",
     "text": [
      "                                                                      \r"
     ]
    },
    {
     "name": "stdout",
     "output_type": "stream",
     "text": [
      "MoviePy - Done.\n",
      "MoviePy - Writing audio in /home/j/MusicAputitude/YUZU/mp3_data/ゆず「ストーリー」Music Video.mp3\n"
     ]
    },
    {
     "name": "stderr",
     "output_type": "stream",
     "text": [
      "                                                                      \r"
     ]
    },
    {
     "name": "stdout",
     "output_type": "stream",
     "text": [
      "MoviePy - Done.\n",
      "MoviePy - Writing audio in /home/j/MusicAputitude/YUZU/mp3_data/ゆず「アゲイン2」Music Video.mp3\n"
     ]
    },
    {
     "name": "stderr",
     "output_type": "stream",
     "text": [
      "                                                                      \r"
     ]
    },
    {
     "name": "stdout",
     "output_type": "stream",
     "text": [
      "MoviePy - Done.\n",
      "MoviePy - Writing audio in /home/j/MusicAputitude/YUZU/mp3_data/ゆず「栄光の架橋」Music Video.mp3\n"
     ]
    },
    {
     "name": "stderr",
     "output_type": "stream",
     "text": [
      "                                                                      \r"
     ]
    },
    {
     "name": "stdout",
     "output_type": "stream",
     "text": [
      "MoviePy - Done.\n",
      "MoviePy - Writing audio in /home/j/MusicAputitude/YUZU/mp3_data/ゆず「花咲ク街」Music Video(FULL ver.).mp3\n"
     ]
    },
    {
     "name": "stderr",
     "output_type": "stream",
     "text": [
      "                                                                      \r"
     ]
    },
    {
     "name": "stdout",
     "output_type": "stream",
     "text": [
      "MoviePy - Done.\n",
      "MoviePy - Writing audio in /home/j/MusicAputitude/YUZU/mp3_data/ゆず「GreenGreen」Music Video.mp3\n"
     ]
    },
    {
     "name": "stderr",
     "output_type": "stream",
     "text": [
      "                                                                      \r"
     ]
    },
    {
     "name": "stdout",
     "output_type": "stream",
     "text": [
      "MoviePy - Done.\n",
      "MoviePy - Writing audio in /home/j/MusicAputitude/YUZU/mp3_data/ゆず「SEIMEI」Music Video.mp3\n"
     ]
    },
    {
     "name": "stderr",
     "output_type": "stream",
     "text": [
      "                                                                      \r"
     ]
    },
    {
     "name": "stdout",
     "output_type": "stream",
     "text": [
      "MoviePy - Done.\n",
      "MoviePy - Writing audio in /home/j/MusicAputitude/YUZU/mp3_data/ゆず「マボロシ」Music Video.mp3\n"
     ]
    },
    {
     "name": "stderr",
     "output_type": "stream",
     "text": [
      "                                                                      \r"
     ]
    },
    {
     "name": "stdout",
     "output_type": "stream",
     "text": [
      "MoviePy - Done.\n",
      "MoviePy - Writing audio in /home/j/MusicAputitude/YUZU/mp3_data/ゆず「マスカット」Music Video.mp3\n"
     ]
    },
    {
     "name": "stderr",
     "output_type": "stream",
     "text": [
      "                                                                      \r"
     ]
    },
    {
     "name": "stdout",
     "output_type": "stream",
     "text": [
      "MoviePy - Done.\n",
      "MoviePy - Writing audio in /home/j/MusicAputitude/YUZU/mp3_data/ゆず「公園通り」Music Video.mp3\n"
     ]
    },
    {
     "name": "stderr",
     "output_type": "stream",
     "text": [
      "                                                                      \r"
     ]
    },
    {
     "name": "stdout",
     "output_type": "stream",
     "text": [
      "MoviePy - Done.\n",
      "MoviePy - Writing audio in /home/j/MusicAputitude/YUZU/mp3_data/ゆず「イコール」Music Video.mp3\n"
     ]
    },
    {
     "name": "stderr",
     "output_type": "stream",
     "text": [
      "                                                                      \r"
     ]
    },
    {
     "name": "stdout",
     "output_type": "stream",
     "text": [
      "MoviePy - Done.\n",
      "MoviePy - Writing audio in /home/j/MusicAputitude/YUZU/mp3_data/ゆず「うたエール」Music Video.mp3\n"
     ]
    },
    {
     "name": "stderr",
     "output_type": "stream",
     "text": [
      "                                                                      \r"
     ]
    },
    {
     "name": "stdout",
     "output_type": "stream",
     "text": [
      "MoviePy - Done.\n",
      "MoviePy - Writing audio in /home/j/MusicAputitude/YUZU/mp3_data/ゆず「恋、弾けました。」Music Video.mp3\n"
     ]
    },
    {
     "name": "stderr",
     "output_type": "stream",
     "text": [
      "                                                                      \r"
     ]
    },
    {
     "name": "stdout",
     "output_type": "stream",
     "text": [
      "MoviePy - Done.\n",
      "MoviePy - Writing audio in /home/j/MusicAputitude/YUZU/mp3_data/ゆず「恋、弾けました。」Music Video(Movie Ver.).mp3\n"
     ]
    },
    {
     "name": "stderr",
     "output_type": "stream",
     "text": [
      "                                                                      \r"
     ]
    },
    {
     "name": "stdout",
     "output_type": "stream",
     "text": [
      "MoviePy - Done.\n",
      "MoviePy - Writing audio in /home/j/MusicAputitude/YUZU/mp3_data/ゆず「愛こそ」Music Video.mp3\n"
     ]
    },
    {
     "name": "stderr",
     "output_type": "stream",
     "text": [
      "                                                                      \r"
     ]
    },
    {
     "name": "stdout",
     "output_type": "stream",
     "text": [
      "MoviePy - Done.\n",
      "MoviePy - Writing audio in /home/j/MusicAputitude/YUZU/mp3_data/ゆず「カナリア」.mp3\n"
     ]
    },
    {
     "name": "stderr",
     "output_type": "stream",
     "text": [
      "                                                                      \r"
     ]
    },
    {
     "name": "stdout",
     "output_type": "stream",
     "text": [
      "MoviePy - Done.\n",
      "MoviePy - Writing audio in /home/j/MusicAputitude/YUZU/mp3_data/ゆず「タッタ」.mp3\n"
     ]
    },
    {
     "name": "stderr",
     "output_type": "stream",
     "text": [
      "                                                                      \r"
     ]
    },
    {
     "name": "stdout",
     "output_type": "stream",
     "text": [
      "MoviePy - Done.\n",
      "MoviePy - Writing audio in /home/j/MusicAputitude/YUZU/mp3_data/ゆず「TOWA」.mp3\n"
     ]
    },
    {
     "name": "stderr",
     "output_type": "stream",
     "text": [
      "                                                                      \r"
     ]
    },
    {
     "name": "stdout",
     "output_type": "stream",
     "text": [
      "MoviePy - Done.\n",
      "MoviePy - Writing audio in /home/j/MusicAputitude/YUZU/mp3_data/ゆず「終わらない歌」.mp3\n"
     ]
    },
    {
     "name": "stderr",
     "output_type": "stream",
     "text": [
      "                                                                      \r"
     ]
    },
    {
     "name": "stdout",
     "output_type": "stream",
     "text": [
      "MoviePy - Done.\n",
      "MoviePy - Writing audio in /home/j/MusicAputitude/YUZU/mp3_data/ゆず「かける」.mp3\n"
     ]
    },
    {
     "name": "stderr",
     "output_type": "stream",
     "text": [
      "                                                                      \r"
     ]
    },
    {
     "name": "stdout",
     "output_type": "stream",
     "text": [
      "MoviePy - Done.\n",
      "MoviePy - Writing audio in /home/j/MusicAputitude/YUZU/mp3_data/ゆず「OLA!!」.mp3\n"
     ]
    },
    {
     "name": "stderr",
     "output_type": "stream",
     "text": [
      "                                                                      \r"
     ]
    },
    {
     "name": "stdout",
     "output_type": "stream",
     "text": [
      "MoviePy - Done.\n",
      "MoviePy - Writing audio in /home/j/MusicAputitude/YUZU/mp3_data/ゆず「ポケット」.mp3\n"
     ]
    },
    {
     "name": "stderr",
     "output_type": "stream",
     "text": [
      "                                                                      \r"
     ]
    },
    {
     "name": "stdout",
     "output_type": "stream",
     "text": [
      "MoviePy - Done.\n",
      "MoviePy - Writing audio in /home/j/MusicAputitude/YUZU/mp3_data/ゆず「ひだまり」.mp3\n"
     ]
    },
    {
     "name": "stderr",
     "output_type": "stream",
     "text": [
      "                                                                      \r"
     ]
    },
    {
     "name": "stdout",
     "output_type": "stream",
     "text": [
      "MoviePy - Done.\n",
      "MoviePy - Writing audio in /home/j/MusicAputitude/YUZU/mp3_data/ゆず「ヒカレ」.mp3\n"
     ]
    },
    {
     "name": "stderr",
     "output_type": "stream",
     "text": [
      "                                                                      \r"
     ]
    },
    {
     "name": "stdout",
     "output_type": "stream",
     "text": [
      "MoviePy - Done.\n",
      "MoviePy - Writing audio in /home/j/MusicAputitude/YUZU/mp3_data/ゆず「表裏一体」.mp3\n"
     ]
    },
    {
     "name": "stderr",
     "output_type": "stream",
     "text": [
      "                                                                      \r"
     ]
    },
    {
     "name": "stdout",
     "output_type": "stream",
     "text": [
      "MoviePy - Done.\n",
      "MoviePy - Writing audio in /home/j/MusicAputitude/YUZU/mp3_data/ゆず「守ってあげたい」.mp3\n"
     ]
    },
    {
     "name": "stderr",
     "output_type": "stream",
     "text": [
      "                                                                        \r"
     ]
    },
    {
     "name": "stdout",
     "output_type": "stream",
     "text": [
      "MoviePy - Done.\n",
      "MoviePy - Writing audio in /home/j/MusicAputitude/YUZU/mp3_data/ゆず「雨のち晴レルヤ」.mp3\n"
     ]
    },
    {
     "name": "stderr",
     "output_type": "stream",
     "text": [
      "                                                                       \r"
     ]
    },
    {
     "name": "stdout",
     "output_type": "stream",
     "text": [
      "MoviePy - Done.\n",
      "MoviePy - Writing audio in /home/j/MusicAputitude/YUZU/mp3_data/ゆず「友　〜旅立ちの時〜」.mp3\n"
     ]
    },
    {
     "name": "stderr",
     "output_type": "stream",
     "text": [
      "                                                                      \r"
     ]
    },
    {
     "name": "stdout",
     "output_type": "stream",
     "text": [
      "MoviePy - Done.\n",
      "MoviePy - Writing audio in /home/j/MusicAputitude/YUZU/mp3_data/ゆず「LAND」.mp3\n"
     ]
    },
    {
     "name": "stderr",
     "output_type": "stream",
     "text": [
      "                                                                      \r"
     ]
    },
    {
     "name": "stdout",
     "output_type": "stream",
     "text": [
      "MoviePy - Done.\n",
      "MoviePy - Writing audio in /home/j/MusicAputitude/YUZU/mp3_data/ゆず「イロトリドリ」.mp3\n"
     ]
    },
    {
     "name": "stderr",
     "output_type": "stream",
     "text": [
      "                                                                      \r"
     ]
    },
    {
     "name": "stdout",
     "output_type": "stream",
     "text": [
      "MoviePy - Done.\n",
      "MoviePy - Writing audio in /home/j/MusicAputitude/YUZU/mp3_data/ゆず「REASON」.mp3\n"
     ]
    },
    {
     "name": "stderr",
     "output_type": "stream",
     "text": [
      "                                                                      \r"
     ]
    },
    {
     "name": "stdout",
     "output_type": "stream",
     "text": [
      "MoviePy - Done.\n",
      "MoviePy - Writing audio in /home/j/MusicAputitude/YUZU/mp3_data/ゆず　「また明日」.mp3\n"
     ]
    },
    {
     "name": "stderr",
     "output_type": "stream",
     "text": [
      "                                                                     \r"
     ]
    },
    {
     "name": "stdout",
     "output_type": "stream",
     "text": [
      "MoviePy - Done.\n",
      "MoviePy - Writing audio in /home/j/MusicAputitude/YUZU/mp3_data/ゆず　「with you」.mp3\n"
     ]
    },
    {
     "name": "stderr",
     "output_type": "stream",
     "text": [
      "                                                                    \r"
     ]
    },
    {
     "name": "stdout",
     "output_type": "stream",
     "text": [
      "MoviePy - Done.\n",
      "MoviePy - Writing audio in /home/j/MusicAputitude/YUZU/mp3_data/ゆず 「翔」.mp3\n"
     ]
    },
    {
     "name": "stderr",
     "output_type": "stream",
     "text": [
      "                                                                     \r"
     ]
    },
    {
     "name": "stdout",
     "output_type": "stream",
     "text": [
      "MoviePy - Done.\n",
      "MoviePy - Writing audio in /home/j/MusicAputitude/YUZU/mp3_data/ゆず『LOVE & PEACH』.mp3\n"
     ]
    },
    {
     "name": "stderr",
     "output_type": "stream",
     "text": [
      "                                                                    "
     ]
    },
    {
     "name": "stdout",
     "output_type": "stream",
     "text": [
      "MoviePy - Done.\n"
     ]
    },
    {
     "name": "stderr",
     "output_type": "stream",
     "text": [
      "\r"
     ]
    }
   ],
   "source": [
    "import os\n",
    "from pytubefix import Playlist\n",
    "from moviepy.editor import AudioFileClip\n",
    "\n",
    "# アーティスト名(※　親フォルダ名として利用)\n",
    "artist = \"YUZU\"\n",
    "# プレイリストのURL\n",
    "url = \"https://www.youtube.com/watch?v=uqBqWm9P5Rw&list=PLTnbyARXYutYjGNqaIg6X9LgUT4_ymlFw\"\n",
    "# 出力先フォルダ\n",
    "output_path = {\n",
    "    \"m4a\": f\"{artist}/m4a_data\",          # m4a\n",
    "    \"mp3\": f\"{artist}/mp3_data\"           # mp3\n",
    "}\n",
    "\n",
    "# 出力先フォルダのチェック（存在しない場合は、フォルダ作成）\n",
    "for path in output_path.values():\n",
    "    if not os.path.exists(path):\n",
    "        os.makedirs(path)\n",
    "\n",
    "# プレイリストの取得\n",
    "pl = Playlist(url)\n",
    "\n",
    "# プレイリストからオーディオデータ（m4a）をダウンロードして、mp3 へ変換\n",
    "for video in pl.videos:\n",
    "    # オーディオデータ（m4a）をダウンロード \n",
    "    ys = video.streams.get_audio_only()\n",
    "    temp_file = ys.download(output_path=output_path[\"m4a\"])\n",
    "\n",
    "    # mp3 へ変換\n",
    "    mp3_file_path = os.path.join(output_path[\"mp3\"], temp_file.rsplit(\"\\\\\")[-1].replace(\"m4a\", \"mp3\")) \n",
    "    audio_file_clip = AudioFileClip(temp_file)\n",
    "    audio_file_clip.write_audiofile(filename=mp3_file_path, codec=\"libmp3lame\")"
   ]
  },
  {
   "cell_type": "code",
   "execution_count": 24,
   "metadata": {},
   "outputs": [
    {
     "name": "stdout",
     "output_type": "stream",
     "text": [
      "MoviePy - Writing audio in /home/j/MusicAputitude/TANIMURA/mp3_data/Lion Heart (Live At National Theatre of Japan 2022).mp3\n"
     ]
    },
    {
     "name": "stderr",
     "output_type": "stream",
     "text": [
      "                                                                      \r"
     ]
    },
    {
     "name": "stdout",
     "output_type": "stream",
     "text": [
      "MoviePy - Done.\n",
      "MoviePy - Writing audio in /home/j/MusicAputitude/TANIMURA/mp3_data/Harvest (Live At National Theatre of Japan 2022).mp3\n"
     ]
    },
    {
     "name": "stderr",
     "output_type": "stream",
     "text": [
      "                                                                      \r"
     ]
    },
    {
     "name": "stdout",
     "output_type": "stream",
     "text": [
      "MoviePy - Done.\n",
      "MoviePy - Writing audio in /home/j/MusicAputitude/TANIMURA/mp3_data/Furimukanaide (Live At National Theatre of Japan 2022).mp3\n"
     ]
    },
    {
     "name": "stderr",
     "output_type": "stream",
     "text": [
      "                                                                      \r"
     ]
    },
    {
     "name": "stdout",
     "output_type": "stream",
     "text": [
      "MoviePy - Done.\n",
      "MoviePy - Writing audio in /home/j/MusicAputitude/TANIMURA/mp3_data/Hyacinthus (Live At National Theatre of Japan 2022).mp3\n"
     ]
    },
    {
     "name": "stderr",
     "output_type": "stream",
     "text": [
      "                                                                      \r"
     ]
    },
    {
     "name": "stdout",
     "output_type": "stream",
     "text": [
      "MoviePy - Done.\n",
      "MoviePy - Writing audio in /home/j/MusicAputitude/TANIMURA/mp3_data/Akane (Live At National Theatre of Japan 2022).mp3\n"
     ]
    },
    {
     "name": "stderr",
     "output_type": "stream",
     "text": [
      "                                                                      \r"
     ]
    },
    {
     "name": "stdout",
     "output_type": "stream",
     "text": [
      "MoviePy - Done.\n",
      "MoviePy - Writing audio in /home/j/MusicAputitude/TANIMURA/mp3_data/Kokoro Tsutae (Live At National Theatre of Japan 2022).mp3\n"
     ]
    },
    {
     "name": "stderr",
     "output_type": "stream",
     "text": [
      "                                                                      \r"
     ]
    },
    {
     "name": "stdout",
     "output_type": "stream",
     "text": [
      "MoviePy - Done.\n",
      "MoviePy - Writing audio in /home/j/MusicAputitude/TANIMURA/mp3_data/Kanshou Kikou (Live At National Theatre of Japan 2022).mp3\n"
     ]
    },
    {
     "name": "stderr",
     "output_type": "stream",
     "text": [
      "                                                                      \r"
     ]
    },
    {
     "name": "stdout",
     "output_type": "stream",
     "text": [
      "MoviePy - Done.\n",
      "MoviePy - Writing audio in /home/j/MusicAputitude/TANIMURA/mp3_data/This Is My Trial [Watashi No Shiren] (Live At National Theatre of Japan 2022).mp3\n"
     ]
    },
    {
     "name": "stderr",
     "output_type": "stream",
     "text": [
      "                                                                      \r"
     ]
    },
    {
     "name": "stdout",
     "output_type": "stream",
     "text": [
      "MoviePy - Done.\n",
      "MoviePy - Writing audio in /home/j/MusicAputitude/TANIMURA/mp3_data/Iihi Tabidachi (Live At National Theatre of Japan 2022).mp3\n"
     ]
    },
    {
     "name": "stderr",
     "output_type": "stream",
     "text": [
      "                                                                      \r"
     ]
    },
    {
     "name": "stdout",
     "output_type": "stream",
     "text": [
      "MoviePy - Done.\n",
      "MoviePy - Writing audio in /home/j/MusicAputitude/TANIMURA/mp3_data/Kazeno Melody (Live At National Theatre of Japan 2022).mp3\n"
     ]
    },
    {
     "name": "stderr",
     "output_type": "stream",
     "text": [
      "                                                                      \r"
     ]
    },
    {
     "name": "stdout",
     "output_type": "stream",
     "text": [
      "MoviePy - Done.\n",
      "MoviePy - Writing audio in /home/j/MusicAputitude/TANIMURA/mp3_data/Kimi No Hitomi Wa 10000 Volts (Live At National Theatre of Japan 2022).mp3\n"
     ]
    },
    {
     "name": "stderr",
     "output_type": "stream",
     "text": [
      "                                                                      \r"
     ]
    },
    {
     "name": "stdout",
     "output_type": "stream",
     "text": [
      "MoviePy - Done.\n",
      "MoviePy - Writing audio in /home/j/MusicAputitude/TANIMURA/mp3_data/Yumeno Sonosaki (Live At National Theatre of Japan 2022).mp3\n"
     ]
    },
    {
     "name": "stderr",
     "output_type": "stream",
     "text": [
      "                                                                      \r"
     ]
    },
    {
     "name": "stdout",
     "output_type": "stream",
     "text": [
      "MoviePy - Done.\n",
      "MoviePy - Writing audio in /home/j/MusicAputitude/TANIMURA/mp3_data/Sunano Juujika (Live At National Theatre of Japan 2022).mp3\n"
     ]
    },
    {
     "name": "stderr",
     "output_type": "stream",
     "text": [
      "                                                                      \r"
     ]
    },
    {
     "name": "stdout",
     "output_type": "stream",
     "text": [
      "MoviePy - Done.\n",
      "MoviePy - Writing audio in /home/j/MusicAputitude/TANIMURA/mp3_data/Romantetsudo -Satetsuhen- (Live At National Theatre of Japan 2022).mp3\n"
     ]
    },
    {
     "name": "stderr",
     "output_type": "stream",
     "text": [
      "                                                                      \r"
     ]
    },
    {
     "name": "stdout",
     "output_type": "stream",
     "text": [
      "MoviePy - Done.\n",
      "MoviePy - Writing audio in /home/j/MusicAputitude/TANIMURA/mp3_data/Ai (Live At National Theatre of Japan 2022).mp3\n"
     ]
    },
    {
     "name": "stderr",
     "output_type": "stream",
     "text": [
      "                                                                      \r"
     ]
    },
    {
     "name": "stdout",
     "output_type": "stream",
     "text": [
      "MoviePy - Done.\n",
      "MoviePy - Writing audio in /home/j/MusicAputitude/TANIMURA/mp3_data/Gunjo (Live At National Theatre of Japan 2022).mp3\n"
     ]
    },
    {
     "name": "stderr",
     "output_type": "stream",
     "text": [
      "                                                                        \r"
     ]
    },
    {
     "name": "stdout",
     "output_type": "stream",
     "text": [
      "MoviePy - Done.\n",
      "MoviePy - Writing audio in /home/j/MusicAputitude/TANIMURA/mp3_data/Subaru (Live At National Theatre of Japan 2022).mp3\n"
     ]
    },
    {
     "name": "stderr",
     "output_type": "stream",
     "text": [
      "                                                                      \r"
     ]
    },
    {
     "name": "stdout",
     "output_type": "stream",
     "text": [
      "MoviePy - Done.\n",
      "MoviePy - Writing audio in /home/j/MusicAputitude/TANIMURA/mp3_data/Sakura Saku (Live At National Theatre of Japan 2022).mp3\n"
     ]
    },
    {
     "name": "stderr",
     "output_type": "stream",
     "text": [
      "                                                                      \r"
     ]
    },
    {
     "name": "stdout",
     "output_type": "stream",
     "text": [
      "MoviePy - Done.\n",
      "MoviePy - Writing audio in /home/j/MusicAputitude/TANIMURA/mp3_data/Sarai (Live At National Theatre of Japan 2022).mp3\n"
     ]
    },
    {
     "name": "stderr",
     "output_type": "stream",
     "text": [
      "                                                                      "
     ]
    },
    {
     "name": "stdout",
     "output_type": "stream",
     "text": [
      "MoviePy - Done.\n"
     ]
    },
    {
     "name": "stderr",
     "output_type": "stream",
     "text": [
      "\r"
     ]
    }
   ],
   "source": [
    "import os\n",
    "from pytubefix import Playlist\n",
    "from moviepy.editor import AudioFileClip\n",
    "\n",
    "# アーティスト名(※　親フォルダ名として利用)\n",
    "artist = \"TANIMURA\"\n",
    "# プレイリストのURL\n",
    "url = \"https://www.youtube.com/watch?v=dKS4A3h1Mmo&list=OLAK5uy_mV7xHGOHp3ks-cyggI7F9xkEvNzqTE5FA\"\n",
    "# 出力先フォルダ\n",
    "output_path = {\n",
    "    \"m4a\": f\"{artist}/m4a_data\",          # m4a\n",
    "    \"mp3\": f\"{artist}/mp3_data\"           # mp3\n",
    "}\n",
    "\n",
    "# 出力先フォルダのチェック（存在しない場合は、フォルダ作成）\n",
    "for path in output_path.values():\n",
    "    if not os.path.exists(path):\n",
    "        os.makedirs(path)\n",
    "\n",
    "# プレイリストの取得\n",
    "pl = Playlist(url)\n",
    "\n",
    "# プレイリストからオーディオデータ（m4a）をダウンロードして、mp3 へ変換\n",
    "for video in pl.videos:\n",
    "    # オーディオデータ（m4a）をダウンロード \n",
    "    ys = video.streams.get_audio_only()\n",
    "    temp_file = ys.download(output_path=output_path[\"m4a\"])\n",
    "\n",
    "    # mp3 へ変換\n",
    "    mp3_file_path = os.path.join(output_path[\"mp3\"], temp_file.rsplit(\"\\\\\")[-1].replace(\"m4a\", \"mp3\")) \n",
    "    audio_file_clip = AudioFileClip(temp_file)\n",
    "    audio_file_clip.write_audiofile(filename=mp3_file_path, codec=\"libmp3lame\")"
   ]
  },
  {
   "cell_type": "code",
   "execution_count": 9,
   "metadata": {},
   "outputs": [
    {
     "name": "stderr",
     "output_type": "stream",
     "text": [
      "chunk:  64%|██████▍   | 8686/13574 [04:25<00:02, 2074.30it/s, now=None]"
     ]
    },
    {
     "name": "stdout",
     "output_type": "stream",
     "text": [
      "MoviePy - Writing audio in /home/j/MusicAputitude/HOTEI/mp3_data/Bad Feeling (25 Years Anniversary Version).mp3\n"
     ]
    },
    {
     "name": "stderr",
     "output_type": "stream",
     "text": [
      "chunk:  64%|██████▍   | 8686/13574 [04:28<00:02, 2074.30it/s, now=None]"
     ]
    },
    {
     "name": "stdout",
     "output_type": "stream",
     "text": [
      "MoviePy - Done.\n"
     ]
    },
    {
     "name": "stderr",
     "output_type": "stream",
     "text": [
      "chunk:  64%|██████▍   | 8686/13574 [04:29<00:02, 2074.30it/s, now=None]"
     ]
    },
    {
     "name": "stdout",
     "output_type": "stream",
     "text": [
      "MoviePy - Writing audio in /home/j/MusicAputitude/HOTEI/mp3_data/Be My Baby (25 Years Anniversary Version).mp3\n"
     ]
    },
    {
     "name": "stderr",
     "output_type": "stream",
     "text": [
      "chunk:  64%|██████▍   | 8686/13574 [04:32<00:02, 2074.30it/s, now=None]"
     ]
    },
    {
     "name": "stdout",
     "output_type": "stream",
     "text": [
      "MoviePy - Done.\n"
     ]
    },
    {
     "name": "stderr",
     "output_type": "stream",
     "text": [
      "chunk:  64%|██████▍   | 8686/13574 [04:33<00:02, 2074.30it/s, now=None]"
     ]
    },
    {
     "name": "stdout",
     "output_type": "stream",
     "text": [
      "MoviePy - Writing audio in /home/j/MusicAputitude/HOTEI/mp3_data/Saraba Seishun No Hikari (Unplugged).mp3\n"
     ]
    },
    {
     "name": "stderr",
     "output_type": "stream",
     "text": [
      "chunk:  64%|██████▍   | 8686/13574 [04:36<00:02, 2074.30it/s, now=None]"
     ]
    },
    {
     "name": "stdout",
     "output_type": "stream",
     "text": [
      "MoviePy - Done.\n"
     ]
    },
    {
     "name": "stderr",
     "output_type": "stream",
     "text": [
      "chunk:  64%|██████▍   | 8686/13574 [04:37<00:02, 2074.30it/s, now=None]"
     ]
    },
    {
     "name": "stdout",
     "output_type": "stream",
     "text": [
      "MoviePy - Writing audio in /home/j/MusicAputitude/HOTEI/mp3_data/Thrill (Punky Version).mp3\n"
     ]
    },
    {
     "name": "stderr",
     "output_type": "stream",
     "text": [
      "chunk:  64%|██████▍   | 8686/13574 [04:40<00:02, 2074.30it/s, now=None]"
     ]
    },
    {
     "name": "stdout",
     "output_type": "stream",
     "text": [
      "MoviePy - Done.\n"
     ]
    },
    {
     "name": "stderr",
     "output_type": "stream",
     "text": [
      "chunk:  64%|██████▍   | 8686/13574 [04:41<00:02, 2074.30it/s, now=None]"
     ]
    },
    {
     "name": "stdout",
     "output_type": "stream",
     "text": [
      "MoviePy - Writing audio in /home/j/MusicAputitude/HOTEI/mp3_data/Beat Sweet (25 Years Anniversary Version).mp3\n"
     ]
    },
    {
     "name": "stderr",
     "output_type": "stream",
     "text": [
      "chunk:  64%|██████▍   | 8686/13574 [04:44<00:02, 2074.30it/s, now=None]"
     ]
    },
    {
     "name": "stdout",
     "output_type": "stream",
     "text": [
      "MoviePy - Done.\n"
     ]
    },
    {
     "name": "stderr",
     "output_type": "stream",
     "text": [
      "chunk:  64%|██████▍   | 8686/13574 [04:44<00:02, 2074.30it/s, now=None]"
     ]
    },
    {
     "name": "stdout",
     "output_type": "stream",
     "text": [
      "MoviePy - Writing audio in /home/j/MusicAputitude/HOTEI/mp3_data/Bambina (Go! Go! Version).mp3\n"
     ]
    },
    {
     "name": "stderr",
     "output_type": "stream",
     "text": [
      "chunk:  64%|██████▍   | 8686/13574 [04:47<00:02, 2074.30it/s, now=None]"
     ]
    },
    {
     "name": "stdout",
     "output_type": "stream",
     "text": [
      "MoviePy - Done.\n"
     ]
    },
    {
     "name": "stderr",
     "output_type": "stream",
     "text": [
      "chunk:  64%|██████▍   | 8686/13574 [04:48<00:02, 2074.30it/s, now=None]"
     ]
    },
    {
     "name": "stdout",
     "output_type": "stream",
     "text": [
      "MoviePy - Writing audio in /home/j/MusicAputitude/HOTEI/mp3_data/Lonely Wild (Orchestral Version).mp3\n"
     ]
    },
    {
     "name": "stderr",
     "output_type": "stream",
     "text": [
      "chunk:  64%|██████▍   | 8686/13574 [04:53<00:02, 2074.30it/s, now=None]"
     ]
    },
    {
     "name": "stdout",
     "output_type": "stream",
     "text": [
      "MoviePy - Done.\n"
     ]
    },
    {
     "name": "stderr",
     "output_type": "stream",
     "text": [
      "chunk:  64%|██████▍   | 8686/13574 [04:54<00:02, 2074.30it/s, now=None]"
     ]
    },
    {
     "name": "stdout",
     "output_type": "stream",
     "text": [
      "MoviePy - Writing audio in /home/j/MusicAputitude/HOTEI/mp3_data/Poison (Sexy Jazz Version).mp3\n"
     ]
    },
    {
     "name": "stderr",
     "output_type": "stream",
     "text": [
      "chunk:  64%|██████▍   | 8686/13574 [04:57<00:02, 2074.30it/s, now=None]"
     ]
    },
    {
     "name": "stdout",
     "output_type": "stream",
     "text": [
      "MoviePy - Done.\n"
     ]
    },
    {
     "name": "stderr",
     "output_type": "stream",
     "text": [
      "chunk:  64%|██████▍   | 8686/13574 [04:58<00:02, 2074.30it/s, now=None]"
     ]
    },
    {
     "name": "stdout",
     "output_type": "stream",
     "text": [
      "MoviePy - Writing audio in /home/j/MusicAputitude/HOTEI/mp3_data/Song For Us (25 Years Anniversary New Song).mp3\n"
     ]
    },
    {
     "name": "stderr",
     "output_type": "stream",
     "text": [
      "chunk:  64%|██████▍   | 8686/13574 [05:00<00:02, 2074.30it/s, now=None]"
     ]
    },
    {
     "name": "stdout",
     "output_type": "stream",
     "text": [
      "MoviePy - Done.\n"
     ]
    },
    {
     "name": "stderr",
     "output_type": "stream",
     "text": [
      "chunk:  64%|██████▍   | 8686/13574 [05:01<00:02, 2074.30it/s, now=None]"
     ]
    },
    {
     "name": "stdout",
     "output_type": "stream",
     "text": [
      "MoviePy - Writing audio in /home/j/MusicAputitude/HOTEI/mp3_data/Battle Without Honor Or Humanity (Samurai Mix).mp3\n"
     ]
    },
    {
     "name": "stderr",
     "output_type": "stream",
     "text": [
      "chunk:  64%|██████▍   | 8686/13574 [05:05<00:02, 2074.30it/s, now=None]"
     ]
    },
    {
     "name": "stdout",
     "output_type": "stream",
     "text": [
      "MoviePy - Done.\n"
     ]
    },
    {
     "name": "stderr",
     "output_type": "stream",
     "text": [
      "chunk:  64%|██████▍   | 8686/13574 [05:06<00:02, 2074.30it/s, now=None]"
     ]
    },
    {
     "name": "stdout",
     "output_type": "stream",
     "text": [
      "MoviePy - Writing audio in /home/j/MusicAputitude/HOTEI/mp3_data/Russian Roulette.mp3\n"
     ]
    },
    {
     "name": "stderr",
     "output_type": "stream",
     "text": [
      "chunk:  64%|██████▍   | 8686/13574 [05:08<00:02, 2074.30it/s, now=None]"
     ]
    },
    {
     "name": "stdout",
     "output_type": "stream",
     "text": [
      "MoviePy - Done.\n"
     ]
    },
    {
     "name": "stderr",
     "output_type": "stream",
     "text": [
      "chunk:  64%|██████▍   | 8686/13574 [05:09<00:02, 2074.30it/s, now=None]"
     ]
    },
    {
     "name": "stdout",
     "output_type": "stream",
     "text": [
      "MoviePy - Writing audio in /home/j/MusicAputitude/HOTEI/mp3_data/Nocturne No. 9.mp3\n"
     ]
    },
    {
     "name": "stderr",
     "output_type": "stream",
     "text": [
      "chunk:  64%|██████▍   | 8686/13574 [05:12<00:02, 2074.30it/s, now=None]"
     ]
    },
    {
     "name": "stdout",
     "output_type": "stream",
     "text": [
      "MoviePy - Done.\n"
     ]
    },
    {
     "name": "stderr",
     "output_type": "stream",
     "text": [
      "chunk:  64%|██████▍   | 8686/13574 [05:12<00:02, 2074.30it/s, now=None]"
     ]
    },
    {
     "name": "stdout",
     "output_type": "stream",
     "text": [
      "MoviePy - Writing audio in /home/j/MusicAputitude/HOTEI/mp3_data/Destiny Rose.mp3\n"
     ]
    },
    {
     "name": "stderr",
     "output_type": "stream",
     "text": [
      "chunk:  64%|██████▍   | 8686/13574 [05:15<00:02, 2074.30it/s, now=None]"
     ]
    },
    {
     "name": "stdout",
     "output_type": "stream",
     "text": [
      "MoviePy - Done.\n"
     ]
    },
    {
     "name": "stderr",
     "output_type": "stream",
     "text": [
      "chunk:  64%|██████▍   | 8686/13574 [05:16<00:02, 2074.30it/s, now=None]"
     ]
    },
    {
     "name": "stdout",
     "output_type": "stream",
     "text": [
      "MoviePy - Writing audio in /home/j/MusicAputitude/HOTEI/mp3_data/Love Junkie.mp3\n"
     ]
    },
    {
     "name": "stderr",
     "output_type": "stream",
     "text": [
      "chunk:  64%|██████▍   | 8686/13574 [05:18<00:02, 2074.30it/s, now=None]"
     ]
    },
    {
     "name": "stdout",
     "output_type": "stream",
     "text": [
      "MoviePy - Done.\n"
     ]
    },
    {
     "name": "stderr",
     "output_type": "stream",
     "text": [
      "chunk:  64%|██████▍   | 8686/13574 [05:19<00:02, 2074.30it/s, now=None]"
     ]
    },
    {
     "name": "stdout",
     "output_type": "stream",
     "text": [
      "MoviePy - Writing audio in /home/j/MusicAputitude/HOTEI/mp3_data/Identity (New Mix).mp3\n"
     ]
    },
    {
     "name": "stderr",
     "output_type": "stream",
     "text": [
      "chunk:  64%|██████▍   | 8686/13574 [05:22<00:02, 2074.30it/s, now=None]"
     ]
    },
    {
     "name": "stdout",
     "output_type": "stream",
     "text": [
      "MoviePy - Done.\n"
     ]
    },
    {
     "name": "stderr",
     "output_type": "stream",
     "text": [
      "chunk:  64%|██████▍   | 8686/13574 [05:23<00:02, 2074.30it/s, now=None]"
     ]
    },
    {
     "name": "stdout",
     "output_type": "stream",
     "text": [
      "MoviePy - Writing audio in /home/j/MusicAputitude/HOTEI/mp3_data/Bambina (2016 Remastered).mp3\n"
     ]
    },
    {
     "name": "stderr",
     "output_type": "stream",
     "text": [
      "chunk:  64%|██████▍   | 8686/13574 [05:26<00:02, 2074.30it/s, now=None]"
     ]
    },
    {
     "name": "stdout",
     "output_type": "stream",
     "text": [
      "MoviePy - Done.\n"
     ]
    },
    {
     "name": "stderr",
     "output_type": "stream",
     "text": [
      "chunk:  64%|██████▍   | 8686/13574 [05:27<00:02, 2074.30it/s, now=None]"
     ]
    },
    {
     "name": "stdout",
     "output_type": "stream",
     "text": [
      "MoviePy - Writing audio in /home/j/MusicAputitude/HOTEI/mp3_data/8 Beats' Silhouette.mp3\n"
     ]
    },
    {
     "name": "stderr",
     "output_type": "stream",
     "text": [
      "chunk:  64%|██████▍   | 8686/13574 [05:30<00:02, 2074.30it/s, now=None]"
     ]
    },
    {
     "name": "stdout",
     "output_type": "stream",
     "text": [
      "MoviePy - Done.\n"
     ]
    },
    {
     "name": "stderr",
     "output_type": "stream",
     "text": [
      "chunk:  64%|██████▍   | 8686/13574 [05:31<00:02, 2074.30it/s, now=None]"
     ]
    },
    {
     "name": "stdout",
     "output_type": "stream",
     "text": [
      "MoviePy - Writing audio in /home/j/MusicAputitude/HOTEI/mp3_data/Beat Emotion.mp3\n"
     ]
    },
    {
     "name": "stderr",
     "output_type": "stream",
     "text": [
      "chunk:  64%|██████▍   | 8686/13574 [05:34<00:02, 2074.30it/s, now=None]"
     ]
    },
    {
     "name": "stdout",
     "output_type": "stream",
     "text": [
      "MoviePy - Done.\n"
     ]
    },
    {
     "name": "stderr",
     "output_type": "stream",
     "text": [
      "chunk:  64%|██████▍   | 8686/13574 [05:35<00:02, 2074.30it/s, now=None]"
     ]
    },
    {
     "name": "stdout",
     "output_type": "stream",
     "text": [
      "MoviePy - Writing audio in /home/j/MusicAputitude/HOTEI/mp3_data/Cyber City Never Sleeps (2016 Remastered).mp3\n"
     ]
    },
    {
     "name": "stderr",
     "output_type": "stream",
     "text": [
      "chunk:  64%|██████▍   | 8686/13574 [05:37<00:02, 2074.30it/s, now=None]"
     ]
    },
    {
     "name": "stdout",
     "output_type": "stream",
     "text": [
      "MoviePy - Done.\n"
     ]
    },
    {
     "name": "stderr",
     "output_type": "stream",
     "text": [
      "chunk:  64%|██████▍   | 8686/13574 [05:38<00:02, 2074.30it/s, now=None]"
     ]
    },
    {
     "name": "stdout",
     "output_type": "stream",
     "text": [
      "MoviePy - Writing audio in /home/j/MusicAputitude/HOTEI/mp3_data/Poison (2016 Remastered).mp3\n"
     ]
    },
    {
     "name": "stderr",
     "output_type": "stream",
     "text": [
      "chunk:  64%|██████▍   | 8686/13574 [05:41<00:02, 2074.30it/s, now=None]"
     ]
    },
    {
     "name": "stdout",
     "output_type": "stream",
     "text": [
      "MoviePy - Done.\n"
     ]
    },
    {
     "name": "stderr",
     "output_type": "stream",
     "text": [
      "chunk:  64%|██████▍   | 8686/13574 [05:42<00:02, 2074.30it/s, now=None]"
     ]
    },
    {
     "name": "stdout",
     "output_type": "stream",
     "text": [
      "MoviePy - Writing audio in /home/j/MusicAputitude/HOTEI/mp3_data/Still Alive (2016 Remastered).mp3\n"
     ]
    },
    {
     "name": "stderr",
     "output_type": "stream",
     "text": [
      "chunk:  64%|██████▍   | 8686/13574 [05:44<00:02, 2074.30it/s, now=None]"
     ]
    },
    {
     "name": "stdout",
     "output_type": "stream",
     "text": [
      "MoviePy - Done.\n"
     ]
    },
    {
     "name": "stderr",
     "output_type": "stream",
     "text": [
      "chunk:  64%|██████▍   | 8686/13574 [05:45<00:02, 2074.30it/s, now=None]"
     ]
    },
    {
     "name": "stdout",
     "output_type": "stream",
     "text": [
      "MoviePy - Writing audio in /home/j/MusicAputitude/HOTEI/mp3_data/Diving With My Car (2016 Remastered  Red Zone Version).mp3\n"
     ]
    },
    {
     "name": "stderr",
     "output_type": "stream",
     "text": [
      "chunk:  64%|██████▍   | 8686/13574 [05:48<00:02, 2074.30it/s, now=None]"
     ]
    },
    {
     "name": "stdout",
     "output_type": "stream",
     "text": [
      "MoviePy - Done.\n"
     ]
    },
    {
     "name": "stderr",
     "output_type": "stream",
     "text": [
      "chunk:  64%|██████▍   | 8686/13574 [05:49<00:02, 2074.30it/s, now=None]"
     ]
    },
    {
     "name": "stdout",
     "output_type": "stream",
     "text": [
      "MoviePy - Writing audio in /home/j/MusicAputitude/HOTEI/mp3_data/Nocturne No. 9.mp3\n"
     ]
    },
    {
     "name": "stderr",
     "output_type": "stream",
     "text": [
      "chunk:  64%|██████▍   | 8686/13574 [05:52<00:02, 2074.30it/s, now=None]"
     ]
    },
    {
     "name": "stdout",
     "output_type": "stream",
     "text": [
      "MoviePy - Done.\n"
     ]
    },
    {
     "name": "stderr",
     "output_type": "stream",
     "text": [
      "chunk:  64%|██████▍   | 8686/13574 [05:53<00:02, 2074.30it/s, now=None]"
     ]
    },
    {
     "name": "stdout",
     "output_type": "stream",
     "text": [
      "MoviePy - Writing audio in /home/j/MusicAputitude/HOTEI/mp3_data/Thrill (2016 Remastered).mp3\n"
     ]
    },
    {
     "name": "stderr",
     "output_type": "stream",
     "text": [
      "chunk:  64%|██████▍   | 8686/13574 [05:56<00:02, 2074.30it/s, now=None]"
     ]
    },
    {
     "name": "stdout",
     "output_type": "stream",
     "text": [
      "MoviePy - Done.\n"
     ]
    },
    {
     "name": "stderr",
     "output_type": "stream",
     "text": [
      "chunk:  64%|██████▍   | 8686/13574 [05:56<00:02, 2074.30it/s, now=None]"
     ]
    },
    {
     "name": "stdout",
     "output_type": "stream",
     "text": [
      "MoviePy - Writing audio in /home/j/MusicAputitude/HOTEI/mp3_data/Captain Rock (2016 Remastered).mp3\n"
     ]
    },
    {
     "name": "stderr",
     "output_type": "stream",
     "text": [
      "chunk:  64%|██████▍   | 8686/13574 [05:59<00:02, 2074.30it/s, now=None]"
     ]
    },
    {
     "name": "stdout",
     "output_type": "stream",
     "text": [
      "MoviePy - Done.\n"
     ]
    },
    {
     "name": "stderr",
     "output_type": "stream",
     "text": [
      "chunk:  64%|██████▍   | 8686/13574 [06:00<00:02, 2074.30it/s, now=None]"
     ]
    },
    {
     "name": "stdout",
     "output_type": "stream",
     "text": [
      "MoviePy - Writing audio in /home/j/MusicAputitude/HOTEI/mp3_data/Change Yourself! (2016 Remastered).mp3\n"
     ]
    },
    {
     "name": "stderr",
     "output_type": "stream",
     "text": [
      "chunk:  64%|██████▍   | 8686/13574 [06:03<00:02, 2074.30it/s, now=None]"
     ]
    },
    {
     "name": "stdout",
     "output_type": "stream",
     "text": [
      "MoviePy - Done.\n"
     ]
    },
    {
     "name": "stderr",
     "output_type": "stream",
     "text": [
      "chunk:  64%|██████▍   | 8686/13574 [06:04<00:02, 2074.30it/s, now=None]"
     ]
    },
    {
     "name": "stdout",
     "output_type": "stream",
     "text": [
      "MoviePy - Writing audio in /home/j/MusicAputitude/HOTEI/mp3_data/Kaze No Ginga E (2016 Remastered).mp3\n"
     ]
    },
    {
     "name": "stderr",
     "output_type": "stream",
     "text": [
      "chunk:  64%|██████▍   | 8686/13574 [06:07<00:02, 2074.30it/s, now=None]"
     ]
    },
    {
     "name": "stdout",
     "output_type": "stream",
     "text": [
      "MoviePy - Done.\n"
     ]
    },
    {
     "name": "stderr",
     "output_type": "stream",
     "text": [
      "chunk:  64%|██████▍   | 8686/13574 [06:08<00:02, 2074.30it/s, now=None]"
     ]
    },
    {
     "name": "stdout",
     "output_type": "stream",
     "text": [
      "MoviePy - Writing audio in /home/j/MusicAputitude/HOTEI/mp3_data/Circus (2016 Remastered).mp3\n"
     ]
    },
    {
     "name": "stderr",
     "output_type": "stream",
     "text": [
      "chunk:  64%|██████▍   | 8686/13574 [06:11<00:02, 2074.30it/s, now=None]"
     ]
    },
    {
     "name": "stdout",
     "output_type": "stream",
     "text": [
      "MoviePy - Done.\n"
     ]
    },
    {
     "name": "stderr",
     "output_type": "stream",
     "text": [
      "chunk:  64%|██████▍   | 8686/13574 [06:12<00:02, 2074.30it/s, now=None]"
     ]
    },
    {
     "name": "stdout",
     "output_type": "stream",
     "text": [
      "MoviePy - Writing audio in /home/j/MusicAputitude/HOTEI/mp3_data/Don't Give Up! (2016 Remastered).mp3\n"
     ]
    },
    {
     "name": "stderr",
     "output_type": "stream",
     "text": [
      "chunk:  64%|██████▍   | 8686/13574 [06:15<00:02, 2074.30it/s, now=None]"
     ]
    },
    {
     "name": "stdout",
     "output_type": "stream",
     "text": [
      "MoviePy - Done.\n"
     ]
    },
    {
     "name": "stderr",
     "output_type": "stream",
     "text": [
      "chunk:  64%|██████▍   | 8686/13574 [06:16<00:02, 2074.30it/s, now=None]"
     ]
    },
    {
     "name": "stdout",
     "output_type": "stream",
     "text": [
      "MoviePy - Writing audio in /home/j/MusicAputitude/HOTEI/mp3_data/Russian Roulette (2016 Remastered).mp3\n"
     ]
    },
    {
     "name": "stderr",
     "output_type": "stream",
     "text": [
      "chunk:  64%|██████▍   | 8686/13574 [06:18<00:02, 2074.30it/s, now=None]"
     ]
    },
    {
     "name": "stdout",
     "output_type": "stream",
     "text": [
      "MoviePy - Done.\n"
     ]
    },
    {
     "name": "stderr",
     "output_type": "stream",
     "text": [
      "chunk:  64%|██████▍   | 8686/13574 [06:19<00:02, 2074.30it/s, now=None]"
     ]
    },
    {
     "name": "stdout",
     "output_type": "stream",
     "text": [
      "MoviePy - Writing audio in /home/j/MusicAputitude/HOTEI/mp3_data/Identity (2016 Remastered).mp3\n"
     ]
    },
    {
     "name": "stderr",
     "output_type": "stream",
     "text": [
      "chunk:  64%|██████▍   | 8686/13574 [06:22<00:02, 2074.30it/s, now=None]"
     ]
    },
    {
     "name": "stdout",
     "output_type": "stream",
     "text": [
      "MoviePy - Done.\n"
     ]
    },
    {
     "name": "stderr",
     "output_type": "stream",
     "text": [
      "chunk:  64%|██████▍   | 8686/13574 [06:23<00:02, 2074.30it/s, now=None]"
     ]
    },
    {
     "name": "stdout",
     "output_type": "stream",
     "text": [
      "MoviePy - Writing audio in /home/j/MusicAputitude/HOTEI/mp3_data/Arashigaoka (2016 Remastered).mp3\n"
     ]
    },
    {
     "name": "stderr",
     "output_type": "stream",
     "text": [
      "chunk:  64%|██████▍   | 8686/13574 [06:26<00:02, 2074.30it/s, now=None]"
     ]
    },
    {
     "name": "stdout",
     "output_type": "stream",
     "text": [
      "MoviePy - Done.\n"
     ]
    },
    {
     "name": "stderr",
     "output_type": "stream",
     "text": [
      "chunk:  64%|██████▍   | 8686/13574 [06:27<00:02, 2074.30it/s, now=None]"
     ]
    },
    {
     "name": "stdout",
     "output_type": "stream",
     "text": [
      "MoviePy - Writing audio in /home/j/MusicAputitude/HOTEI/mp3_data/Lonely Wild.mp3\n"
     ]
    },
    {
     "name": "stderr",
     "output_type": "stream",
     "text": [
      "chunk:  64%|██████▍   | 8686/13574 [06:30<00:02, 2074.30it/s, now=None]"
     ]
    },
    {
     "name": "stdout",
     "output_type": "stream",
     "text": [
      "MoviePy - Done.\n"
     ]
    },
    {
     "name": "stderr",
     "output_type": "stream",
     "text": [
      "chunk:  64%|██████▍   | 8686/13574 [06:31<00:02, 2074.30it/s, now=None]"
     ]
    },
    {
     "name": "stdout",
     "output_type": "stream",
     "text": [
      "MoviePy - Writing audio in /home/j/MusicAputitude/HOTEI/mp3_data/Saraba Seishun No Hikari (2016 Remastered).mp3\n"
     ]
    },
    {
     "name": "stderr",
     "output_type": "stream",
     "text": [
      "chunk:  64%|██████▍   | 8686/13574 [06:33<00:02, 2074.30it/s, now=None]"
     ]
    },
    {
     "name": "stdout",
     "output_type": "stream",
     "text": [
      "MoviePy - Done.\n"
     ]
    },
    {
     "name": "stderr",
     "output_type": "stream",
     "text": [
      "chunk:  64%|██████▍   | 8686/13574 [06:35<00:02, 2074.30it/s, now=None]"
     ]
    },
    {
     "name": "stdout",
     "output_type": "stream",
     "text": [
      "MoviePy - Writing audio in /home/j/MusicAputitude/HOTEI/mp3_data/You (2016 Remastered).mp3\n"
     ]
    },
    {
     "name": "stderr",
     "output_type": "stream",
     "text": [
      "chunk:  64%|██████▍   | 8686/13574 [06:38<00:02, 2074.30it/s, now=None]"
     ]
    },
    {
     "name": "stdout",
     "output_type": "stream",
     "text": [
      "MoviePy - Done.\n"
     ]
    },
    {
     "name": "stderr",
     "output_type": "stream",
     "text": [
      "chunk:  64%|██████▍   | 8686/13574 [06:39<00:02, 2074.30it/s, now=None]"
     ]
    },
    {
     "name": "stdout",
     "output_type": "stream",
     "text": [
      "MoviePy - Writing audio in /home/j/MusicAputitude/HOTEI/mp3_data/Last Scene (2016 Remastered).mp3\n"
     ]
    },
    {
     "name": "stderr",
     "output_type": "stream",
     "text": [
      "chunk:  64%|██████▍   | 8686/13574 [06:43<00:02, 2074.30it/s, now=None]"
     ]
    },
    {
     "name": "stdout",
     "output_type": "stream",
     "text": [
      "MoviePy - Done.\n"
     ]
    },
    {
     "name": "stderr",
     "output_type": "stream",
     "text": [
      "chunk:  64%|██████▍   | 8686/13574 [06:44<00:02, 2074.30it/s, now=None]"
     ]
    },
    {
     "name": "stdout",
     "output_type": "stream",
     "text": [
      "MoviePy - Writing audio in /home/j/MusicAputitude/HOTEI/mp3_data/Promise (2016 Remastered).mp3\n"
     ]
    },
    {
     "name": "stderr",
     "output_type": "stream",
     "text": [
      "chunk:  64%|██████▍   | 8686/13574 [06:47<00:02, 2074.30it/s, now=None]"
     ]
    },
    {
     "name": "stdout",
     "output_type": "stream",
     "text": [
      "MoviePy - Done.\n"
     ]
    },
    {
     "name": "stderr",
     "output_type": "stream",
     "text": [
      "chunk:  64%|██████▍   | 8686/13574 [06:48<00:02, 2074.30it/s, now=None]"
     ]
    },
    {
     "name": "stdout",
     "output_type": "stream",
     "text": [
      "MoviePy - Writing audio in /home/j/MusicAputitude/HOTEI/mp3_data/Surrender (2016 Remastered).mp3\n"
     ]
    },
    {
     "name": "stderr",
     "output_type": "stream",
     "text": [
      "chunk:  64%|██████▍   | 8686/13574 [06:52<00:02, 2074.30it/s, now=None]"
     ]
    },
    {
     "name": "stdout",
     "output_type": "stream",
     "text": [
      "MoviePy - Done.\n"
     ]
    },
    {
     "name": "stderr",
     "output_type": "stream",
     "text": [
      "chunk:  64%|██████▍   | 8686/13574 [06:53<00:02, 2074.30it/s, now=None]"
     ]
    },
    {
     "name": "stdout",
     "output_type": "stream",
     "text": [
      "MoviePy - Writing audio in /home/j/MusicAputitude/HOTEI/mp3_data/Nobody Is Perfect (2016 Remastered).mp3\n"
     ]
    },
    {
     "name": "stderr",
     "output_type": "stream",
     "text": [
      "chunk:  64%|██████▍   | 8686/13574 [06:56<00:02, 2074.30it/s, now=None]"
     ]
    },
    {
     "name": "stdout",
     "output_type": "stream",
     "text": [
      "MoviePy - Done.\n"
     ]
    },
    {
     "name": "stderr",
     "output_type": "stream",
     "text": [
      "chunk:  64%|██████▍   | 8686/13574 [06:57<00:02, 2074.30it/s, now=None]"
     ]
    },
    {
     "name": "stdout",
     "output_type": "stream",
     "text": [
      "MoviePy - Writing audio in /home/j/MusicAputitude/HOTEI/mp3_data/Come Rain Come Shine (2016 Remastered).mp3\n"
     ]
    },
    {
     "name": "stderr",
     "output_type": "stream",
     "text": [
      "chunk:  64%|██████▍   | 8686/13574 [06:59<00:02, 2074.30it/s, now=None]"
     ]
    },
    {
     "name": "stdout",
     "output_type": "stream",
     "text": [
      "MoviePy - Done.\n"
     ]
    },
    {
     "name": "stderr",
     "output_type": "stream",
     "text": [
      "chunk:  64%|██████▍   | 8686/13574 [07:00<00:02, 2074.30it/s, now=None]"
     ]
    },
    {
     "name": "stdout",
     "output_type": "stream",
     "text": [
      "MoviePy - Writing audio in /home/j/MusicAputitude/HOTEI/mp3_data/Dancing With The Moonlight (2016 Remastered).mp3\n"
     ]
    },
    {
     "name": "stderr",
     "output_type": "stream",
     "text": [
      "chunk:  64%|██████▍   | 8686/13574 [07:03<00:02, 2074.30it/s, now=None]"
     ]
    },
    {
     "name": "stdout",
     "output_type": "stream",
     "text": [
      "MoviePy - Done.\n"
     ]
    },
    {
     "name": "stderr",
     "output_type": "stream",
     "text": [
      "chunk:  64%|██████▍   | 8686/13574 [07:04<00:02, 2074.30it/s, now=None]"
     ]
    },
    {
     "name": "stdout",
     "output_type": "stream",
     "text": [
      "MoviePy - Writing audio in /home/j/MusicAputitude/HOTEI/mp3_data/Inochi Wa Moyashi Tsukusu Tame No Mono (2016 Remastered).mp3\n"
     ]
    },
    {
     "name": "stderr",
     "output_type": "stream",
     "text": [
      "chunk:  64%|██████▍   | 8686/13574 [07:08<00:02, 2074.30it/s, now=None]"
     ]
    },
    {
     "name": "stdout",
     "output_type": "stream",
     "text": [
      "MoviePy - Done.\n"
     ]
    },
    {
     "name": "stderr",
     "output_type": "stream",
     "text": [
      "chunk:  64%|██████▍   | 8686/13574 [07:09<00:02, 2074.30it/s, now=None]"
     ]
    },
    {
     "name": "stdout",
     "output_type": "stream",
     "text": [
      "MoviePy - Writing audio in /home/j/MusicAputitude/HOTEI/mp3_data/Born To Be Free (2016 Remastered).mp3\n"
     ]
    },
    {
     "name": "stderr",
     "output_type": "stream",
     "text": [
      "chunk:  64%|██████▍   | 8686/13574 [07:12<00:02, 2074.30it/s, now=None]"
     ]
    },
    {
     "name": "stdout",
     "output_type": "stream",
     "text": [
      "MoviePy - Done.\n"
     ]
    },
    {
     "name": "stderr",
     "output_type": "stream",
     "text": [
      "chunk:  64%|██████▍   | 8686/13574 [07:13<00:02, 2074.30it/s, now=None]"
     ]
    },
    {
     "name": "stdout",
     "output_type": "stream",
     "text": [
      "MoviePy - Writing audio in /home/j/MusicAputitude/HOTEI/mp3_data/Escape (2016 Remastered).mp3\n"
     ]
    },
    {
     "name": "stderr",
     "output_type": "stream",
     "text": [
      "chunk:  64%|██████▍   | 8686/13574 [07:16<00:02, 2074.30it/s, now=None]"
     ]
    },
    {
     "name": "stdout",
     "output_type": "stream",
     "text": [
      "MoviePy - Done.\n"
     ]
    },
    {
     "name": "stderr",
     "output_type": "stream",
     "text": [
      "chunk:  64%|██████▍   | 8686/13574 [07:17<00:02, 2074.30it/s, now=None]"
     ]
    },
    {
     "name": "stdout",
     "output_type": "stream",
     "text": [
      "MoviePy - Writing audio in /home/j/MusicAputitude/HOTEI/mp3_data/Glorious Days (2016 Remastered).mp3\n"
     ]
    },
    {
     "name": "stderr",
     "output_type": "stream",
     "text": [
      "chunk:  64%|██████▍   | 8686/13574 [07:19<00:02, 2074.30it/s, now=None]"
     ]
    },
    {
     "name": "stdout",
     "output_type": "stream",
     "text": [
      "MoviePy - Done.\n"
     ]
    },
    {
     "name": "stderr",
     "output_type": "stream",
     "text": [
      "chunk:  64%|██████▍   | 8686/13574 [07:20<00:02, 2074.30it/s, now=None]"
     ]
    },
    {
     "name": "stdout",
     "output_type": "stream",
     "text": [
      "MoviePy - Writing audio in /home/j/MusicAputitude/HOTEI/mp3_data/Fly Into Your Dream (2016 Remastered).mp3\n"
     ]
    },
    {
     "name": "stderr",
     "output_type": "stream",
     "text": [
      "chunk:  64%|██████▍   | 8686/13574 [07:24<00:02, 2074.30it/s, now=None]"
     ]
    },
    {
     "name": "stdout",
     "output_type": "stream",
     "text": [
      "MoviePy - Done.\n"
     ]
    },
    {
     "name": "stderr",
     "output_type": "stream",
     "text": [
      "chunk:  64%|██████▍   | 8686/13574 [07:25<00:02, 2074.30it/s, now=None]"
     ]
    },
    {
     "name": "stdout",
     "output_type": "stream",
     "text": [
      "MoviePy - Writing audio in /home/j/MusicAputitude/HOTEI/mp3_data/Dear My Love (2016 Remastered).mp3\n"
     ]
    },
    {
     "name": "stderr",
     "output_type": "stream",
     "text": [
      "chunk:  64%|██████▍   | 8686/13574 [07:29<00:02, 2074.30it/s, now=None]"
     ]
    },
    {
     "name": "stdout",
     "output_type": "stream",
     "text": [
      "MoviePy - Done.\n"
     ]
    },
    {
     "name": "stderr",
     "output_type": "stream",
     "text": [
      "chunk:  64%|██████▍   | 8686/13574 [07:30<00:02, 2074.30it/s, now=None]"
     ]
    },
    {
     "name": "stdout",
     "output_type": "stream",
     "text": [
      "MoviePy - Writing audio in /home/j/MusicAputitude/HOTEI/mp3_data/Battle Without Honor Or Humanity (2016 Remastered).mp3\n"
     ]
    },
    {
     "name": "stderr",
     "output_type": "stream",
     "text": [
      "chunk:  64%|██████▍   | 8686/13574 [07:31<00:02, 2074.30it/s, now=None]"
     ]
    },
    {
     "name": "stdout",
     "output_type": "stream",
     "text": [
      "MoviePy - Done.\n"
     ]
    },
    {
     "name": "stderr",
     "output_type": "stream",
     "text": [
      "chunk:  64%|██████▍   | 8686/13574 [07:32<00:02, 2074.30it/s, now=None]"
     ]
    },
    {
     "name": "stdout",
     "output_type": "stream",
     "text": [
      "MoviePy - Writing audio in /home/j/MusicAputitude/HOTEI/mp3_data/Starman (2016 Remastered).mp3\n"
     ]
    },
    {
     "name": "stderr",
     "output_type": "stream",
     "text": [
      "chunk:  64%|██████▍   | 8686/13574 [07:36<00:02, 2074.30it/s, now=None]"
     ]
    },
    {
     "name": "stdout",
     "output_type": "stream",
     "text": [
      "MoviePy - Done.\n"
     ]
    },
    {
     "name": "stderr",
     "output_type": "stream",
     "text": [
      "chunk:  64%|██████▍   | 8686/13574 [07:37<00:02, 2074.30it/s, now=None]"
     ]
    },
    {
     "name": "stdout",
     "output_type": "stream",
     "text": [
      "MoviePy - Writing audio in /home/j/MusicAputitude/HOTEI/mp3_data/Telegram Sam (2016 Remastered).mp3\n"
     ]
    },
    {
     "name": "stderr",
     "output_type": "stream",
     "text": [
      "chunk:  64%|██████▍   | 8686/13574 [07:39<00:02, 2074.30it/s, now=None]"
     ]
    },
    {
     "name": "stdout",
     "output_type": "stream",
     "text": [
      "MoviePy - Done.\n"
     ]
    },
    {
     "name": "stderr",
     "output_type": "stream",
     "text": [
      "chunk:  64%|██████▍   | 8686/13574 [07:40<00:02, 2074.30it/s, now=None]"
     ]
    },
    {
     "name": "stdout",
     "output_type": "stream",
     "text": [
      "MoviePy - Writing audio in /home/j/MusicAputitude/HOTEI/mp3_data/C'mon Everybody (2016 Remastered).mp3\n"
     ]
    },
    {
     "name": "stderr",
     "output_type": "stream",
     "text": [
      "chunk:  64%|██████▍   | 8686/13574 [07:42<00:02, 2074.30it/s, now=None]"
     ]
    },
    {
     "name": "stdout",
     "output_type": "stream",
     "text": [
      "MoviePy - Done.\n"
     ]
    },
    {
     "name": "stderr",
     "output_type": "stream",
     "text": [
      "chunk:  64%|██████▍   | 8686/13574 [07:43<00:02, 2074.30it/s, now=None]"
     ]
    },
    {
     "name": "stdout",
     "output_type": "stream",
     "text": [
      "MoviePy - Writing audio in /home/j/MusicAputitude/HOTEI/mp3_data/Mission: Impossible Theme (2016 Remastered).mp3\n"
     ]
    },
    {
     "name": "stderr",
     "output_type": "stream",
     "text": [
      "chunk:  64%|██████▍   | 8686/13574 [07:44<00:02, 2074.30it/s, now=None]"
     ]
    },
    {
     "name": "stdout",
     "output_type": "stream",
     "text": [
      "MoviePy - Done.\n"
     ]
    },
    {
     "name": "stderr",
     "output_type": "stream",
     "text": [
      "chunk:  64%|██████▍   | 8686/13574 [07:45<00:02, 2074.30it/s, now=None]"
     ]
    },
    {
     "name": "stdout",
     "output_type": "stream",
     "text": [
      "MoviePy - Writing audio in /home/j/MusicAputitude/HOTEI/mp3_data/Immigrant Song (2016 Remastered).mp3\n"
     ]
    },
    {
     "name": "stderr",
     "output_type": "stream",
     "text": [
      "chunk:  64%|██████▍   | 8686/13574 [07:47<00:02, 2074.30it/s, now=None]"
     ]
    },
    {
     "name": "stdout",
     "output_type": "stream",
     "text": [
      "MoviePy - Done.\n"
     ]
    },
    {
     "name": "stderr",
     "output_type": "stream",
     "text": [
      "chunk:  64%|██████▍   | 8686/13574 [07:48<00:02, 2074.30it/s, now=None]"
     ]
    },
    {
     "name": "stdout",
     "output_type": "stream",
     "text": [
      "MoviePy - Writing audio in /home/j/MusicAputitude/HOTEI/mp3_data/Materials (2016 Remastered).mp3\n"
     ]
    },
    {
     "name": "stderr",
     "output_type": "stream",
     "text": [
      "chunk:  64%|██████▍   | 8686/13574 [07:50<00:02, 2074.30it/s, now=None]"
     ]
    },
    {
     "name": "stdout",
     "output_type": "stream",
     "text": [
      "MoviePy - Done.\n"
     ]
    },
    {
     "name": "stderr",
     "output_type": "stream",
     "text": [
      "chunk:  64%|██████▍   | 8686/13574 [07:51<00:02, 2074.30it/s, now=None]"
     ]
    },
    {
     "name": "stdout",
     "output_type": "stream",
     "text": [
      "MoviePy - Writing audio in /home/j/MusicAputitude/HOTEI/mp3_data/How The Cookie Crumbles (2016 Remastered).mp3\n"
     ]
    },
    {
     "name": "stderr",
     "output_type": "stream",
     "text": [
      "chunk:  64%|██████▍   | 8686/13574 [07:52<00:02, 2074.30it/s, now=None]"
     ]
    },
    {
     "name": "stdout",
     "output_type": "stream",
     "text": [
      "MoviePy - Done.\n"
     ]
    },
    {
     "name": "stderr",
     "output_type": "stream",
     "text": [
      "chunk:  64%|██████▍   | 8686/13574 [07:53<00:02, 2074.30it/s, now=None]"
     ]
    },
    {
     "name": "stdout",
     "output_type": "stream",
     "text": [
      "MoviePy - Writing audio in /home/j/MusicAputitude/HOTEI/mp3_data/Back Streets Of Tokyo (2016 Remastered).mp3\n"
     ]
    },
    {
     "name": "stderr",
     "output_type": "stream",
     "text": [
      "chunk:  64%|██████▍   | 8686/13574 [07:56<00:02, 2074.30it/s, now=None]"
     ]
    },
    {
     "name": "stdout",
     "output_type": "stream",
     "text": [
      "MoviePy - Done.\n"
     ]
    },
    {
     "name": "stderr",
     "output_type": "stream",
     "text": [
      "chunk:  64%|██████▍   | 8686/13574 [07:57<00:02, 2074.30it/s, now=None]"
     ]
    },
    {
     "name": "stdout",
     "output_type": "stream",
     "text": [
      "MoviePy - Writing audio in /home/j/MusicAputitude/HOTEI/mp3_data/Trick Attack -Theme Of Lupin The Third- (2016 Remastered).mp3\n"
     ]
    },
    {
     "name": "stderr",
     "output_type": "stream",
     "text": [
      "chunk:  64%|██████▍   | 8686/13574 [07:59<00:02, 2074.30it/s, now=None]"
     ]
    },
    {
     "name": "stdout",
     "output_type": "stream",
     "text": [
      "MoviePy - Done.\n"
     ]
    },
    {
     "name": "stderr",
     "output_type": "stream",
     "text": [
      "chunk:  64%|██████▍   | 8686/13574 [08:00<00:02, 2074.30it/s, now=None]"
     ]
    },
    {
     "name": "stdout",
     "output_type": "stream",
     "text": [
      "MoviePy - Writing audio in /home/j/MusicAputitude/HOTEI/mp3_data/Howling (2016 Remastered).mp3\n"
     ]
    },
    {
     "name": "stderr",
     "output_type": "stream",
     "text": [
      "chunk:  64%|██████▍   | 8686/13574 [08:04<00:02, 2074.30it/s, now=None]"
     ]
    },
    {
     "name": "stdout",
     "output_type": "stream",
     "text": [
      "MoviePy - Done.\n"
     ]
    },
    {
     "name": "stderr",
     "output_type": "stream",
     "text": [
      "chunk:  64%|██████▍   | 8686/13574 [08:05<00:02, 2074.30it/s, now=None]"
     ]
    },
    {
     "name": "stdout",
     "output_type": "stream",
     "text": [
      "MoviePy - Writing audio in /home/j/MusicAputitude/HOTEI/mp3_data/Mirror Ball (2016 Remastered).mp3\n"
     ]
    },
    {
     "name": "stderr",
     "output_type": "stream",
     "text": [
      "chunk:  64%|██████▍   | 8686/13574 [08:08<00:02, 2074.30it/s, now=None]"
     ]
    },
    {
     "name": "stdout",
     "output_type": "stream",
     "text": [
      "MoviePy - Done.\n"
     ]
    },
    {
     "name": "stderr",
     "output_type": "stream",
     "text": [
      "chunk:  64%|██████▍   | 8686/13574 [08:08<00:02, 2074.30it/s, now=None]"
     ]
    },
    {
     "name": "stdout",
     "output_type": "stream",
     "text": [
      "MoviePy - Writing audio in /home/j/MusicAputitude/HOTEI/mp3_data/Departure (2016 Remastered).mp3\n"
     ]
    },
    {
     "name": "stderr",
     "output_type": "stream",
     "text": [
      "chunk:  64%|██████▍   | 8686/13574 [08:11<00:02, 2074.30it/s, now=None]"
     ]
    },
    {
     "name": "stdout",
     "output_type": "stream",
     "text": [
      "MoviePy - Done.\n"
     ]
    },
    {
     "name": "stderr",
     "output_type": "stream",
     "text": [
      "chunk:  64%|██████▍   | 8686/13574 [08:12<00:02, 2074.30it/s, now=None]"
     ]
    },
    {
     "name": "stdout",
     "output_type": "stream",
     "text": [
      "MoviePy - Writing audio in /home/j/MusicAputitude/HOTEI/mp3_data/Velvet Kiss (2016 Remastered).mp3\n"
     ]
    },
    {
     "name": "stderr",
     "output_type": "stream",
     "text": [
      "chunk:  64%|██████▍   | 8686/13574 [08:14<00:02, 2074.30it/s, now=None]"
     ]
    },
    {
     "name": "stdout",
     "output_type": "stream",
     "text": [
      "MoviePy - Done.\n"
     ]
    },
    {
     "name": "stderr",
     "output_type": "stream",
     "text": [
      "chunk:  64%|██████▍   | 8686/13574 [08:14<00:02, 2074.30it/s, now=None]"
     ]
    },
    {
     "name": "stdout",
     "output_type": "stream",
     "text": [
      "MoviePy - Writing audio in /home/j/MusicAputitude/HOTEI/mp3_data/Guitar Loves You (2016 Remastered).mp3\n"
     ]
    },
    {
     "name": "stderr",
     "output_type": "stream",
     "text": [
      "chunk:  64%|██████▍   | 8686/13574 [08:17<00:02, 2074.30it/s, now=None]"
     ]
    },
    {
     "name": "stdout",
     "output_type": "stream",
     "text": [
      "MoviePy - Done.\n"
     ]
    },
    {
     "name": "stderr",
     "output_type": "stream",
     "text": [
      "chunk:  64%|██████▍   | 8686/13574 [08:18<00:02, 2074.30it/s, now=None]"
     ]
    },
    {
     "name": "stdout",
     "output_type": "stream",
     "text": [
      "MoviePy - Writing audio in /home/j/MusicAputitude/HOTEI/mp3_data/Stereocaster (Soul Sessions Mix).mp3\n"
     ]
    },
    {
     "name": "stderr",
     "output_type": "stream",
     "text": [
      "chunk:  64%|██████▍   | 8686/13574 [08:20<00:02, 2074.30it/s, now=None]"
     ]
    },
    {
     "name": "stdout",
     "output_type": "stream",
     "text": [
      "MoviePy - Done.\n"
     ]
    }
   ],
   "source": [
    "import os\n",
    "from pytubefix import Playlist\n",
    "from moviepy.editor import AudioFileClip\n",
    "\n",
    "# アーティスト名(※　親フォルダ名として利用)\n",
    "artist = \"HOTEI\"\n",
    "# プレイリストのURL\n",
    "url = \"https://www.youtube.com/watch?v=gxxr9d1ePuE&list=PL4UMlWGx1pf7pAF2_dBI-sLthz8VPAGuX\"\n",
    "# 出力先フォルダ\n",
    "output_path = {\n",
    "    \"m4a\": f\"{artist}/m4a_data\",          # m4a\n",
    "    \"mp3\": f\"{artist}/mp3_data\"           # mp3\n",
    "}\n",
    "\n",
    "# 出力先フォルダのチェック（存在しない場合は、フォルダ作成）\n",
    "for path in output_path.values():\n",
    "    if not os.path.exists(path):\n",
    "        os.makedirs(path)\n",
    "\n",
    "# プレイリストの取得\n",
    "pl = Playlist(url)\n",
    "\n",
    "# プレイリストからオーディオデータ（m4a）をダウンロードして、mp3 へ変換\n",
    "for video in pl.videos:\n",
    "    # オーディオデータ（m4a）をダウンロード \n",
    "    ys = video.streams.get_audio_only()\n",
    "    temp_file = ys.download(output_path=output_path[\"m4a\"])\n",
    "\n",
    "    # mp3 へ変換\n",
    "    mp3_file_path = os.path.join(output_path[\"mp3\"], temp_file.rsplit(\"\\\\\")[-1].replace(\"m4a\", \"mp3\")) \n",
    "    audio_file_clip = AudioFileClip(temp_file)\n",
    "    audio_file_clip.write_audiofile(filename=mp3_file_path, codec=\"libmp3lame\")"
   ]
  },
  {
   "cell_type": "code",
   "execution_count": 8,
   "metadata": {},
   "outputs": [
    {
     "name": "stderr",
     "output_type": "stream",
     "text": [
      "chunk:  64%|██████▍   | 8686/13574 [00:22<00:02, 2074.30it/s, now=None]"
     ]
    },
    {
     "name": "stdout",
     "output_type": "stream",
     "text": [
      "MoviePy - Writing audio in /home/j/MusicAputitude/NAGABUCHI/mp3_data/順子.mp3\n"
     ]
    },
    {
     "name": "stderr",
     "output_type": "stream",
     "text": [
      "chunk:  64%|██████▍   | 8686/13574 [00:24<00:02, 2074.30it/s, now=None]"
     ]
    },
    {
     "name": "stdout",
     "output_type": "stream",
     "text": [
      "MoviePy - Done.\n"
     ]
    },
    {
     "name": "stderr",
     "output_type": "stream",
     "text": [
      "chunk:  64%|██████▍   | 8686/13574 [00:25<00:02, 2074.30it/s, now=None]"
     ]
    },
    {
     "name": "stdout",
     "output_type": "stream",
     "text": [
      "MoviePy - Writing audio in /home/j/MusicAputitude/NAGABUCHI/mp3_data/素顔.mp3\n"
     ]
    },
    {
     "name": "stderr",
     "output_type": "stream",
     "text": [
      "chunk:  64%|██████▍   | 8686/13574 [00:27<00:02, 2074.30it/s, now=None]"
     ]
    },
    {
     "name": "stdout",
     "output_type": "stream",
     "text": [
      "MoviePy - Done.\n"
     ]
    },
    {
     "name": "stderr",
     "output_type": "stream",
     "text": [
      "chunk:  64%|██████▍   | 8686/13574 [00:28<00:02, 2074.30it/s, now=None]"
     ]
    },
    {
     "name": "stdout",
     "output_type": "stream",
     "text": [
      "MoviePy - Writing audio in /home/j/MusicAputitude/NAGABUCHI/mp3_data/ふざけんじゃねぇ.mp3\n"
     ]
    },
    {
     "name": "stderr",
     "output_type": "stream",
     "text": [
      "chunk:  64%|██████▍   | 8686/13574 [00:32<00:02, 2074.30it/s, now=None]"
     ]
    },
    {
     "name": "stdout",
     "output_type": "stream",
     "text": [
      "MoviePy - Done.\n"
     ]
    },
    {
     "name": "stderr",
     "output_type": "stream",
     "text": [
      "chunk:  64%|██████▍   | 8686/13574 [00:33<00:02, 2074.30it/s, now=None]"
     ]
    },
    {
     "name": "stdout",
     "output_type": "stream",
     "text": [
      "MoviePy - Writing audio in /home/j/MusicAputitude/NAGABUCHI/mp3_data/乾杯.mp3\n"
     ]
    },
    {
     "name": "stderr",
     "output_type": "stream",
     "text": [
      "chunk:  64%|██████▍   | 8686/13574 [00:37<00:02, 2074.30it/s, now=None]"
     ]
    },
    {
     "name": "stdout",
     "output_type": "stream",
     "text": [
      "MoviePy - Done.\n"
     ]
    },
    {
     "name": "stderr",
     "output_type": "stream",
     "text": [
      "chunk:  64%|██████▍   | 8686/13574 [00:37<00:02, 2074.30it/s, now=None]"
     ]
    },
    {
     "name": "stdout",
     "output_type": "stream",
     "text": [
      "MoviePy - Writing audio in /home/j/MusicAputitude/NAGABUCHI/mp3_data/巡恋歌.mp3\n"
     ]
    },
    {
     "name": "stderr",
     "output_type": "stream",
     "text": [
      "chunk:  64%|██████▍   | 8686/13574 [00:39<00:02, 2074.30it/s, now=None]"
     ]
    },
    {
     "name": "stdout",
     "output_type": "stream",
     "text": [
      "MoviePy - Done.\n"
     ]
    },
    {
     "name": "stderr",
     "output_type": "stream",
     "text": [
      "chunk:  64%|██████▍   | 8686/13574 [00:40<00:02, 2074.30it/s, now=None]"
     ]
    },
    {
     "name": "stdout",
     "output_type": "stream",
     "text": [
      "MoviePy - Writing audio in /home/j/MusicAputitude/NAGABUCHI/mp3_data/STAY DREAM.mp3\n"
     ]
    },
    {
     "name": "stderr",
     "output_type": "stream",
     "text": [
      "chunk:  64%|██████▍   | 8686/13574 [00:44<00:02, 2074.30it/s, now=None]"
     ]
    },
    {
     "name": "stdout",
     "output_type": "stream",
     "text": [
      "MoviePy - Done.\n"
     ]
    },
    {
     "name": "stderr",
     "output_type": "stream",
     "text": [
      "chunk:  64%|██████▍   | 8686/13574 [00:44<00:02, 2074.30it/s, now=None]"
     ]
    },
    {
     "name": "stdout",
     "output_type": "stream",
     "text": [
      "MoviePy - Writing audio in /home/j/MusicAputitude/NAGABUCHI/mp3_data/俺らの家まで.mp3\n"
     ]
    },
    {
     "name": "stderr",
     "output_type": "stream",
     "text": [
      "chunk:  64%|██████▍   | 8686/13574 [00:47<00:02, 2074.30it/s, now=None]"
     ]
    },
    {
     "name": "stdout",
     "output_type": "stream",
     "text": [
      "MoviePy - Done.\n"
     ]
    },
    {
     "name": "stderr",
     "output_type": "stream",
     "text": [
      "chunk:  64%|██████▍   | 8686/13574 [00:48<00:02, 2074.30it/s, now=None]"
     ]
    },
    {
     "name": "stdout",
     "output_type": "stream",
     "text": [
      "MoviePy - Writing audio in /home/j/MusicAputitude/NAGABUCHI/mp3_data/くそったれの人生.mp3\n"
     ]
    },
    {
     "name": "stderr",
     "output_type": "stream",
     "text": [
      "chunk:  64%|██████▍   | 8686/13574 [00:50<00:02, 2074.30it/s, now=None]"
     ]
    },
    {
     "name": "stdout",
     "output_type": "stream",
     "text": [
      "MoviePy - Done.\n"
     ]
    },
    {
     "name": "stderr",
     "output_type": "stream",
     "text": [
      "chunk:  64%|██████▍   | 8686/13574 [00:51<00:02, 2074.30it/s, now=None]"
     ]
    },
    {
     "name": "stdout",
     "output_type": "stream",
     "text": [
      "MoviePy - Writing audio in /home/j/MusicAputitude/NAGABUCHI/mp3_data/GO STRAIGHT.mp3\n"
     ]
    },
    {
     "name": "stderr",
     "output_type": "stream",
     "text": [
      "chunk:  64%|██████▍   | 8686/13574 [00:53<00:02, 2074.30it/s, now=None]"
     ]
    },
    {
     "name": "stdout",
     "output_type": "stream",
     "text": [
      "MoviePy - Done.\n"
     ]
    },
    {
     "name": "stderr",
     "output_type": "stream",
     "text": [
      "chunk:  64%|██████▍   | 8686/13574 [00:54<00:02, 2074.30it/s, now=None]"
     ]
    },
    {
     "name": "stdout",
     "output_type": "stream",
     "text": [
      "MoviePy - Writing audio in /home/j/MusicAputitude/NAGABUCHI/mp3_data/いつかの少年.mp3\n"
     ]
    },
    {
     "name": "stderr",
     "output_type": "stream",
     "text": [
      "chunk:  64%|██████▍   | 8686/13574 [00:58<00:02, 2074.30it/s, now=None]"
     ]
    },
    {
     "name": "stdout",
     "output_type": "stream",
     "text": [
      "MoviePy - Done.\n"
     ]
    },
    {
     "name": "stderr",
     "output_type": "stream",
     "text": [
      "chunk:  64%|██████▍   | 8686/13574 [00:59<00:02, 2074.30it/s, now=None]"
     ]
    },
    {
     "name": "stdout",
     "output_type": "stream",
     "text": [
      "MoviePy - Writing audio in /home/j/MusicAputitude/NAGABUCHI/mp3_data/とんぼ.mp3\n"
     ]
    },
    {
     "name": "stderr",
     "output_type": "stream",
     "text": [
      "chunk:  64%|██████▍   | 8686/13574 [01:02<00:02, 2074.30it/s, now=None]"
     ]
    },
    {
     "name": "stdout",
     "output_type": "stream",
     "text": [
      "MoviePy - Done.\n"
     ]
    },
    {
     "name": "stderr",
     "output_type": "stream",
     "text": [
      "chunk:  64%|██████▍   | 8686/13574 [01:03<00:02, 2074.30it/s, now=None]"
     ]
    },
    {
     "name": "stdout",
     "output_type": "stream",
     "text": [
      "MoviePy - Writing audio in /home/j/MusicAputitude/NAGABUCHI/mp3_data/シェリー.mp3\n"
     ]
    },
    {
     "name": "stderr",
     "output_type": "stream",
     "text": [
      "chunk:  64%|██████▍   | 8686/13574 [01:07<00:02, 2074.30it/s, now=None]"
     ]
    },
    {
     "name": "stdout",
     "output_type": "stream",
     "text": [
      "MoviePy - Done.\n"
     ]
    },
    {
     "name": "stderr",
     "output_type": "stream",
     "text": [
      "chunk:  64%|██████▍   | 8686/13574 [01:08<00:02, 2074.30it/s, now=None]"
     ]
    },
    {
     "name": "stdout",
     "output_type": "stream",
     "text": [
      "MoviePy - Writing audio in /home/j/MusicAputitude/NAGABUCHI/mp3_data/激愛.mp3\n"
     ]
    },
    {
     "name": "stderr",
     "output_type": "stream",
     "text": [
      "chunk:  64%|██████▍   | 8686/13574 [01:12<00:02, 2074.30it/s, now=None]"
     ]
    },
    {
     "name": "stdout",
     "output_type": "stream",
     "text": [
      "MoviePy - Done.\n"
     ]
    },
    {
     "name": "stderr",
     "output_type": "stream",
     "text": [
      "chunk:  64%|██████▍   | 8686/13574 [01:13<00:02, 2074.30it/s, now=None]"
     ]
    },
    {
     "name": "stdout",
     "output_type": "stream",
     "text": [
      "MoviePy - Writing audio in /home/j/MusicAputitude/NAGABUCHI/mp3_data/NEVER CHANGE.mp3\n"
     ]
    },
    {
     "name": "stderr",
     "output_type": "stream",
     "text": [
      "chunk:  64%|██████▍   | 8686/13574 [01:16<00:02, 2074.30it/s, now=None]"
     ]
    },
    {
     "name": "stdout",
     "output_type": "stream",
     "text": [
      "MoviePy - Done.\n"
     ]
    },
    {
     "name": "stderr",
     "output_type": "stream",
     "text": [
      "chunk:  64%|██████▍   | 8686/13574 [01:17<00:02, 2074.30it/s, now=None]"
     ]
    },
    {
     "name": "stdout",
     "output_type": "stream",
     "text": [
      "MoviePy - Writing audio in /home/j/MusicAputitude/NAGABUCHI/mp3_data/昭和.mp3\n"
     ]
    },
    {
     "name": "stderr",
     "output_type": "stream",
     "text": [
      "chunk:  64%|██████▍   | 8686/13574 [01:21<00:02, 2074.30it/s, now=None]"
     ]
    },
    {
     "name": "stdout",
     "output_type": "stream",
     "text": [
      "MoviePy - Done.\n"
     ]
    },
    {
     "name": "stderr",
     "output_type": "stream",
     "text": [
      "chunk:  64%|██████▍   | 8686/13574 [01:22<00:02, 2074.30it/s, now=None]"
     ]
    },
    {
     "name": "stdout",
     "output_type": "stream",
     "text": [
      "MoviePy - Writing audio in /home/j/MusicAputitude/NAGABUCHI/mp3_data/とんぼ.mp3\n"
     ]
    },
    {
     "name": "stderr",
     "output_type": "stream",
     "text": [
      "chunk:  64%|██████▍   | 8686/13574 [01:26<00:02, 2074.30it/s, now=None]"
     ]
    },
    {
     "name": "stdout",
     "output_type": "stream",
     "text": [
      "MoviePy - Done.\n"
     ]
    },
    {
     "name": "stderr",
     "output_type": "stream",
     "text": [
      "chunk:  64%|██████▍   | 8686/13574 [01:26<00:02, 2074.30it/s, now=None]"
     ]
    },
    {
     "name": "stdout",
     "output_type": "stream",
     "text": [
      "MoviePy - Writing audio in /home/j/MusicAputitude/NAGABUCHI/mp3_data/泣いてチンピラ.mp3\n"
     ]
    },
    {
     "name": "stderr",
     "output_type": "stream",
     "text": [
      "chunk:  64%|██████▍   | 8686/13574 [01:29<00:02, 2074.30it/s, now=None]"
     ]
    },
    {
     "name": "stdout",
     "output_type": "stream",
     "text": [
      "MoviePy - Done.\n"
     ]
    },
    {
     "name": "stderr",
     "output_type": "stream",
     "text": [
      "chunk:  64%|██████▍   | 8686/13574 [01:30<00:02, 2074.30it/s, now=None]"
     ]
    },
    {
     "name": "stdout",
     "output_type": "stream",
     "text": [
      "MoviePy - Writing audio in /home/j/MusicAputitude/NAGABUCHI/mp3_data/ろくなもんじゃねえ.mp3\n"
     ]
    },
    {
     "name": "stderr",
     "output_type": "stream",
     "text": [
      "chunk:  64%|██████▍   | 8686/13574 [01:33<00:02, 2074.30it/s, now=None]"
     ]
    },
    {
     "name": "stdout",
     "output_type": "stream",
     "text": [
      "MoviePy - Done.\n"
     ]
    },
    {
     "name": "stderr",
     "output_type": "stream",
     "text": [
      "chunk:  64%|██████▍   | 8686/13574 [01:34<00:02, 2074.30it/s, now=None]"
     ]
    },
    {
     "name": "stdout",
     "output_type": "stream",
     "text": [
      "MoviePy - Writing audio in /home/j/MusicAputitude/NAGABUCHI/mp3_data/僕のギターにはいつもHEAVY GAUGE.mp3\n"
     ]
    },
    {
     "name": "stderr",
     "output_type": "stream",
     "text": [
      "chunk:  64%|██████▍   | 8686/13574 [01:37<00:02, 2074.30it/s, now=None]"
     ]
    },
    {
     "name": "stdout",
     "output_type": "stream",
     "text": [
      "MoviePy - Done.\n"
     ]
    },
    {
     "name": "stderr",
     "output_type": "stream",
     "text": [
      "chunk:  64%|██████▍   | 8686/13574 [01:38<00:02, 2074.30it/s, now=None]"
     ]
    },
    {
     "name": "stdout",
     "output_type": "stream",
     "text": [
      "MoviePy - Writing audio in /home/j/MusicAputitude/NAGABUCHI/mp3_data/孤独なハート.mp3\n"
     ]
    },
    {
     "name": "stderr",
     "output_type": "stream",
     "text": [
      "chunk:  64%|██████▍   | 8686/13574 [01:40<00:02, 2074.30it/s, now=None]"
     ]
    },
    {
     "name": "stdout",
     "output_type": "stream",
     "text": [
      "MoviePy - Done.\n"
     ]
    },
    {
     "name": "stderr",
     "output_type": "stream",
     "text": [
      "chunk:  64%|██████▍   | 8686/13574 [01:41<00:02, 2074.30it/s, now=None]"
     ]
    },
    {
     "name": "stdout",
     "output_type": "stream",
     "text": [
      "MoviePy - Writing audio in /home/j/MusicAputitude/NAGABUCHI/mp3_data/人間になりてえ.mp3\n"
     ]
    },
    {
     "name": "stderr",
     "output_type": "stream",
     "text": [
      "chunk:  64%|██████▍   | 8686/13574 [01:45<00:02, 2074.30it/s, now=None]"
     ]
    },
    {
     "name": "stdout",
     "output_type": "stream",
     "text": [
      "MoviePy - Done.\n"
     ]
    },
    {
     "name": "stderr",
     "output_type": "stream",
     "text": [
      "chunk:  64%|██████▍   | 8686/13574 [01:46<00:02, 2074.30it/s, now=None]"
     ]
    },
    {
     "name": "stdout",
     "output_type": "stream",
     "text": [
      "MoviePy - Writing audio in /home/j/MusicAputitude/NAGABUCHI/mp3_data/RUN.mp3\n"
     ]
    },
    {
     "name": "stderr",
     "output_type": "stream",
     "text": [
      "chunk:  64%|██████▍   | 8686/13574 [01:50<00:02, 2074.30it/s, now=None]"
     ]
    },
    {
     "name": "stdout",
     "output_type": "stream",
     "text": [
      "MoviePy - Done.\n"
     ]
    },
    {
     "name": "stderr",
     "output_type": "stream",
     "text": [
      "chunk:  64%|██████▍   | 8686/13574 [01:52<00:02, 2074.30it/s, now=None]"
     ]
    },
    {
     "name": "stdout",
     "output_type": "stream",
     "text": [
      "MoviePy - Writing audio in /home/j/MusicAputitude/NAGABUCHI/mp3_data/Captain of the Ship.mp3\n"
     ]
    },
    {
     "name": "stderr",
     "output_type": "stream",
     "text": [
      "chunk:  64%|██████▍   | 8686/13574 [02:00<00:02, 2074.30it/s, now=None]"
     ]
    },
    {
     "name": "stdout",
     "output_type": "stream",
     "text": [
      "MoviePy - Done.\n"
     ]
    },
    {
     "name": "stderr",
     "output_type": "stream",
     "text": [
      "chunk:  64%|██████▍   | 8686/13574 [02:01<00:02, 2074.30it/s, now=None]"
     ]
    },
    {
     "name": "stdout",
     "output_type": "stream",
     "text": [
      "MoviePy - Writing audio in /home/j/MusicAputitude/NAGABUCHI/mp3_data/激愛.mp3\n"
     ]
    },
    {
     "name": "stderr",
     "output_type": "stream",
     "text": [
      "chunk:  64%|██████▍   | 8686/13574 [02:05<00:02, 2074.30it/s, now=None]"
     ]
    },
    {
     "name": "stdout",
     "output_type": "stream",
     "text": [
      "MoviePy - Done.\n"
     ]
    },
    {
     "name": "stderr",
     "output_type": "stream",
     "text": [
      "chunk:  64%|██████▍   | 8686/13574 [02:05<00:02, 2074.30it/s, now=None]"
     ]
    },
    {
     "name": "stdout",
     "output_type": "stream",
     "text": [
      "MoviePy - Writing audio in /home/j/MusicAputitude/NAGABUCHI/mp3_data/俺らの家まで.mp3\n"
     ]
    },
    {
     "name": "stderr",
     "output_type": "stream",
     "text": [
      "chunk:  64%|██████▍   | 8686/13574 [02:08<00:02, 2074.30it/s, now=None]"
     ]
    },
    {
     "name": "stdout",
     "output_type": "stream",
     "text": [
      "MoviePy - Done.\n"
     ]
    },
    {
     "name": "stderr",
     "output_type": "stream",
     "text": [
      "chunk:  64%|██████▍   | 8686/13574 [02:09<00:02, 2074.30it/s, now=None]"
     ]
    },
    {
     "name": "stdout",
     "output_type": "stream",
     "text": [
      "MoviePy - Writing audio in /home/j/MusicAputitude/NAGABUCHI/mp3_data/勇次.mp3\n"
     ]
    },
    {
     "name": "stderr",
     "output_type": "stream",
     "text": [
      "chunk:  64%|██████▍   | 8686/13574 [02:12<00:02, 2074.30it/s, now=None]"
     ]
    },
    {
     "name": "stdout",
     "output_type": "stream",
     "text": [
      "MoviePy - Done.\n"
     ]
    },
    {
     "name": "stderr",
     "output_type": "stream",
     "text": [
      "chunk:  64%|██████▍   | 8686/13574 [02:13<00:02, 2074.30it/s, now=None]"
     ]
    },
    {
     "name": "stdout",
     "output_type": "stream",
     "text": [
      "MoviePy - Writing audio in /home/j/MusicAputitude/NAGABUCHI/mp3_data/お家へかえろう.mp3\n"
     ]
    },
    {
     "name": "stderr",
     "output_type": "stream",
     "text": [
      "chunk:  64%|██████▍   | 8686/13574 [02:17<00:02, 2074.30it/s, now=None]"
     ]
    },
    {
     "name": "stdout",
     "output_type": "stream",
     "text": [
      "MoviePy - Done.\n"
     ]
    },
    {
     "name": "stderr",
     "output_type": "stream",
     "text": [
      "chunk:  64%|██████▍   | 8686/13574 [02:18<00:02, 2074.30it/s, now=None]"
     ]
    },
    {
     "name": "stdout",
     "output_type": "stream",
     "text": [
      "MoviePy - Writing audio in /home/j/MusicAputitude/NAGABUCHI/mp3_data/しょっぱい三日月の夜.mp3\n"
     ]
    },
    {
     "name": "stderr",
     "output_type": "stream",
     "text": [
      "chunk:  64%|██████▍   | 8686/13574 [02:21<00:02, 2074.30it/s, now=None]"
     ]
    },
    {
     "name": "stdout",
     "output_type": "stream",
     "text": [
      "MoviePy - Done.\n"
     ]
    },
    {
     "name": "stderr",
     "output_type": "stream",
     "text": [
      "chunk:  64%|██████▍   | 8686/13574 [02:22<00:02, 2074.30it/s, now=None]"
     ]
    },
    {
     "name": "stdout",
     "output_type": "stream",
     "text": [
      "MoviePy - Writing audio in /home/j/MusicAputitude/NAGABUCHI/mp3_data/JEEP.mp3\n"
     ]
    },
    {
     "name": "stderr",
     "output_type": "stream",
     "text": [
      "chunk:  64%|██████▍   | 8686/13574 [02:25<00:02, 2074.30it/s, now=None]"
     ]
    },
    {
     "name": "stdout",
     "output_type": "stream",
     "text": [
      "MoviePy - Done.\n"
     ]
    },
    {
     "name": "stderr",
     "output_type": "stream",
     "text": [
      "chunk:  64%|██████▍   | 8686/13574 [02:25<00:02, 2074.30it/s, now=None]"
     ]
    },
    {
     "name": "stdout",
     "output_type": "stream",
     "text": [
      "MoviePy - Writing audio in /home/j/MusicAputitude/NAGABUCHI/mp3_data/Myself.mp3\n"
     ]
    },
    {
     "name": "stderr",
     "output_type": "stream",
     "text": [
      "chunk:  64%|██████▍   | 8686/13574 [02:29<00:02, 2074.30it/s, now=None]"
     ]
    },
    {
     "name": "stdout",
     "output_type": "stream",
     "text": [
      "MoviePy - Done.\n"
     ]
    },
    {
     "name": "stderr",
     "output_type": "stream",
     "text": [
      "chunk:  64%|██████▍   | 8686/13574 [02:30<00:02, 2074.30it/s, now=None]"
     ]
    },
    {
     "name": "stdout",
     "output_type": "stream",
     "text": [
      "MoviePy - Writing audio in /home/j/MusicAputitude/NAGABUCHI/mp3_data/三羽ガラス.mp3\n"
     ]
    },
    {
     "name": "stderr",
     "output_type": "stream",
     "text": [
      "chunk:  64%|██████▍   | 8686/13574 [02:33<00:02, 2074.30it/s, now=None]"
     ]
    },
    {
     "name": "stdout",
     "output_type": "stream",
     "text": [
      "MoviePy - Done.\n"
     ]
    },
    {
     "name": "stderr",
     "output_type": "stream",
     "text": [
      "chunk:  64%|██████▍   | 8686/13574 [02:34<00:02, 2074.30it/s, now=None]"
     ]
    },
    {
     "name": "stdout",
     "output_type": "stream",
     "text": [
      "MoviePy - Writing audio in /home/j/MusicAputitude/NAGABUCHI/mp3_data/一匹の侍.mp3\n"
     ]
    },
    {
     "name": "stderr",
     "output_type": "stream",
     "text": [
      "chunk:  64%|██████▍   | 8686/13574 [02:37<00:02, 2074.30it/s, now=None]"
     ]
    },
    {
     "name": "stdout",
     "output_type": "stream",
     "text": [
      "MoviePy - Done.\n"
     ]
    },
    {
     "name": "stderr",
     "output_type": "stream",
     "text": [
      "chunk:  64%|██████▍   | 8686/13574 [02:39<00:02, 2074.30it/s, now=None]"
     ]
    },
    {
     "name": "stdout",
     "output_type": "stream",
     "text": [
      "MoviePy - Writing audio in /home/j/MusicAputitude/NAGABUCHI/mp3_data/家族.mp3\n"
     ]
    },
    {
     "name": "stderr",
     "output_type": "stream",
     "text": [
      "chunk:  64%|██████▍   | 8686/13574 [02:45<00:02, 2074.30it/s, now=None]"
     ]
    },
    {
     "name": "stdout",
     "output_type": "stream",
     "text": [
      "MoviePy - Done.\n"
     ]
    },
    {
     "name": "stderr",
     "output_type": "stream",
     "text": [
      "chunk:  64%|██████▍   | 8686/13574 [02:46<00:02, 2074.30it/s, now=None]"
     ]
    },
    {
     "name": "stdout",
     "output_type": "stream",
     "text": [
      "MoviePy - Writing audio in /home/j/MusicAputitude/NAGABUCHI/mp3_data/GOOD-BYE青春.mp3\n"
     ]
    },
    {
     "name": "stderr",
     "output_type": "stream",
     "text": [
      "chunk:  64%|██████▍   | 8686/13574 [02:48<00:02, 2074.30it/s, now=None]"
     ]
    },
    {
     "name": "stdout",
     "output_type": "stream",
     "text": [
      "MoviePy - Done.\n"
     ]
    },
    {
     "name": "stderr",
     "output_type": "stream",
     "text": [
      "chunk:  64%|██████▍   | 8686/13574 [02:49<00:02, 2074.30it/s, now=None]"
     ]
    },
    {
     "name": "stdout",
     "output_type": "stream",
     "text": [
      "MoviePy - Writing audio in /home/j/MusicAputitude/NAGABUCHI/mp3_data/TIME GOES AROUND.mp3\n"
     ]
    },
    {
     "name": "stderr",
     "output_type": "stream",
     "text": [
      "chunk:  64%|██████▍   | 8686/13574 [02:52<00:02, 2074.30it/s, now=None]"
     ]
    },
    {
     "name": "stdout",
     "output_type": "stream",
     "text": [
      "MoviePy - Done.\n"
     ]
    },
    {
     "name": "stderr",
     "output_type": "stream",
     "text": [
      "chunk:  64%|██████▍   | 8686/13574 [02:52<00:02, 2074.30it/s, now=None]"
     ]
    },
    {
     "name": "stdout",
     "output_type": "stream",
     "text": [
      "MoviePy - Writing audio in /home/j/MusicAputitude/NAGABUCHI/mp3_data/HOLD YOUR LAST CHANCE.mp3\n"
     ]
    },
    {
     "name": "stderr",
     "output_type": "stream",
     "text": [
      "chunk:  64%|██████▍   | 8686/13574 [02:55<00:02, 2074.30it/s, now=None]"
     ]
    },
    {
     "name": "stdout",
     "output_type": "stream",
     "text": [
      "MoviePy - Done.\n"
     ]
    },
    {
     "name": "stderr",
     "output_type": "stream",
     "text": [
      "chunk:  64%|██████▍   | 8686/13574 [02:56<00:02, 2074.30it/s, now=None]"
     ]
    },
    {
     "name": "stdout",
     "output_type": "stream",
     "text": [
      "MoviePy - Writing audio in /home/j/MusicAputitude/NAGABUCHI/mp3_data/JAPAN.mp3\n"
     ]
    },
    {
     "name": "stderr",
     "output_type": "stream",
     "text": [
      "chunk:  64%|██████▍   | 8686/13574 [03:00<00:02, 2074.30it/s, now=None]"
     ]
    },
    {
     "name": "stdout",
     "output_type": "stream",
     "text": [
      "MoviePy - Done.\n"
     ]
    },
    {
     "name": "stderr",
     "output_type": "stream",
     "text": [
      "chunk:  64%|██████▍   | 8686/13574 [03:01<00:02, 2074.30it/s, now=None]"
     ]
    },
    {
     "name": "stdout",
     "output_type": "stream",
     "text": [
      "MoviePy - Writing audio in /home/j/MusicAputitude/NAGABUCHI/mp3_data/しゃぼん玉.mp3\n"
     ]
    },
    {
     "name": "stderr",
     "output_type": "stream",
     "text": [
      "chunk:  64%|██████▍   | 8686/13574 [03:04<00:02, 2074.30it/s, now=None]"
     ]
    },
    {
     "name": "stdout",
     "output_type": "stream",
     "text": [
      "MoviePy - Done.\n"
     ]
    },
    {
     "name": "stderr",
     "output_type": "stream",
     "text": [
      "chunk:  64%|██████▍   | 8686/13574 [03:06<00:02, 2074.30it/s, now=None]"
     ]
    },
    {
     "name": "stdout",
     "output_type": "stream",
     "text": [
      "MoviePy - Writing audio in /home/j/MusicAputitude/NAGABUCHI/mp3_data/MOTHER.mp3\n"
     ]
    },
    {
     "name": "stderr",
     "output_type": "stream",
     "text": [
      "chunk:  64%|██████▍   | 8686/13574 [03:11<00:02, 2074.30it/s, now=None]"
     ]
    },
    {
     "name": "stdout",
     "output_type": "stream",
     "text": [
      "MoviePy - Done.\n"
     ]
    },
    {
     "name": "stderr",
     "output_type": "stream",
     "text": [
      "chunk:  64%|██████▍   | 8686/13574 [03:11<00:02, 2074.30it/s, now=None]"
     ]
    },
    {
     "name": "stdout",
     "output_type": "stream",
     "text": [
      "MoviePy - Writing audio in /home/j/MusicAputitude/NAGABUCHI/mp3_data/SUPER STAR.mp3\n"
     ]
    },
    {
     "name": "stderr",
     "output_type": "stream",
     "text": [
      "chunk:  64%|██████▍   | 8686/13574 [03:14<00:02, 2074.30it/s, now=None]"
     ]
    },
    {
     "name": "stdout",
     "output_type": "stream",
     "text": [
      "MoviePy - Done.\n"
     ]
    }
   ],
   "source": [
    "import os\n",
    "from pytubefix import Playlist\n",
    "from moviepy.editor import AudioFileClip\n",
    "\n",
    "# アーティスト名(※　親フォルダ名として利用)\n",
    "artist = \"NAGABUCHI\"\n",
    "# プレイリストのURL\n",
    "url = \"https://www.youtube.com/watch?v=BuxgYzunZsc&list=PLQhVyHtUuOZZW5uA7IhonERyqxAe6cNFh\"\n",
    "# 出力先フォルダ\n",
    "output_path = {\n",
    "    \"m4a\": f\"{artist}/m4a_data\",          # m4a\n",
    "    \"mp3\": f\"{artist}/mp3_data\"           # mp3\n",
    "}\n",
    "\n",
    "# 出力先フォルダのチェック（存在しない場合は、フォルダ作成）\n",
    "for path in output_path.values():\n",
    "    if not os.path.exists(path):\n",
    "        os.makedirs(path)\n",
    "\n",
    "# プレイリストの取得\n",
    "pl = Playlist(url)\n",
    "\n",
    "# プレイリストからオーディオデータ（m4a）をダウンロードして、mp3 へ変換\n",
    "for video in pl.videos:\n",
    "    # オーディオデータ（m4a）をダウンロード \n",
    "    ys = video.streams.get_audio_only()\n",
    "    temp_file = ys.download(output_path=output_path[\"m4a\"])\n",
    "\n",
    "    # mp3 へ変換\n",
    "    mp3_file_path = os.path.join(output_path[\"mp3\"], temp_file.rsplit(\"\\\\\")[-1].replace(\"m4a\", \"mp3\")) \n",
    "    audio_file_clip = AudioFileClip(temp_file)\n",
    "    audio_file_clip.write_audiofile(filename=mp3_file_path, codec=\"libmp3lame\")"
   ]
  }
 ],
 "metadata": {
  "kernelspec": {
   "display_name": "py310",
   "language": "python",
   "name": "py310"
  },
  "language_info": {
   "codemirror_mode": {
    "name": "ipython",
    "version": 3
   },
   "file_extension": ".py",
   "mimetype": "text/x-python",
   "name": "python",
   "nbconvert_exporter": "python",
   "pygments_lexer": "ipython3",
   "version": "3.10.12"
  }
 },
 "nbformat": 4,
 "nbformat_minor": 2
}
